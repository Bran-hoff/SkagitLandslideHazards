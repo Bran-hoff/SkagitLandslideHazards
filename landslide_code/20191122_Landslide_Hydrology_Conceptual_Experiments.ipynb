{
 "cells": [
  {
   "cell_type": "markdown",
   "metadata": {},
   "source": [
    "\n",
    "# Landlab Landslide Probability Model with Saturation \n",
    "\n",
    "<img src=\"https://www.washington.edu/brand/files/2014/09/W-Logo_Purple_Hex.png\" style=\"float:right;width:200px;padding:20px\">   \n",
    "\n",
    "\n",
    "<br />\n",
    "This Jupyter Notebook runs the Landlab LandslideProbability component on a synthetic \n",
    "Landlab grid using four depth to water table options to replace recharge options described in the paper: <br />\n",
    "#### Strauch et al. 2018. A hydro-climatological approach to predicting regional landslide probability using Landlab. Earth Surface Dynamics, 6, 1-26. <br /> \n",
    "This notebook performs the following functions:<br >\n",
    "* Import libraries and set HydroShare variables<br />\n",
    "* Create a grid and data fields used to calculate landslide probability<br />\n",
    "* Specify Depth to Water Table Distributions to compare four options<br /> \n",
    "* Run LandslideProbability function from Landlab landslide component<br /> \n",
    "* Compare the sensitivity based on four Depth to Water Table options<br /> \n",
    "\n"
   ]
  },
  {
   "cell_type": "markdown",
   "metadata": {},
   "source": [
    "## 1.  HydroShare Setup and Preparation\n",
    "\n",
    "To run this notebook, we must import several libraries.\n",
    "The hs_utils library provides functions for interacting with HydroShare, including resource querying, dowloading, and creation.  Additional libraries support the functions of Landlab. "
   ]
  },
  {
   "cell_type": "code",
   "execution_count": 8,
   "metadata": {},
   "outputs": [
    {
     "name": "stdout",
     "output_type": "stream",
     "text": [
      "Ignore deprecation warnings\n",
      "Successfully established a connection with HydroShare\n",
      "Successfully established a connection with HydroShare\n",
      "Data will be loaded from and saved to:/home/jovyan/work/notebooks/data/4cac25933f6448409cab97b293129b4f/4cac25933f6448409cab97b293129b4f/data/contents\n",
      "/home/jovyan/work/notebooks/data/4cac25933f6448409cab97b293129b4f/4cac25933f6448409cab97b293129b4f/data/contents\n"
     ]
    }
   ],
   "source": [
    "#import Python utilities for calculating and plotting\n",
    "import six\n",
    "import os\n",
    "import matplotlib as mpl\n",
    "mpl.use('agg')\n",
    "import matplotlib.pyplot as plt\n",
    "%matplotlib inline\n",
    "import numpy as np\n",
    "\n",
    "print('Ignore deprecation warnings')\n",
    "warnings.filterwarnings(action='ignore', category=DeprecationWarning)\n",
    "\n",
    "#import utilities for importing and exporting to HydroShare\n",
    "from utilities import hydroshare\n",
    "# set variables for interacting with HydroShare from this notebook\n",
    "hs=hydroshare.hydroshare()\n",
    "# Create object to map the home directory\n",
    "hs=hydroshare.hydroshare()\n",
    "homedir = os.getcwd()\n",
    "print('Data will be loaded from and saved to:'+homedir)\n",
    "os.chdir('/home/jovyan/work/notebooks/data/4cac25933f6448409cab97b293129b4f/4cac25933f6448409cab97b293129b4f/data/contents')\n",
    "print(homedir)\n",
    "\n",
    "# Import Landlab libraries\n",
    "import landslide_probability\n",
    "from landslide_probability_20191122 import LandslideProbability\n",
    "from landlab import RasterModelGrid\n",
    "from landlab import imshow_grid_at_node\n"
   ]
  },
  {
   "cell_type": "markdown",
   "metadata": {},
   "source": [
    "If you are curious about where the data is being downloaded, click on the Jupyter Notebook dashboard icon to see a File System view.  The homedir directory location printed above is where you can find the data and contents you will download to a HydroShare JupyterHub server.  At the end of this work session, you can migrate this data to the HydroShare iRods server as a Generic Resource. "
   ]
  },
  {
   "cell_type": "markdown",
   "metadata": {},
   "source": [
    "## Create a grid and data fields used to calculate landslide probability"
   ]
  },
  {
   "cell_type": "markdown",
   "metadata": {},
   "source": [
    "This example uses a synthetic model domain. As a first example, make a synthetic grid with 5 rows and 4 columns space 0.2 units apart.   <br /> \n",
    "##### Synthetic Grid Restart opportunity: After completing this entire notebook, go to the Dashboard, Kernal, and select Restart and Clear Output.  Execute the code from the beginning, but change the cell below to the rows, columns, and spacing of your choice.  "
   ]
  },
  {
   "cell_type": "code",
   "execution_count": 9,
   "metadata": {},
   "outputs": [],
   "source": [
    "grid = RasterModelGrid((5, 4), spacing=(0.2, 0.2))"
   ]
  },
  {
   "cell_type": "markdown",
   "metadata": {},
   "source": [
    "Confirm the size of the grid"
   ]
  },
  {
   "cell_type": "code",
   "execution_count": 10,
   "metadata": {},
   "outputs": [
    {
     "data": {
      "text/plain": [
       "20"
      ]
     },
     "execution_count": 10,
     "metadata": {},
     "output_type": "execute_result"
    }
   ],
   "source": [
    "grid.number_of_nodes"
   ]
  },
  {
   "cell_type": "markdown",
   "metadata": {},
   "source": [
    "To see what the grid id of our nodes are, execute the command below.  However, note that this command gives you the rows of the grid, but these are technically up-side-down from how the RasterModelGrid nodes are numbered (e.g,. node id 0 is at the bottom left corner of the grid). "
   ]
  },
  {
   "cell_type": "code",
   "execution_count": 11,
   "metadata": {},
   "outputs": [
    {
     "data": {
      "text/plain": [
       "array([[ 0,  1,  2,  3],\n",
       "       [ 4,  5,  6,  7],\n",
       "       [ 8,  9, 10, 11],\n",
       "       [12, 13, 14, 15],\n",
       "       [16, 17, 18, 19]])"
      ]
     },
     "execution_count": 11,
     "metadata": {},
     "output_type": "execute_result"
    }
   ],
   "source": [
    "grid.nodes"
   ]
  },
  {
   "cell_type": "markdown",
   "metadata": {},
   "source": [
    "We can also see how many core nodes we have (i.e., the nodes that calculations are performed on) in the center of the grid...not the edges, which are 'closed nodes'. Compare this array to the full grid above.  Asign these to the variable 'core_nodes' so we can use these later."
   ]
  },
  {
   "cell_type": "markdown",
   "metadata": {},
   "source": [
    "Now we will create the required fields for the landslide component and add data as fields to the grid.  Thus, the data arrays will need to be as the length of the number of nodes.<br /> \n",
    "##### Data Fields Restart opportunity: After completing this entire notebook, go to the Dashboard, Kernal, and select Restart and Clear Output.  Execute the code from the beginning, but change the cell below to the data inputs of your choice.  "
   ]
  },
  {
   "cell_type": "code",
   "execution_count": 12,
   "metadata": {},
   "outputs": [],
   "source": [
    "gridnodes = grid.number_of_nodes\n",
    "grid_size = grid.number_of_nodes\n",
    "\n",
    "grid['node']['soil__density']= \\\n",
    "         2000. * np.ones(gridnodes)\n",
    "\n",
    "grid['node']['soil__internal_friction_angle']= \\\n",
    "         np.sort(np.random.randint(26, 37, gridnodes))\n",
    "\n",
    "grid['node']['soil__mode_total_cohesion']= \\\n",
    "         np.sort(np.random.randint(30, 900, gridnodes))\n",
    "    \n",
    "scatter_dat = np.random.randint(1, 10, gridnodes)    \n",
    "grid['node']['soil__maximum_total_cohesion']= \\\n",
    "         grid.at_node['soil__mode_total_cohesion'] + scatter_dat\n",
    "\n",
    "grid['node']['soil__minimum_total_cohesion']= \\\n",
    "         grid.at_node['soil__mode_total_cohesion'] - scatter_dat\n",
    "\n",
    "grid['node']['soil__thickness']= \\\n",
    "         np.sort(np.random.randint(1, 10, gridnodes))\n",
    "\n",
    "grid['node']['soil__transmissivity']= \\\n",
    "         np.sort(np.random.randint(5, 20, gridnodes),-1)\n",
    "        \n",
    "grid['node']['topographic__slope'] = np.random.rand(gridnodes)\n",
    "\n",
    "grid['node']['topographic__specific_contributing_area']= \\\n",
    "         np.sort(np.random.randint(30, 900, gridnodes))"
   ]
  },
  {
   "cell_type": "markdown",
   "metadata": {},
   "source": [
    "Let's see what one of these fields (slope) looks like on the grid."
   ]
  },
  {
   "cell_type": "code",
   "execution_count": 15,
   "metadata": {},
   "outputs": [
    {
     "data": {
      "image/png": "[encoded data removed]",
      "text/plain": [
       "<Figure size 432x288 with 2 Axes>"
      ]
     },
     "metadata": {},
     "output_type": "display_data"
    }
   ],
   "source": [
    "plt.figure('Slope')\n",
    "imshow_grid_at_node(grid,'topographic__slope', cmap='copper_r',\n",
    "                 grid_units=('coordinates', 'coordinates'), shrink=0.75,\n",
    "                 var_name='Slope', var_units='m/m')\n",
    "plt.savefig('Slope.png')"
   ]
  },
  {
   "cell_type": "code",
   "execution_count": 17,
   "metadata": {},
   "outputs": [
    {
     "data": {
      "text/plain": [
       "array([1, 2, 2, 2, 2, 3, 3, 4, 4, 5, 6, 7, 7, 8, 8, 8, 8, 9, 9, 9])"
      ]
     },
     "execution_count": 17,
     "metadata": {},
     "output_type": "execute_result"
    }
   ],
   "source": [
    "grid['node']['soil__thickness']"
   ]
  },
  {
   "cell_type": "code",
   "execution_count": 16,
   "metadata": {},
   "outputs": [
    {
     "data": {
      "text/plain": [
       "5.3499999999999996"
      ]
     },
     "execution_count": 16,
     "metadata": {},
     "output_type": "execute_result"
    }
   ],
   "source": [
    "np.mean(grid['node']['soil__thickness'])"
   ]
  },
  {
   "cell_type": "markdown",
   "metadata": {},
   "source": [
    "## Relative wetness calculated from Depth to Water Table"
   ]
  },
  {
   "cell_type": "code",
   "execution_count": 23,
   "metadata": {},
   "outputs": [
    {
     "name": "stdout",
     "output_type": "stream",
     "text": [
      "Depth to water table distribution\n",
      "[ 2.4426411   2.11309587  4.47938199  3.57753432  4.94374672  3.68491481\n",
      "  2.67251199  4.18433648  3.43773181  2.60424211  3.60368008  4.54069203\n",
      "  4.93824221  3.2884353   3.37682835  4.76004143  4.35500286  2.7962739\n",
      "  3.95164906  2.5881454   4.02274071  4.33898487  4.9486785   3.11864476\n",
      "  2.82649524  4.21778813  2.39482184  3.87232283  4.1096377   4.76753506\n",
      "  2.86321008  3.73822177  3.74345486  3.43800463  2.80141909  3.58291524\n",
      "  3.37670331  4.78840277  2.46699351  2.29535942  3.61300738  4.10818632\n",
      "  4.70471041  2.14728958  4.65768334  4.46222733  2.51312232  2.67758432\n",
      "  2.12782961  2.50779575]\n",
      "Mean depth to water table from uniform distribution\n",
      "3.55141797025\n",
      "Mean Depth to water table - uniform fpr all nodes\n",
      "[ 3.55141797  3.55141797  3.55141797  3.55141797  3.55141797  3.55141797\n",
      "  3.55141797  3.55141797  3.55141797  3.55141797  3.55141797  3.55141797\n",
      "  3.55141797  3.55141797  3.55141797  3.55141797  3.55141797  3.55141797\n",
      "  3.55141797  3.55141797]\n"
     ]
    }
   ],
   "source": [
    "n=50\n",
    "Demin_value = 2 \n",
    "Demax_value = 5\n",
    "distribution1 = 'uniform'\n",
    "depth_dist = np.random.uniform(Demin_value, Demax_value,size=n)\n",
    "print('Depth to water table distribution')\n",
    "print(depth_dist)\n",
    "\n",
    "mean_depth=np.mean(depth_dist)\n",
    "grid['node']['soil__mean_watertable_depth']=mean_depth* np.ones(gridnodes)\n",
    "\n",
    "print('Mean depth to water table from uniform distribution')\n",
    "print(mean_depth)\n",
    "print('Mean Depth to water table - uniform fpr all nodes')\n",
    "print(grid['node']['soil__mean_watertable_depth'])"
   ]
  },
  {
   "cell_type": "code",
   "execution_count": 28,
   "metadata": {},
   "outputs": [
    {
     "name": "stdout",
     "output_type": "stream",
     "text": [
      "Height of water (hw)\n",
      "[-2.55141797 -1.55141797 -1.55141797 -1.55141797 -1.55141797 -0.55141797\n",
      " -0.55141797  0.44858203  0.44858203  1.44858203  2.44858203  3.44858203\n",
      "  3.44858203  4.44858203  4.44858203  4.44858203  4.44858203  5.44858203\n",
      "  5.44858203  5.44858203]\n"
     ]
    }
   ],
   "source": [
    "hw=grid['node']['soil__thickness']-grid['node']['soil__mean_watertable_depth']\n",
    "print('Height of water (hw)')\n",
    "print(hw)"
   ]
  },
  {
   "cell_type": "code",
   "execution_count": 29,
   "metadata": {},
   "outputs": [
    {
     "name": "stdout",
     "output_type": "stream",
     "text": [
      "Height of water (hw)corrected for saturated conditions limited to soil thickness\n",
      "[ 1.          2.          2.          2.          2.          3.          3.\n",
      "  0.44858203  0.44858203  1.44858203  2.44858203  3.44858203  3.44858203\n",
      "  4.44858203  4.44858203  4.44858203  4.44858203  5.44858203  5.44858203\n",
      "  5.44858203]\n"
     ]
    }
   ],
   "source": [
    "hw[np.where(hw<0)] = grid['node']['soil__thickness'][np.where(hw<0)]\n",
    "print('Height of water (hw)corrected for saturated conditions limited to soil thickness')\n",
    "print(hw)"
   ]
  },
  {
   "cell_type": "code",
   "execution_count": 32,
   "metadata": {},
   "outputs": [
    {
     "data": {
      "text/plain": [
       "array([ 1.        ,  1.        ,  1.        ,  1.        ,  1.        ,\n",
       "        1.        ,  1.        ,  0.11214551,  0.11214551,  0.28971641,\n",
       "        0.408097  ,  0.49265458,  0.49265458,  0.55607275,  0.55607275,\n",
       "        0.55607275,  0.55607275,  0.605398  ,  0.605398  ,  0.605398  ])"
      ]
     },
     "execution_count": 32,
     "metadata": {},
     "output_type": "execute_result"
    }
   ],
   "source": [
    "grid['node']['relative_wetness_d']= hw/grid['node']['soil__thickness']\n",
    "\n",
    "grid['node']['relative_wetness_d']"
   ]
  },
  {
   "cell_type": "code",
   "execution_count": 33,
   "metadata": {},
   "outputs": [
    {
     "data": {
      "image/png": "[encoded data removed]",
      "text/plain": [
       "<Figure size 432x288 with 2 Axes>"
      ]
     },
     "metadata": {},
     "output_type": "display_data"
    }
   ],
   "source": [
    "plt.figure('Water Table Depth')\n",
    "imshow_grid_at_node(grid,'relative_wetness_d', cmap='YlGnBu',\n",
    "                 grid_units=('coordinates', 'coordinates'), shrink=0.75,\n",
    "                 var_name='RW Depth', var_units='m')\n",
    "plt.savefig('rw.png')"
   ]
  },
  {
   "cell_type": "markdown",
   "metadata": {},
   "source": [
    "## Relative wetness calculated from Recharge"
   ]
  },
  {
   "cell_type": "code",
   "execution_count": 61,
   "metadata": {},
   "outputs": [
    {
     "name": "stdout",
     "output_type": "stream",
     "text": [
      "Recharge distribution\n",
      "[  9.63656503   5.98176602  14.36640941   8.96972732  19.55157954\n",
      "   7.00991668  11.32150187   9.97064374   5.73470147   5.8783746\n",
      "  11.07117464  15.55608532  16.91949104  11.94587106  10.00077517\n",
      "  15.12148177   5.8708695   16.26595197  12.67803017  13.32867345\n",
      "  15.21060813   7.34274832   5.26690779   8.17426638  13.23131135\n",
      "   8.69852555  13.07075983  16.24922362   7.10983351  19.43591756\n",
      "  15.54508297  15.67230628  13.18267179   6.20028618  17.69638214\n",
      "   7.38547611  15.56701209  10.75600973  10.23862252   7.397258\n",
      "  12.54941467  12.94095034  16.46878681  15.95951472  16.71300959\n",
      "  10.30568855   9.8819176   12.73751484  14.34818469  16.32358266]\n",
      "Mean recharge from uniform distribution\n",
      "0.011976787282\n",
      "Mean Recharge - uniform fpr all nodes\n",
      "[ 0.01197679  0.01197679  0.01197679  0.01197679  0.01197679  0.01197679\n",
      "  0.01197679  0.01197679  0.01197679  0.01197679  0.01197679  0.01197679\n",
      "  0.01197679  0.01197679  0.01197679  0.01197679  0.01197679  0.01197679\n",
      "  0.01197679  0.01197679]\n"
     ]
    }
   ],
   "source": [
    "n=50\n",
    "Remin_value = 5\n",
    "Remax_value = 20\n",
    "distribution1 = 'uniform'\n",
    "recharge_dist = np.random.uniform(Remin_value, Remax_value,size=n)\n",
    "print('Recharge distribution')\n",
    "print(recharge_dist)# values in mm\n",
    "mean_recharge=np.mean(recharge_dist)/1000#convert mm to meters\n",
    "print('Mean recharge from uniform distribution')\n",
    "print(mean_recharge)\n",
    "grid['node']['soil__mean_recharge']=mean_recharge* np.ones(gridnodes)\n",
    "print('Mean Recharge - uniform fpr all nodes')\n",
    "print(grid['node']['soil__mean_recharge'])"
   ]
  },
  {
   "cell_type": "code",
   "execution_count": 62,
   "metadata": {},
   "outputs": [
    {
     "name": "stdout",
     "output_type": "stream",
     "text": [
      "Water input to each cell\n",
      "[  0.73058402   2.01210026   2.10791456   2.55105569   3.07803433\n",
      "   5.54525251   5.78478826   5.97641685   5.98839364   6.00037043\n",
      "   6.33572047   7.00642056   7.04235092   8.08433142   8.50351897\n",
      "   9.44968517   9.6053834    9.96468702  10.22817634  10.32399064]\n"
     ]
    }
   ],
   "source": [
    "water_input=grid['node']['soil__mean_recharge']*grid['node']['topographic__specific_contributing_area']\n",
    "print('Water input to each cell')\n",
    "print(water_input)"
   ]
  },
  {
   "cell_type": "code",
   "execution_count": 63,
   "metadata": {},
   "outputs": [
    {
     "name": "stdout",
     "output_type": "stream",
     "text": [
      "Water holding capacity of each cell\n",
      "[  3.16846323   3.36244697   0.3553152    0.85728622   1.47776255\n",
      "   5.02026517   3.1092834    5.97073444   5.39537623   7.37848009\n",
      "   7.164411     8.17414775   8.64974911  10.57035709   9.55289082\n",
      "   4.86130285   6.91203292   7.6619334   10.01471944   5.7455086 ]\n"
     ]
    }
   ],
   "source": [
    "capacity=grid['node']['soil__transmissivity']*np.sin(np.arctan(grid['node']['topographic__slope']))\n",
    "print('Water holding capacity of each cell')\n",
    "print(capacity)\n"
   ]
  },
  {
   "cell_type": "code",
   "execution_count": 64,
   "metadata": {},
   "outputs": [
    {
     "data": {
      "text/plain": [
       "array([ 0.23057993,  0.59840357,  5.93252012,  2.97573392,  2.08290184,\n",
       "        1.10457363,  1.86048923,  1.00095171,  1.10991215,  0.81322581,\n",
       "        0.88433236,  0.85714386,  0.81416823,  0.76481157,  0.89015138,\n",
       "        1.94385856,  1.38966112,  1.30054472,  1.02131432,  1.7968802 ])"
      ]
     },
     "execution_count": 64,
     "metadata": {},
     "output_type": "execute_result"
    }
   ],
   "source": [
    "grid['node']['relative_wetness_r']=water_input/capacity\n",
    "grid['node']['relative_wetness_r']"
   ]
  },
  {
   "cell_type": "code",
   "execution_count": 65,
   "metadata": {},
   "outputs": [
    {
     "data": {
      "text/plain": [
       "array([ 0.23057993,  0.59840357,  1.        ,  1.        ,  1.        ,\n",
       "        1.        ,  1.        ,  1.        ,  1.        ,  0.81322581,\n",
       "        0.88433236,  0.85714386,  0.81416823,  0.76481157,  0.89015138,\n",
       "        1.        ,  1.        ,  1.        ,  1.        ,  1.        ])"
      ]
     },
     "execution_count": 65,
     "metadata": {},
     "output_type": "execute_result"
    }
   ],
   "source": [
    "np.place(grid['node']['relative_wetness_r'], grid['node']['relative_wetness_r'] > 1, 1.0)\n",
    "\n",
    "grid['node']['relative_wetness_r']"
   ]
  },
  {
   "cell_type": "code",
   "execution_count": 66,
   "metadata": {},
   "outputs": [
    {
     "data": {
      "image/png": "[encoded data removed]",
      "text/plain": [
       "<Figure size 432x288 with 2 Axes>"
      ]
     },
     "metadata": {},
     "output_type": "display_data"
    }
   ],
   "source": [
    "plt.figure('Recharge')\n",
    "imshow_grid_at_node(grid,'relative_wetness_r', cmap='YlGnBu',\n",
    "                 grid_units=('coordinates', 'coordinates'), shrink=0.75,\n",
    "                 var_name='RW Recharge', var_units='m')\n",
    "plt.savefig('rw.png')"
   ]
  },
  {
   "cell_type": "code",
   "execution_count": 107,
   "metadata": {},
   "outputs": [
    {
     "data": {
      "image/png": "[encoded data removed]",
      "text/plain": [
       "<Figure size 432x288 with 6 Axes>"
      ]
     },
     "metadata": {},
     "output_type": "display_data"
    }
   ],
   "source": [
    "fig = plt.figure('Water Table Depth Calculations')\n",
    "#xticks = np.arange(-0.1, 1.6, 0.8)\n",
    "\n",
    "\n",
    "ax1 = fig.add_subplot(131)\n",
    "ax2.figsize=(5,4)\n",
    "#ax1.set_visible(False)\n",
    "#ax1.set_xticks(xticks)\n",
    "imshow_grid_at_node(grid, 'soil__thickness', plot_name='soil (m)',\n",
    "                    allow_colorbar=True, cmap='copper_r',\n",
    "                    grid_units=('coordinates', 'coordinates'))\n",
    "\n",
    "ax2 = fig.add_subplot(132)\n",
    "ax2.figsize=(5,4)\n",
    "#ax2.set_xticks(xticks)\n",
    "imshow_grid_at_node(grid, 'relative_wetness_r', cmap='YlGnBu',\n",
    "                 grid_units=('coordinates', 'coordinates'), shrink=0.75,\n",
    "                 var_name='mean_rw', var_units='m')\n",
    "\n",
    "ax3 = fig.add_subplot(133)\n",
    "ax3.figsize=(5,4)\n",
    "#ax3.set_xticks(xticks)\n",
    "imshow_grid_at_node(grid, 'relative_wetness_d', cmap='YlGnBu',\n",
    "                 grid_units=('coordinates', 'coordinates'), shrink=0.75,\n",
    "                 var_name='rw d', var_units='-')\n",
    "\n"
   ]
  },
  {
   "cell_type": "markdown",
   "metadata": {},
   "source": [
    "### Results: relative wetness is a function of soil thickness given uniform depth to groundwater (assume steady state to depth to groundwater (dtw) is equivelent to depth of water recharged )"
   ]
  },
  {
   "cell_type": "code",
   "execution_count": 108,
   "metadata": {},
   "outputs": [
    {
     "data": {
      "image/png": "[encoded data removed]",
      "text/plain": [
       "<Figure size 432x288 with 8 Axes>"
      ]
     },
     "metadata": {},
     "output_type": "display_data"
    }
   ],
   "source": [
    "fig = plt.figure('Water Table Depth Calculations')\n",
    "xticks = np.arange(-0.1, 1.6, 0.8)\n",
    "\n",
    "\n",
    "ax1 = fig.add_subplot(221)\n",
    "ax1.xaxis.set_visible(False)\n",
    "imshow_grid_at_node(grid, 'topographic__specific_contributing_area', plot_name='area',\n",
    "                    allow_colorbar=True, cmap='copper_r',\n",
    "                    grid_units=('coordinates', 'coordinates'))\n",
    "\n",
    "ax2 = fig.add_subplot(222)\n",
    "ax2.set_xticks(xticks)\n",
    "imshow_grid_at_node(grid, 'relative_wetness_r', cmap='YlGnBu',\n",
    "                 grid_units=('coordinates', 'coordinates'), shrink=0.75,\n",
    "                 var_name='rw', var_units='i')\n",
    "\n",
    "ax3 = fig.add_subplot(223)\n",
    "ax3.set_xticks(xticks)\n",
    "imshow_grid_at_node(grid, 'soil__transmissivity', cmap='YlGnBu',\n",
    "                 grid_units=('coordinates', 'coordinates'), shrink=0.75,\n",
    "                 var_name='transm', var_units='-')\n",
    "\n",
    "ax4 = fig.add_subplot(224)\n",
    "ax4.xaxis.set_visible(False)\n",
    "imshow_grid_at_node(grid,'topographic__slope', cmap='copper_r',\n",
    "                 grid_units=('coordinates', 'coordinates'), shrink=0.75,\n",
    "                 var_name='Slope', var_units='m/m')\n",
    "\n"
   ]
  },
  {
   "cell_type": "markdown",
   "metadata": {},
   "source": [
    "### Results: relative wetness is a function of contributing area given uniform recharge (assume steady state depth of water is equivalent to depth to groundwater (dtw) )"
   ]
  },
  {
   "cell_type": "code",
   "execution_count": null,
   "metadata": {},
   "outputs": [],
   "source": []
  }
 ],
 "metadata": {
  "anaconda-cloud": {},
  "kernelspec": {
   "display_name": "Python 2.7",
   "language": "python",
   "name": "python2"
  },
  "language_info": {
   "codemirror_mode": {
    "name": "ipython",
    "version": 2
   },
   "file_extension": ".py",
   "mimetype": "text/x-python",
   "name": "python",
   "nbconvert_exporter": "python",
   "pygments_lexer": "ipython2",
   "version": "2.7.15"
  }
 },
 "nbformat": 4,
 "nbformat_minor": 1
}
