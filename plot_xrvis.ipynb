{
 "cells": [
  {
   "cell_type": "code",
   "execution_count": 8,
   "metadata": {},
   "outputs": [
    {
     "name": "stderr",
     "output_type": "stream",
     "text": [
      "WARNING:bokeh.server.views.ws:Failed sending message as connection was closed\n",
      "WARNING:bokeh.server.views.ws:Failed sending message as connection was closed\n",
      "WARNING:bokeh.document.document:Cannot apply patch to 5751 which is not in the document anymore\n",
      "WARNING:bokeh.server.views.ws:Failed sending message as connection was closed\n",
      "WARNING:bokeh.core.validation.check:W-1002 (EMPTY_LAYOUT): Layout has no children: Column(id='6056', ...)\n",
      "WARNING:bokeh.core.validation.check:W-1002 (EMPTY_LAYOUT): Layout has no children: Column(id='6057', ...)\n",
      "WARNING:bokeh.core.validation.check:W-1002 (EMPTY_LAYOUT): Layout has no children: Column(id='6079', ...)\n",
      "/Users/carina/anaconda3/lib/python3.6/site-packages/numpy/lib/nanfunctions.py:1371: RuntimeWarning: All-NaN slice encountered\n",
      "  overwrite_input=overwrite_input, interpolation=interpolation\n"
     ]
    }
   ],
   "source": [
    "import xarray as xr\n",
    "from xrviz.dashboard import Dashboard\n",
    "url = '/Users/carina/Desktop/code/SkagitLandslideHazards/dwt_historic.nc'\n",
    "data = xr.open_dataset(url)\n",
    "\n",
    "dashboard = Dashboard(data)\n",
    "dashboard.show()"
   ]
  },
  {
   "cell_type": "code",
   "execution_count": 4,
   "metadata": {},
   "outputs": [
    {
     "data": {
      "text/plain": [
       "'/Users/carina/Desktop/code/SkagitLandslideHazards/dwt_historic.nc'"
      ]
     },
     "execution_count": 4,
     "metadata": {},
     "output_type": "execute_result"
    }
   ],
   "source": [
    "url\n"
   ]
  },
  {
   "cell_type": "code",
   "execution_count": 5,
   "metadata": {},
   "outputs": [
    {
     "data": {
      "text/plain": [
       "<xarray.Dataset>\n",
       "Dimensions:  (time: 44, x: 2725, y: 2720)\n",
       "Coordinates:\n",
       "  * y        (y) int32 5436480 5436450 5436420 5436390 5436360 5436330 ...\n",
       "  * x        (x) int32 591330 591360 591390 591420 591450 591480 591510 ...\n",
       "Dimensions without coordinates: time\n",
       "Data variables:\n",
       "    wt       (time, y, x) float64 ..."
      ]
     },
     "execution_count": 5,
     "metadata": {},
     "output_type": "execute_result"
    }
   ],
   "source": [
    "data\n"
   ]
  },
  {
   "cell_type": "code",
   "execution_count": null,
   "metadata": {},
   "outputs": [],
   "source": []
  }
 ],
 "metadata": {
  "kernelspec": {
   "display_name": "Python 3",
   "language": "python",
   "name": "python3"
  },
  "language_info": {
   "codemirror_mode": {
    "name": "ipython",
    "version": 3
   },
   "file_extension": ".py",
   "mimetype": "text/x-python",
   "name": "python",
   "nbconvert_exporter": "python",
   "pygments_lexer": "ipython3",
   "version": "3.6.7"
  }
 },
 "nbformat": 4,
 "nbformat_minor": 2
}
