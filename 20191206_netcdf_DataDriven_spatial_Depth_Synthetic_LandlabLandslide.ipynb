{
 "cells": [
  {
   "cell_type": "markdown",
   "metadata": {},
   "source": [
    "\n",
    "# Landlab Landslide Probability Model with Saturation \n",
    "\n",
    "<img src=\"https://www.washington.edu/brand/files/2014/09/W-Logo_Purple_Hex.png\" style=\"float:right;width:200px;padding:20px\">   \n",
    "\n",
    "\n",
    "<br />\n",
    "This Jupyter Notebook runs the Landlab LandslideProbability component on a synthetic \n",
    "Landlab grid using four depth to water table options to replace recharge options described in the paper: <br />\n",
    "#### Strauch et al. 2018. A hydro-climatological approach to predicting regional landslide probability using Landlab. Earth Surface Dynamics, 6, 1-26. <br /> \n",
    "This notebook performs the following functions:<br >\n",
    "* Import libraries and set HydroShare variables<br />\n",
    "* Create a grid and data fields used to calculate landslide probability<br />\n",
    "* Specify Depth to Water Table Distributions to compare four options<br /> \n",
    "* Run LandslideProbability function from Landlab landslide component<br /> \n",
    "* Compare the sensitivity based on four Depth to Water Table options<br /> \n",
    "\n"
   ]
  },
  {
   "cell_type": "markdown",
   "metadata": {},
   "source": [
    "## 1.  HydroShare Setup and Preparation\n",
    "\n",
    "To run this notebook, we must import several libraries.\n",
    "The hs_utils library provides functions for interacting with HydroShare, including resource querying, dowloading, and creation.  Additional libraries support the functions of Landlab. "
   ]
  },
  {
   "cell_type": "code",
   "execution_count": 1,
   "metadata": {},
   "outputs": [
    {
     "name": "stdout",
     "output_type": "stream",
     "text": [
      "Ignore deprecation warnings\n",
      "Successfully established a connection with HydroShare\n",
      "Successfully established a connection with HydroShare\n",
      "Data will be loaded from and saved to:/home/jovyan/work/notebooks/data/4cac25933f6448409cab97b293129b4f/4cac25933f6448409cab97b293129b4f/data/contents\n",
      "/home/jovyan/work/notebooks/data/4cac25933f6448409cab97b293129b4f/4cac25933f6448409cab97b293129b4f/data/contents\n",
      "You are not going crazy...\n"
     ]
    },
    {
     "name": "stderr",
     "output_type": "stream",
     "text": [
      "/opt/conda/envs/python2/lib/python2.7/site-packages/landlab/__init__.py:27: UserWarning: \n",
      "This call to matplotlib.use() has no effect because the backend has already\n",
      "been chosen; matplotlib.use() must be called *before* pylab, matplotlib.pyplot,\n",
      "or matplotlib.backends is imported for the first time.\n",
      "\n",
      "The backend was *originally* set to 'module://ipykernel.pylab.backend_inline' by the following code:\n",
      "  File \"/opt/conda/envs/python2/lib/python2.7/runpy.py\", line 174, in _run_module_as_main\n",
      "    \"__main__\", fname, loader, pkg_name)\n",
      "  File \"/opt/conda/envs/python2/lib/python2.7/runpy.py\", line 72, in _run_code\n",
      "    exec code in run_globals\n",
      "  File \"/opt/conda/envs/python2/lib/python2.7/site-packages/ipykernel_launcher.py\", line 16, in <module>\n",
      "    app.launch_new_instance()\n",
      "  File \"/opt/conda/envs/python2/lib/python2.7/site-packages/traitlets/config/application.py\", line 658, in launch_instance\n",
      "    app.start()\n",
      "  File \"/opt/conda/envs/python2/lib/python2.7/site-packages/ipykernel/kernelapp.py\", line 486, in start\n",
      "    self.io_loop.start()\n",
      "  File \"/opt/conda/envs/python2/lib/python2.7/site-packages/tornado/ioloop.py\", line 1064, in start\n",
      "    handler_func(fd_obj, events)\n",
      "  File \"/opt/conda/envs/python2/lib/python2.7/site-packages/tornado/stack_context.py\", line 276, in null_wrapper\n",
      "    return fn(*args, **kwargs)\n",
      "  File \"/opt/conda/envs/python2/lib/python2.7/site-packages/zmq/eventloop/zmqstream.py\", line 450, in _handle_events\n",
      "    self._handle_recv()\n",
      "  File \"/opt/conda/envs/python2/lib/python2.7/site-packages/zmq/eventloop/zmqstream.py\", line 480, in _handle_recv\n",
      "    self._run_callback(callback, msg)\n",
      "  File \"/opt/conda/envs/python2/lib/python2.7/site-packages/zmq/eventloop/zmqstream.py\", line 432, in _run_callback\n",
      "    callback(*args, **kwargs)\n",
      "  File \"/opt/conda/envs/python2/lib/python2.7/site-packages/tornado/stack_context.py\", line 276, in null_wrapper\n",
      "    return fn(*args, **kwargs)\n",
      "  File \"/opt/conda/envs/python2/lib/python2.7/site-packages/ipykernel/kernelbase.py\", line 283, in dispatcher\n",
      "    return self.dispatch_shell(stream, msg)\n",
      "  File \"/opt/conda/envs/python2/lib/python2.7/site-packages/ipykernel/kernelbase.py\", line 233, in dispatch_shell\n",
      "    handler(stream, idents, msg)\n",
      "  File \"/opt/conda/envs/python2/lib/python2.7/site-packages/ipykernel/kernelbase.py\", line 399, in execute_request\n",
      "    user_expressions, allow_stdin)\n",
      "  File \"/opt/conda/envs/python2/lib/python2.7/site-packages/ipykernel/ipkernel.py\", line 208, in do_execute\n",
      "    res = shell.run_cell(code, store_history=store_history, silent=silent)\n",
      "  File \"/opt/conda/envs/python2/lib/python2.7/site-packages/ipykernel/zmqshell.py\", line 537, in run_cell\n",
      "    return super(ZMQInteractiveShell, self).run_cell(*args, **kwargs)\n",
      "  File \"/opt/conda/envs/python2/lib/python2.7/site-packages/IPython/core/interactiveshell.py\", line 2714, in run_cell\n",
      "    interactivity=interactivity, compiler=compiler, result=result)\n",
      "  File \"/opt/conda/envs/python2/lib/python2.7/site-packages/IPython/core/interactiveshell.py\", line 2818, in run_ast_nodes\n",
      "    if self.run_code(code, result):\n",
      "  File \"/opt/conda/envs/python2/lib/python2.7/site-packages/IPython/core/interactiveshell.py\", line 2878, in run_code\n",
      "    exec(code_obj, self.user_global_ns, self.user_ns)\n",
      "  File \"<ipython-input-1-e6a39570703b>\", line 7, in <module>\n",
      "    get_ipython().magic(u'matplotlib inline')\n",
      "  File \"/opt/conda/envs/python2/lib/python2.7/site-packages/IPython/core/interactiveshell.py\", line 2160, in magic\n",
      "    return self.run_line_magic(magic_name, magic_arg_s)\n",
      "  File \"/opt/conda/envs/python2/lib/python2.7/site-packages/IPython/core/interactiveshell.py\", line 2081, in run_line_magic\n",
      "    result = fn(*args,**kwargs)\n",
      "  File \"<decorator-gen-105>\", line 2, in matplotlib\n",
      "  File \"/opt/conda/envs/python2/lib/python2.7/site-packages/IPython/core/magic.py\", line 188, in <lambda>\n",
      "    call = lambda f, *a, **k: f(*a, **k)\n",
      "  File \"/opt/conda/envs/python2/lib/python2.7/site-packages/IPython/core/magics/pylab.py\", line 100, in matplotlib\n",
      "    gui, backend = self.shell.enable_matplotlib(args.gui)\n",
      "  File \"/opt/conda/envs/python2/lib/python2.7/site-packages/IPython/core/interactiveshell.py\", line 2966, in enable_matplotlib\n",
      "    pt.activate_matplotlib(backend)\n",
      "  File \"/opt/conda/envs/python2/lib/python2.7/site-packages/IPython/core/pylabtools.py\", line 315, in activate_matplotlib\n",
      "    matplotlib.pyplot.switch_backend(backend)\n",
      "  File \"/opt/conda/envs/python2/lib/python2.7/site-packages/matplotlib/pyplot.py\", line 233, in switch_backend\n",
      "    _backend_mod, new_figure_manager, draw_if_interactive, _show = pylab_setup()\n",
      "  File \"/opt/conda/envs/python2/lib/python2.7/site-packages/matplotlib/backends/__init__.py\", line 62, in pylab_setup\n",
      "    [backend_name], 0)\n",
      "  File \"/opt/conda/envs/python2/lib/python2.7/site-packages/ipykernel/pylab/backend_inline.py\", line 165, in <module>\n",
      "    _enable_matplotlib_integration()\n",
      "  File \"/opt/conda/envs/python2/lib/python2.7/site-packages/ipykernel/pylab/backend_inline.py\", line 155, in _enable_matplotlib_integration\n",
      "    activate_matplotlib(backend)\n",
      "  File \"/opt/conda/envs/python2/lib/python2.7/site-packages/IPython/core/pylabtools.py\", line 315, in activate_matplotlib\n",
      "    matplotlib.pyplot.switch_backend(backend)\n",
      "  File \"/opt/conda/envs/python2/lib/python2.7/site-packages/matplotlib/pyplot.py\", line 231, in switch_backend\n",
      "    matplotlib.use(newbackend, warn=False, force=True)\n",
      "  File \"/opt/conda/envs/python2/lib/python2.7/site-packages/matplotlib/__init__.py\", line 1410, in use\n",
      "    reload(sys.modules['matplotlib.backends'])\n",
      "  File \"/opt/conda/envs/python2/lib/python2.7/site-packages/matplotlib/backends/__init__.py\", line 16, in <module>\n",
      "    line for line in traceback.format_stack()\n",
      "\n",
      "\n",
      "  matplotlib.use('Agg')\n"
     ]
    },
    {
     "name": "stdout",
     "output_type": "stream",
     "text": [
      "You are not going crazy...\n"
     ]
    }
   ],
   "source": [
    "#import Python utilities for calculating and plotting\n",
    "import six\n",
    "import os\n",
    "import matplotlib as mpl\n",
    "mpl.use('agg')\n",
    "import matplotlib.pyplot as plt\n",
    "%matplotlib inline\n",
    "import numpy as np\n",
    "\n",
    "import warnings\n",
    "print('Ignore deprecation warnings')\n",
    "warnings.filterwarnings(action='ignore', category=DeprecationWarning)\n",
    "\n",
    "#import utilities for importing and exporting to HydroShare\n",
    "from utilities import hydroshare\n",
    "# set variables for interacting with HydroShare from this notebook\n",
    "hs=hydroshare.hydroshare()\n",
    "# Create object to map the home directory\n",
    "hs=hydroshare.hydroshare()\n",
    "homedir = os.getcwd()\n",
    "print('Data will be loaded from and saved to:'+homedir)\n",
    "os.chdir('/home/jovyan/work/notebooks/data/4cac25933f6448409cab97b293129b4f/4cac25933f6448409cab97b293129b4f/data/contents')\n",
    "print(homedir)\n",
    "\n",
    "# Import Landlab libraries\n",
    "import landslide_probability\n",
    "from landslide_probability_20191202 import LandslideProbability\n",
    "from landlab import RasterModelGrid\n",
    "from landlab import imshow_grid_at_node\n",
    "\n",
    "from landlab.io.netcdf import read_netcdf\n",
    "from landlab.io.netcdf import write_netcdf\n",
    "\n",
    "import numpy as np\n",
    "import xarray as xr\n",
    "import pandas as pd\n",
    "\n",
    "from landlab.io import read_esri_ascii\n",
    "from landlab.io import write_esri_ascii"
   ]
  },
  {
   "cell_type": "markdown",
   "metadata": {},
   "source": [
    "If you are curious about where the data is being downloaded, click on the Jupyter Notebook dashboard icon to see a File System view.  The homedir directory location printed above is where you can find the data and contents you will download to a HydroShare JupyterHub server.  At the end of this work session, you can migrate this data to the HydroShare iRods server as a Generic Resource. "
   ]
  },
  {
   "cell_type": "markdown",
   "metadata": {},
   "source": [
    "This example uses a synthetic model domain. As a first example, make a synthetic grid with 5 rows and 4 columns space 0.2 units apart.   <br /> \n",
    "##### Synthetic Grid Restart opportunity: After completing this entire notebook, go to the Dashboard, Kernal, and select Restart and Clear Output.  Execute the code from the beginning, but change the cell below to the rows, columns, and spacing of your choice.  "
   ]
  },
  {
   "cell_type": "code",
   "execution_count": 2,
   "metadata": {},
   "outputs": [],
   "source": [
    "grid = read_netcdf('synthetic_data_driven_spatial_depth.nc')"
   ]
  },
  {
   "cell_type": "code",
   "execution_count": 3,
   "metadata": {},
   "outputs": [
    {
     "data": {
      "text/plain": [
       "['YR1', 'YR2', 'YR3']"
      ]
     },
     "execution_count": 3,
     "metadata": {},
     "output_type": "execute_result"
    }
   ],
   "source": [
    "grid.at_node.keys()"
   ]
  },
  {
   "cell_type": "markdown",
   "metadata": {},
   "source": [
    "Confirm the size of the grid"
   ]
  },
  {
   "cell_type": "code",
   "execution_count": 4,
   "metadata": {},
   "outputs": [
    {
     "data": {
      "text/plain": [
       "20"
      ]
     },
     "execution_count": 4,
     "metadata": {},
     "output_type": "execute_result"
    }
   ],
   "source": [
    "grid.number_of_nodes"
   ]
  },
  {
   "cell_type": "markdown",
   "metadata": {},
   "source": [
    "To see what the grid id of our nodes are, execute the command below.  However, note that this command gives you the rows of the grid, but these are technically up-side-down from how the RasterModelGrid nodes are numbered (e.g,. node id 0 is at the bottom left corner of the grid). "
   ]
  },
  {
   "cell_type": "code",
   "execution_count": 5,
   "metadata": {},
   "outputs": [
    {
     "data": {
      "text/plain": [
       "array([[ 0,  1,  2,  3],\n",
       "       [ 4,  5,  6,  7],\n",
       "       [ 8,  9, 10, 11],\n",
       "       [12, 13, 14, 15],\n",
       "       [16, 17, 18, 19]])"
      ]
     },
     "execution_count": 5,
     "metadata": {},
     "output_type": "execute_result"
    }
   ],
   "source": [
    "grid.nodes"
   ]
  },
  {
   "cell_type": "markdown",
   "metadata": {},
   "source": [
    "We can also see how many core nodes we have (i.e., the nodes that calculations are performed on) in the center of the grid...not the edges, which are 'closed nodes'. Compare this array to the full grid above.  Asign these to the variable 'core_nodes' so we can use these later."
   ]
  },
  {
   "cell_type": "code",
   "execution_count": 6,
   "metadata": {},
   "outputs": [
    {
     "data": {
      "text/plain": [
       "array([ 5,  6,  9, 10, 13, 14])"
      ]
     },
     "execution_count": 6,
     "metadata": {},
     "output_type": "execute_result"
    }
   ],
   "source": [
    "core_nodes = grid.core_nodes\n",
    "core_nodes"
   ]
  },
  {
   "cell_type": "markdown",
   "metadata": {},
   "source": [
    "Now we will create the required fields for the landslide component and add data as fields to the grid.  Thus, the data arrays will need to be as the length of the number of nodes.<br /> \n",
    "##### Data Fields Restart opportunity: After completing this entire notebook, go to the Dashboard, Kernal, and select Restart and Clear Output.  Execute the code from the beginning, but change the cell below to the data inputs of your choice.  "
   ]
  },
  {
   "cell_type": "code",
   "execution_count": 7,
   "metadata": {},
   "outputs": [],
   "source": [
    "gridnodes = grid.number_of_nodes\n",
    "grid_size = grid.number_of_nodes\n",
    "\n",
    "grid['node']['soil__density']= \\\n",
    "         2000. * np.ones(gridnodes)\n",
    "\n",
    "grid['node']['soil__internal_friction_angle']= \\\n",
    "         np.sort(np.random.randint(26, 37, gridnodes))\n",
    "\n",
    "grid['node']['soil__mode_total_cohesion']= \\\n",
    "         np.sort(np.random.randint(30, 900, gridnodes))\n",
    "    \n",
    "scatter_dat = np.random.randint(1, 10, gridnodes)    \n",
    "grid['node']['soil__maximum_total_cohesion']= \\\n",
    "         grid.at_node['soil__mode_total_cohesion'] + scatter_dat\n",
    "\n",
    "grid['node']['soil__minimum_total_cohesion']= \\\n",
    "         grid.at_node['soil__mode_total_cohesion'] - scatter_dat\n",
    "\n",
    "grid['node']['soil__thickness']= \\\n",
    "         np.sort(np.random.randint(1, 10, gridnodes))\n",
    "\n",
    "grid['node']['soil__transmissivity']= \\\n",
    "         np.sort(np.random.randint(5, 20, gridnodes),-1)\n",
    "        \n",
    "grid['node']['topographic__slope'] = np.random.rand(gridnodes)\n",
    "\n",
    "grid['node']['topographic__specific_contributing_area']= \\\n",
    "         np.sort(np.random.randint(30, 900, gridnodes))"
   ]
  },
  {
   "cell_type": "markdown",
   "metadata": {},
   "source": [
    "Let's see what one of these fields (slope) looks like on the grid."
   ]
  },
  {
   "cell_type": "code",
   "execution_count": 8,
   "metadata": {},
   "outputs": [
    {
     "data": {
      "image/png": "[encoded data removed]",
      "text/plain": [
       "<Figure size 432x288 with 2 Axes>"
      ]
     },
     "metadata": {},
     "output_type": "display_data"
    }
   ],
   "source": [
    "plt.figure('Slope')\n",
    "imshow_grid_at_node(grid,'topographic__slope', cmap='copper_r',\n",
    "                 grid_units=('coordinates', 'coordinates'), shrink=0.75,\n",
    "                 var_name='Slope', var_units='m/m')\n",
    "plt.savefig('Slope.png')"
   ]
  },
  {
   "cell_type": "code",
   "execution_count": 9,
   "metadata": {},
   "outputs": [
    {
     "data": {
      "text/plain": [
       "4.0999999999999996"
      ]
     },
     "execution_count": 9,
     "metadata": {},
     "output_type": "execute_result"
    }
   ],
   "source": [
    "np.mean(grid['node']['soil__thickness'])"
   ]
  },
  {
   "cell_type": "code",
   "execution_count": 10,
   "metadata": {},
   "outputs": [
    {
     "name": "stdout",
     "output_type": "stream",
     "text": [
      "[{0: (3.1348855160345486, 2.1339028896492409, 4.2298493546765314)}, {1: (4.3641055473531214, 3.3839620238107222, 4.4822002297488588)}, {2: (4.9997363861010431, 4.4987411920372287, 3.8892047488581669)}, {3: (3.9480286943080589, 2.007680398674899, 4.3143715531551994)}, {4: (3.8487040702022735, 2.48373836203718, 2.3989945374607911)}, {5: (4.176460110679832, 2.3597464046292518, 3.86995565015072)}, {6: (3.9938494706376044, 4.9504547555157892, 3.1362133315826775)}, {7: (4.2026147447657127, 4.8803142543445528, 2.9848784481643795)}, {8: (4.1163454826398613, 3.746951123011975, 2.1198065039185501)}, {9: (4.6215269665299221, 2.7099028438244708, 4.829102153571891)}, {10: (3.7740425056733122, 2.0782994936051171, 3.8324204869673371)}, {11: (2.7359464420021391, 2.8233773035209206, 4.8240207409403384)}, {12: (4.9040529801858987, 4.7971356536503436, 2.6893029622097657)}, {13: (2.0149565917571559, 3.5470104394242314, 2.7042667872425739)}, {14: (3.4423020872620453, 3.7744471204150347, 2.0271274892017592)}, {15: (4.4711137780420813, 4.1925682324790561, 2.1644931070588127)}, {16: (4.2663012232093855, 3.9762677759984459, 4.3539971907449413)}, {17: (4.3407503897934561, 4.9119388775808348, 2.5880043715323349)}, {18: (4.2689057625043292, 4.8282254881463036, 4.0076949260173054)}, {19: (2.6426233884811143, 2.8315266942441326, 2.5452952714296782)}]\n",
      "[ 2.64262339  2.83152669  2.54529527]\n"
     ]
    }
   ],
   "source": [
    "key=np.arange(grid.number_of_nodes)\n",
    "HSD_dict_annualmaxDWT=zip(grid['node']['YR1'],grid['node']['YR2'],grid['node']['YR3'])\n",
    "#i=1\n",
    "for i in range(grid.number_of_nodes):\n",
    "    HSD_dict_annualmaxDWT[i] = {key[i]:HSD_dict_annualmaxDWT[i]} \n",
    "\n",
    "print(HSD_dict_annualmaxDWT)\n",
    "\n",
    "hwdist=pd.DataFrame.from_dict(HSD_dict_annualmaxDWT[i], orient='index')\n",
    "print(hwdist.values[0])"
   ]
  },
  {
   "cell_type": "code",
   "execution_count": 11,
   "metadata": {},
   "outputs": [
    {
     "data": {
      "text/plain": [
       "array([1, 1, 1, 1, 1, 2, 2, 2, 2, 3, 4, 5, 5, 6, 6, 7, 8, 8, 8, 9])"
      ]
     },
     "execution_count": 11,
     "metadata": {},
     "output_type": "execute_result"
    }
   ],
   "source": [
    "grid['node']['soil__thickness']"
   ]
  },
  {
   "cell_type": "code",
   "execution_count": 12,
   "metadata": {},
   "outputs": [
    {
     "name": "stdout",
     "output_type": "stream",
     "text": [
      "Input read for groundwater__recharge_distribution\n",
      "None\n",
      "Input read for  groundwater__depth_distribution\n",
      "data_driven_spatial\n"
     ]
    }
   ],
   "source": [
    "\n",
    "n=50\n",
    "\n",
    "distribution1 = 'data_driven_spatial'\n",
    "\n",
    "\n",
    "LS_prob1=LandslideProbability(grid, number_of_iterations=n,\n",
    "                     groundwater__depth_distribution='data_driven_spatial',\n",
    "                     groundwater__depth_HSD_inputs=[HSD_dict_annualmaxDWT])\n",
    "\n",
    "\n"
   ]
  },
  {
   "cell_type": "code",
   "execution_count": 13,
   "metadata": {},
   "outputs": [
    {
     "name": "stdout",
     "output_type": "stream",
     "text": [
      "[ 0.66666667  1.          0.33333333]\n",
      "Input Depth Annual Year Max Data = 3 years\n",
      "[ 2.64262339  2.83152669  2.54529527]\n",
      "Input Depth Annual Year Max Interpolated Data = n years\n",
      "[ 2.54529527  2.54529527  2.54529527  2.54529527  2.54529527  2.54529527\n",
      "  2.54529527  2.54529527  2.54529527  2.54529527  2.54529527  2.55293784\n",
      "  2.55416501  2.55992608  2.56904195  2.57166773  2.57557365  2.57573577\n",
      "  2.58115591  2.58271191  2.6003387   2.60239619  2.60706452  2.60821211\n",
      "  2.61382728  2.61394097  2.62396463  2.62668953  2.62810223  2.62830705\n",
      "  2.63481408  2.63655813  2.64268009  2.64487391  2.6512111   2.66017129\n",
      "  2.67012168  2.70358269  2.70580592  2.7071504   2.71349521  2.71770786\n",
      "  2.7366707   2.75786129  2.77019338  2.78936157  2.79964817  2.80017002\n",
      "  2.81093402  2.8194095 ]\n"
     ]
    }
   ],
   "source": [
    "from statsmodels.distributions.empirical_distribution import ECDF\n",
    "import scipy.constants\n",
    "from scipy import interpolate\n",
    "\n",
    "Yrand = np.sort(np.random.rand(n))\n",
    "Fx = ECDF(hwdist.values[0])\n",
    "Fx_ = Fx(hwdist.values[0])\n",
    "print(Fx_)\n",
    "f = interpolate.interp1d(Fx_, hwdist.values[0], bounds_error=False,\n",
    "                                     fill_value=min(hwdist.values[0]))\n",
    "\n",
    "De_interpolated = f(Yrand)\n",
    "print('Input Depth Annual Year Max Data = 3 years')\n",
    "print(hwdist.values[0])\n",
    "print('Input Depth Annual Year Max Interpolated Data = n years')\n",
    "print(De_interpolated)"
   ]
  },
  {
   "cell_type": "markdown",
   "metadata": {},
   "source": [
    "### Number of iterations to run Monte Carlo simulation"
   ]
  },
  {
   "cell_type": "markdown",
   "metadata": {},
   "source": [
    "The landslide component employes the infinite slope model to calculate factor-of-safety values using a Monte Carlo simulation approach, which randomly selects input values from parameter distributions. You can pick the number of iterations to run Monte Carlo simulations, but the default is 250. The higher the number of iteration, the longer the program runs, but the more precise the probability of failure result becomes.<br /> \n",
    "##### Random iterations Restart opportunity: After completing this entire notebook, go to the Dashboard, Kernal, and select Restart and Clear Output.  Execute the code from the beginning, but change the cell below to the number of iterations of your choice.  "
   ]
  },
  {
   "cell_type": "markdown",
   "metadata": {},
   "source": [
    "## Specify Lognormal Spatial Depth to Water Table Recharge Distribution\n",
    "\n",
    "There are _four_ different options for providing recharge for the Monte Carlo simulation.  We'll provide each of these recharge options below by specifying a recharge distribution and the necessary parameters. <br /> \n",
    "##### Restart opportunity: After completing this entire notebook, go to the Dashboard, Kernal, and select Restart and Clear Output.  Execute the code from the beginning, but change the cells below to adjust the recharge distributions.\n",
    "\n",
    " ### 1. Saturation Option - 'lognormal_spatial' distribution \n",
    " \n",
    "In this option, we'll apply a uniform distribution of recharge based on minimum and maximum recharge values.  We will then instantiate the LandslideProbability component with these parameters, as well as the grid and number of iterations we specified above.  Instantiate creates an instance of a class.  (For example, the _iPhone_ is a class and _each phone_ is an instance.)\n",
    "\n",
    "No outputs are generated by these commands as they are setting up the recharge and instantiating the component."
   ]
  },
  {
   "cell_type": "markdown",
   "metadata": {},
   "source": [
    "## Run the Landslide Component "
   ]
  },
  {
   "cell_type": "code",
   "execution_count": 14,
   "metadata": {},
   "outputs": [
    {
     "name": "stdout",
     "output_type": "stream",
     "text": [
      "In calculate HSD loop - _hwdist.values[0]\n",
      "[ 4.17646011  2.3597464   3.86995565]\n",
      "[ 1.          0.33333333  0.66666667]\n",
      "Input Depth Annual Year Max Data = 3 years\n",
      "[ 4.17646011  2.3597464   3.86995565]\n",
      "Input Depth Annual Year Max Interpolated Data = n years\n",
      "[ 2.3597464   2.3597464   2.3597464   2.3597464   2.3597464   2.3597464\n",
      "  2.3597464   2.3597464   2.3597464   2.3597464   2.3597464   2.3597464\n",
      "  2.3597464   2.3597464   2.3597464   2.3597464   2.3597464   2.3597464\n",
      "  2.3597464   2.3597464   2.3597464   2.3597464   2.3597464   2.3597464\n",
      "  2.3597464   2.3597464   2.52009364  2.72640857  2.83667734  2.96221768\n",
      "  2.97282129  3.2201793   3.41659742  3.43288646  3.45893633  3.50680893\n",
      "  3.58986705  3.80852785  3.8231222   3.8706395   3.89368411  3.91561918\n",
      "  3.93670948  4.01186099  4.01916818  4.02744828  4.11144702  4.15481427\n",
      "  4.15509162  4.1657697 ]\n",
      "In calculate HSD loop -interpolate _hwdist.values[0]\n",
      "[ 2.3597464   2.3597464   2.3597464   2.3597464   2.3597464   2.3597464\n",
      "  2.3597464   2.3597464   2.3597464   2.3597464   2.3597464   2.3597464\n",
      "  2.3597464   2.3597464   2.3597464   2.3597464   2.3597464   2.3597464\n",
      "  2.3597464   2.3597464   2.3597464   2.3597464   2.3597464   2.3597464\n",
      "  2.3597464   2.3597464   2.52009364  2.72640857  2.83667734  2.96221768\n",
      "  2.97282129  3.2201793   3.41659742  3.43288646  3.45893633  3.50680893\n",
      "  3.58986705  3.80852785  3.8231222   3.8706395   3.89368411  3.91561918\n",
      "  3.93670948  4.01186099  4.01916818  4.02744828  4.11144702  4.15481427\n",
      "  4.15509162  4.1657697 ]\n",
      "interpolated Depth dist FOS input\n",
      "[ 2.3597464   2.3597464   2.3597464   2.3597464   2.3597464   2.3597464\n",
      "  2.3597464   2.3597464   2.3597464   2.3597464   2.3597464   2.3597464\n",
      "  2.3597464   2.3597464   2.3597464   2.3597464   2.3597464   2.3597464\n",
      "  2.3597464   2.3597464   2.3597464   2.3597464   2.3597464   2.3597464\n",
      "  2.3597464   2.3597464   2.52009364  2.72640857  2.83667734  2.96221768\n",
      "  2.97282129  3.2201793   3.41659742  3.43288646  3.45893633  3.50680893\n",
      "  3.58986705  3.80852785  3.8231222   3.8706395   3.89368411  3.91561918\n",
      "  3.93670948  4.01186099  4.01916818  4.02744828  4.11144702  4.15481427\n",
      "  4.15509162  4.1657697 ]\n",
      "i\n",
      "5\n",
      "self._HSD_dict\n",
      "[{0: (3.1348855160345486, 2.1339028896492409, 4.2298493546765314)}, {1: (4.3641055473531214, 3.3839620238107222, 4.4822002297488588)}, {2: (4.9997363861010431, 4.4987411920372287, 3.8892047488581669)}, {3: (3.9480286943080589, 2.007680398674899, 4.3143715531551994)}, {4: (3.8487040702022735, 2.48373836203718, 2.3989945374607911)}, {5: (4.176460110679832, 2.3597464046292518, 3.86995565015072)}, {6: (3.9938494706376044, 4.9504547555157892, 3.1362133315826775)}, {7: (4.2026147447657127, 4.8803142543445528, 2.9848784481643795)}, {8: (4.1163454826398613, 3.746951123011975, 2.1198065039185501)}, {9: (4.6215269665299221, 2.7099028438244708, 4.829102153571891)}, {10: (3.7740425056733122, 2.0782994936051171, 3.8324204869673371)}, {11: (2.7359464420021391, 2.8233773035209206, 4.8240207409403384)}, {12: (4.9040529801858987, 4.7971356536503436, 2.6893029622097657)}, {13: (2.0149565917571559, 3.5470104394242314, 2.7042667872425739)}, {14: (3.4423020872620453, 3.7744471204150347, 2.0271274892017592)}, {15: (4.4711137780420813, 4.1925682324790561, 2.1644931070588127)}, {16: (4.2663012232093855, 3.9762677759984459, 4.3539971907449413)}, {17: (4.3407503897934561, 4.9119388775808348, 2.5880043715323349)}, {18: (4.2689057625043292, 4.8282254881463036, 4.0076949260173054)}, {19: (2.6426233884811143, 2.8315266942441326, 2.5452952714296782)}]\n",
      "self._De\n",
      "[ 2.3597464   2.3597464   2.3597464   2.3597464   2.3597464   2.3597464\n",
      "  2.3597464   2.3597464   2.3597464   2.3597464   2.3597464   2.3597464\n",
      "  2.3597464   2.3597464   2.3597464   2.3597464   2.3597464   2.3597464\n",
      "  2.3597464   2.3597464   2.3597464   2.3597464   2.3597464   2.3597464\n",
      "  2.3597464   2.3597464   2.52009364  2.72640857  2.83667734  2.96221768\n",
      "  2.97282129  3.2201793   3.41659742  3.43288646  3.45893633  3.50680893\n",
      "  3.58986705  3.80852785  3.8231222   3.8706395   3.89368411  3.91561918\n",
      "  3.93670948  4.01186099  4.01916818  4.02744828  4.11144702  4.15481427\n",
      "  4.15509162  4.1657697 ]\n",
      "self._HSD_dict\n",
      "[{0: (3.1348855160345486, 2.1339028896492409, 4.2298493546765314)}, {1: (4.3641055473531214, 3.3839620238107222, 4.4822002297488588)}, {2: (4.9997363861010431, 4.4987411920372287, 3.8892047488581669)}, {3: (3.9480286943080589, 2.007680398674899, 4.3143715531551994)}, {4: (3.8487040702022735, 2.48373836203718, 2.3989945374607911)}, {5: (4.176460110679832, 2.3597464046292518, 3.86995565015072)}, {6: (3.9938494706376044, 4.9504547555157892, 3.1362133315826775)}, {7: (4.2026147447657127, 4.8803142543445528, 2.9848784481643795)}, {8: (4.1163454826398613, 3.746951123011975, 2.1198065039185501)}, {9: (4.6215269665299221, 2.7099028438244708, 4.829102153571891)}, {10: (3.7740425056733122, 2.0782994936051171, 3.8324204869673371)}, {11: (2.7359464420021391, 2.8233773035209206, 4.8240207409403384)}, {12: (4.9040529801858987, 4.7971356536503436, 2.6893029622097657)}, {13: (2.0149565917571559, 3.5470104394242314, 2.7042667872425739)}, {14: (3.4423020872620453, 3.7744471204150347, 2.0271274892017592)}, {15: (4.4711137780420813, 4.1925682324790561, 2.1644931070588127)}, {16: (4.2663012232093855, 3.9762677759984459, 4.3539971907449413)}, {17: (4.3407503897934561, 4.9119388775808348, 2.5880043715323349)}, {18: (4.2689057625043292, 4.8282254881463036, 4.0076949260173054)}, {19: (2.6426233884811143, 2.8315266942441326, 2.5452952714296782)}]\n",
      "Depth of Water Distribution (SoilDepth-DTWdist)\n",
      "[-0.3597464  -0.3597464  -0.3597464  -0.3597464  -0.3597464  -0.3597464\n",
      " -0.3597464  -0.3597464  -0.3597464  -0.3597464  -0.3597464  -0.3597464\n",
      " -0.3597464  -0.3597464  -0.3597464  -0.3597464  -0.3597464  -0.3597464\n",
      " -0.3597464  -0.3597464  -0.3597464  -0.3597464  -0.3597464  -0.3597464\n",
      " -0.3597464  -0.3597464  -0.52009364 -0.72640857 -0.83667734 -0.96221768\n",
      " -0.97282129 -1.2201793  -1.41659742 -1.43288646 -1.45893633 -1.50680893\n",
      " -1.58986705 -1.80852785 -1.8231222  -1.8706395  -1.89368411 -1.91561918\n",
      " -1.93670948 -2.01186099 -2.01916818 -2.02744828 -2.11144702 -2.15481427\n",
      " -2.15509162 -2.1657697 ]\n",
      "Depth distribution is not none - count saturated cells\n",
      "Soil Thickness This Node\n",
      "2\n",
      "Depth of Water Distribution (SoilDepth-DTWdist) hw>hs correction\n",
      "[ 2.  2.  2.  2.  2.  2.  2.  2.  2.  2.  2.  2.  2.  2.  2.  2.  2.  2.\n",
      "  2.  2.  2.  2.  2.  2.  2.  2.  2.  2.  2.  2.  2.  2.  2.  2.  2.  2.\n",
      "  2.  2.  2.  2.  2.  2.  2.  2.  2.  2.  2.  2.  2.  2.]\n",
      "Soil thickness All\n",
      "[1 1 1 1 1 2 2 2 2 3 4 5 5 6 6 7 8 8 8 9]\n",
      "Mean water table depth\n",
      "2.95781605876\n",
      "In calculate HSD loop - _hwdist.values[0]\n",
      "[ 4.17646011  2.3597464   3.86995565]\n",
      "[ 1.          0.33333333  0.66666667]\n",
      "Input Depth Annual Year Max Data = 3 years\n",
      "[ 4.17646011  2.3597464   3.86995565]\n",
      "Input Depth Annual Year Max Interpolated Data = n years\n",
      "[ 2.3597464   2.3597464   2.3597464   2.3597464   2.3597464   2.3597464\n",
      "  2.3597464   2.3597464   2.3597464   2.3597464   2.51482316  2.64595707\n",
      "  2.7698666   2.79212853  2.80413349  2.82427888  2.8752958   3.12085131\n",
      "  3.43183599  3.44219752  3.45159106  3.45989156  3.48306816  3.52656168\n",
      "  3.53185875  3.59687907  3.649535    3.76721702  3.80397432  3.80894691\n",
      "  3.8405377   3.8802081   3.89373879  3.90012728  3.9041817   3.91370116\n",
      "  3.92382774  3.93296747  3.99825289  4.00524471  4.03523083  4.06713291\n",
      "  4.06771419  4.07708219  4.08133332  4.1024233   4.13301219  4.13607843\n",
      "  4.14169197  4.17539992]\n",
      "In calculate HSD loop -interpolate _hwdist.values[0]\n",
      "[ 2.3597464   2.3597464   2.3597464   2.3597464   2.3597464   2.3597464\n",
      "  2.3597464   2.3597464   2.3597464   2.3597464   2.51482316  2.64595707\n",
      "  2.7698666   2.79212853  2.80413349  2.82427888  2.8752958   3.12085131\n",
      "  3.43183599  3.44219752  3.45159106  3.45989156  3.48306816  3.52656168\n",
      "  3.53185875  3.59687907  3.649535    3.76721702  3.80397432  3.80894691\n",
      "  3.8405377   3.8802081   3.89373879  3.90012728  3.9041817   3.91370116\n",
      "  3.92382774  3.93296747  3.99825289  4.00524471  4.03523083  4.06713291\n",
      "  4.06771419  4.07708219  4.08133332  4.1024233   4.13301219  4.13607843\n",
      "  4.14169197  4.17539992]\n",
      "interpolated Depth dist FOS input\n",
      "[ 2.3597464   2.3597464   2.3597464   2.3597464   2.3597464   2.3597464\n",
      "  2.3597464   2.3597464   2.3597464   2.3597464   2.51482316  2.64595707\n",
      "  2.7698666   2.79212853  2.80413349  2.82427888  2.8752958   3.12085131\n",
      "  3.43183599  3.44219752  3.45159106  3.45989156  3.48306816  3.52656168\n",
      "  3.53185875  3.59687907  3.649535    3.76721702  3.80397432  3.80894691\n",
      "  3.8405377   3.8802081   3.89373879  3.90012728  3.9041817   3.91370116\n",
      "  3.92382774  3.93296747  3.99825289  4.00524471  4.03523083  4.06713291\n",
      "  4.06771419  4.07708219  4.08133332  4.1024233   4.13301219  4.13607843\n",
      "  4.14169197  4.17539992]\n",
      "self._rel_wetness\n",
      "[ 1.  1.  1.  1.  1.  1.  1.  1.  1.  1.  1.  1.  1.  1.  1.  1.  1.  1.\n",
      "  1.  1.  1.  1.  1.  1.  1.  1.  1.  1.  1.  1.  1.  1.  1.  1.  1.  1.\n",
      "  1.  1.  1.  1.  1.  1.  1.  1.  1.  1.  1.  1.  1.  1.]\n",
      "self._soil__mean_relative_wetness\n",
      "1.0\n",
      "self._rel_wetness\n",
      "[ 1.  1.  1.  1.  1.  1.  1.  1.  1.  1.  1.  1.  1.  1.  1.  1.  1.  1.\n",
      "  1.  1.  1.  1.  1.  1.  1.  1.  1.  1.  1.  1.  1.  1.  1.  1.  1.  1.\n",
      "  1.  1.  1.  1.  1.  1.  1.  1.  1.  1.  1.  1.  1.  1.]\n",
      "self._phi\n",
      "[ 26.66293354  29.688656    27.12066755  25.5727536   23.41246665\n",
      "  24.24053525  29.52480361  27.65746907  28.2878982   32.16836344\n",
      "  34.57846094  25.91234823  29.37114377  26.29651069  23.30400691\n",
      "  30.33126062  26.72217473  27.15986018  28.71044793  31.2007987\n",
      "  29.06158395  31.78590769  26.37640094  30.78656644  25.62992468\n",
      "  33.29343205  29.60250321  25.90024716  33.16236114  30.03705625\n",
      "  26.22180244  25.88104248  28.14352958  23.43758658  25.82945953\n",
      "  27.44825495  27.09618273  27.72997076  26.40792917  28.69755995\n",
      "  31.65504302  24.91691647  28.13714048  25.08363525  29.89321944\n",
      "  27.24693165  28.52036109  25.60770674  25.22276848  27.91257382]\n",
      "In calculate HSD loop - _hwdist.values[0]\n",
      "[ 3.99384947  4.95045476  3.13621333]\n",
      "[ 0.66666667  1.          0.33333333]\n",
      "Input Depth Annual Year Max Data = 3 years\n",
      "[ 3.99384947  4.95045476  3.13621333]\n",
      "Input Depth Annual Year Max Interpolated Data = n years\n",
      "[ 3.13621333  3.13621333  3.13621333  3.13621333  3.13621333  3.13621333\n",
      "  3.13621333  3.13621333  3.13621333  3.13621333  3.13621333  3.13621333\n",
      "  3.13621333  3.19290869  3.19635135  3.28889575  3.30371205  3.3052328\n",
      "  3.36957334  3.38596325  3.45416844  3.45497126  3.45732644  3.45852319\n",
      "  3.59080384  3.65811278  3.6777401   3.7599322   3.79912533  3.89667528\n",
      "  3.91510404  3.93957031  4.03610993  4.06088364  4.08842536  4.15886667\n",
      "  4.25245425  4.36613578  4.42104209  4.4360894   4.5172225   4.54214494\n",
      "  4.61193532  4.67490639  4.67507983  4.68885301  4.81234337  4.82534721\n",
      "  4.83274272  4.83327043]\n",
      "In calculate HSD loop -interpolate _hwdist.values[0]\n",
      "[ 3.13621333  3.13621333  3.13621333  3.13621333  3.13621333  3.13621333\n",
      "  3.13621333  3.13621333  3.13621333  3.13621333  3.13621333  3.13621333\n",
      "  3.13621333  3.19290869  3.19635135  3.28889575  3.30371205  3.3052328\n",
      "  3.36957334  3.38596325  3.45416844  3.45497126  3.45732644  3.45852319\n",
      "  3.59080384  3.65811278  3.6777401   3.7599322   3.79912533  3.89667528\n",
      "  3.91510404  3.93957031  4.03610993  4.06088364  4.08842536  4.15886667\n",
      "  4.25245425  4.36613578  4.42104209  4.4360894   4.5172225   4.54214494\n",
      "  4.61193532  4.67490639  4.67507983  4.68885301  4.81234337  4.82534721\n",
      "  4.83274272  4.83327043]\n",
      "interpolated Depth dist FOS input\n",
      "[ 3.13621333  3.13621333  3.13621333  3.13621333  3.13621333  3.13621333\n",
      "  3.13621333  3.13621333  3.13621333  3.13621333  3.13621333  3.13621333\n",
      "  3.13621333  3.19290869  3.19635135  3.28889575  3.30371205  3.3052328\n",
      "  3.36957334  3.38596325  3.45416844  3.45497126  3.45732644  3.45852319\n",
      "  3.59080384  3.65811278  3.6777401   3.7599322   3.79912533  3.89667528\n",
      "  3.91510404  3.93957031  4.03610993  4.06088364  4.08842536  4.15886667\n",
      "  4.25245425  4.36613578  4.42104209  4.4360894   4.5172225   4.54214494\n",
      "  4.61193532  4.67490639  4.67507983  4.68885301  4.81234337  4.82534721\n",
      "  4.83274272  4.83327043]\n",
      "i\n",
      "6\n",
      "self._HSD_dict\n",
      "[{0: (3.1348855160345486, 2.1339028896492409, 4.2298493546765314)}, {1: (4.3641055473531214, 3.3839620238107222, 4.4822002297488588)}, {2: (4.9997363861010431, 4.4987411920372287, 3.8892047488581669)}, {3: (3.9480286943080589, 2.007680398674899, 4.3143715531551994)}, {4: (3.8487040702022735, 2.48373836203718, 2.3989945374607911)}, {5: (4.176460110679832, 2.3597464046292518, 3.86995565015072)}, {6: (3.9938494706376044, 4.9504547555157892, 3.1362133315826775)}, {7: (4.2026147447657127, 4.8803142543445528, 2.9848784481643795)}, {8: (4.1163454826398613, 3.746951123011975, 2.1198065039185501)}, {9: (4.6215269665299221, 2.7099028438244708, 4.829102153571891)}, {10: (3.7740425056733122, 2.0782994936051171, 3.8324204869673371)}, {11: (2.7359464420021391, 2.8233773035209206, 4.8240207409403384)}, {12: (4.9040529801858987, 4.7971356536503436, 2.6893029622097657)}, {13: (2.0149565917571559, 3.5470104394242314, 2.7042667872425739)}, {14: (3.4423020872620453, 3.7744471204150347, 2.0271274892017592)}, {15: (4.4711137780420813, 4.1925682324790561, 2.1644931070588127)}, {16: (4.2663012232093855, 3.9762677759984459, 4.3539971907449413)}, {17: (4.3407503897934561, 4.9119388775808348, 2.5880043715323349)}, {18: (4.2689057625043292, 4.8282254881463036, 4.0076949260173054)}, {19: (2.6426233884811143, 2.8315266942441326, 2.5452952714296782)}]\n",
      "self._De\n",
      "[ 3.13621333  3.13621333  3.13621333  3.13621333  3.13621333  3.13621333\n",
      "  3.13621333  3.13621333  3.13621333  3.13621333  3.13621333  3.13621333\n",
      "  3.13621333  3.19290869  3.19635135  3.28889575  3.30371205  3.3052328\n",
      "  3.36957334  3.38596325  3.45416844  3.45497126  3.45732644  3.45852319\n",
      "  3.59080384  3.65811278  3.6777401   3.7599322   3.79912533  3.89667528\n",
      "  3.91510404  3.93957031  4.03610993  4.06088364  4.08842536  4.15886667\n",
      "  4.25245425  4.36613578  4.42104209  4.4360894   4.5172225   4.54214494\n",
      "  4.61193532  4.67490639  4.67507983  4.68885301  4.81234337  4.82534721\n",
      "  4.83274272  4.83327043]\n",
      "self._HSD_dict\n",
      "[{0: (3.1348855160345486, 2.1339028896492409, 4.2298493546765314)}, {1: (4.3641055473531214, 3.3839620238107222, 4.4822002297488588)}, {2: (4.9997363861010431, 4.4987411920372287, 3.8892047488581669)}, {3: (3.9480286943080589, 2.007680398674899, 4.3143715531551994)}, {4: (3.8487040702022735, 2.48373836203718, 2.3989945374607911)}, {5: (4.176460110679832, 2.3597464046292518, 3.86995565015072)}, {6: (3.9938494706376044, 4.9504547555157892, 3.1362133315826775)}, {7: (4.2026147447657127, 4.8803142543445528, 2.9848784481643795)}, {8: (4.1163454826398613, 3.746951123011975, 2.1198065039185501)}, {9: (4.6215269665299221, 2.7099028438244708, 4.829102153571891)}, {10: (3.7740425056733122, 2.0782994936051171, 3.8324204869673371)}, {11: (2.7359464420021391, 2.8233773035209206, 4.8240207409403384)}, {12: (4.9040529801858987, 4.7971356536503436, 2.6893029622097657)}, {13: (2.0149565917571559, 3.5470104394242314, 2.7042667872425739)}, {14: (3.4423020872620453, 3.7744471204150347, 2.0271274892017592)}, {15: (4.4711137780420813, 4.1925682324790561, 2.1644931070588127)}, {16: (4.2663012232093855, 3.9762677759984459, 4.3539971907449413)}, {17: (4.3407503897934561, 4.9119388775808348, 2.5880043715323349)}, {18: (4.2689057625043292, 4.8282254881463036, 4.0076949260173054)}, {19: (2.6426233884811143, 2.8315266942441326, 2.5452952714296782)}]\n",
      "Depth of Water Distribution (SoilDepth-DTWdist)\n",
      "[-1.13621333 -1.13621333 -1.13621333 -1.13621333 -1.13621333 -1.13621333\n",
      " -1.13621333 -1.13621333 -1.13621333 -1.13621333 -1.13621333 -1.13621333\n",
      " -1.13621333 -1.19290869 -1.19635135 -1.28889575 -1.30371205 -1.3052328\n",
      " -1.36957334 -1.38596325 -1.45416844 -1.45497126 -1.45732644 -1.45852319\n",
      " -1.59080384 -1.65811278 -1.6777401  -1.7599322  -1.79912533 -1.89667528\n",
      " -1.91510404 -1.93957031 -2.03610993 -2.06088364 -2.08842536 -2.15886667\n",
      " -2.25245425 -2.36613578 -2.42104209 -2.4360894  -2.5172225  -2.54214494\n",
      " -2.61193532 -2.67490639 -2.67507983 -2.68885301 -2.81234337 -2.82534721\n",
      " -2.83274272 -2.83327043]\n",
      "Depth distribution is not none - count saturated cells\n",
      "Soil Thickness This Node\n",
      "2\n",
      "Depth of Water Distribution (SoilDepth-DTWdist) hw>hs correction\n",
      "[ 2.  2.  2.  2.  2.  2.  2.  2.  2.  2.  2.  2.  2.  2.  2.  2.  2.  2.\n",
      "  2.  2.  2.  2.  2.  2.  2.  2.  2.  2.  2.  2.  2.  2.  2.  2.  2.  2.\n",
      "  2.  2.  2.  2.  2.  2.  2.  2.  2.  2.  2.  2.  2.  2.]\n",
      "Soil thickness All\n",
      "[1 1 1 1 1 2 2 2 2 3 4 5 5 6 6 7 8 8 8 9]\n",
      "Mean water table depth\n",
      "3.77418633179\n",
      "In calculate HSD loop - _hwdist.values[0]\n",
      "[ 3.99384947  4.95045476  3.13621333]\n",
      "[ 0.66666667  1.          0.33333333]\n",
      "Input Depth Annual Year Max Data = 3 years\n",
      "[ 3.99384947  4.95045476  3.13621333]\n",
      "Input Depth Annual Year Max Interpolated Data = n years\n",
      "[ 3.13621333  3.13621333  3.13621333  3.13621333  3.13621333  3.13621333\n",
      "  3.13621333  3.13621333  3.13621333  3.13621333  3.13621333  3.13621333\n",
      "  3.13621333  3.13621333  3.13621333  3.13621333  3.13621333  3.13621333\n",
      "  3.13621333  3.13621333  3.17528561  3.2062279   3.31098114  3.33103592\n",
      "  3.34596592  3.36971932  3.38182932  3.44709545  3.54008795  3.60956463\n",
      "  3.70573812  3.85953861  3.86987026  3.92205269  3.98314078  3.99177172\n",
      "  4.1083782   4.32837751  4.41944262  4.45873165  4.57591087  4.67767401\n",
      "  4.73512361  4.74753414  4.79348023  4.86140926  4.87657483  4.90881782\n",
      "  4.92006277  4.92274669]\n",
      "In calculate HSD loop -interpolate _hwdist.values[0]\n",
      "[ 3.13621333  3.13621333  3.13621333  3.13621333  3.13621333  3.13621333\n",
      "  3.13621333  3.13621333  3.13621333  3.13621333  3.13621333  3.13621333\n",
      "  3.13621333  3.13621333  3.13621333  3.13621333  3.13621333  3.13621333\n",
      "  3.13621333  3.13621333  3.17528561  3.2062279   3.31098114  3.33103592\n",
      "  3.34596592  3.36971932  3.38182932  3.44709545  3.54008795  3.60956463\n",
      "  3.70573812  3.85953861  3.86987026  3.92205269  3.98314078  3.99177172\n",
      "  4.1083782   4.32837751  4.41944262  4.45873165  4.57591087  4.67767401\n",
      "  4.73512361  4.74753414  4.79348023  4.86140926  4.87657483  4.90881782\n",
      "  4.92006277  4.92274669]\n",
      "interpolated Depth dist FOS input\n",
      "[ 3.13621333  3.13621333  3.13621333  3.13621333  3.13621333  3.13621333\n",
      "  3.13621333  3.13621333  3.13621333  3.13621333  3.13621333  3.13621333\n",
      "  3.13621333  3.13621333  3.13621333  3.13621333  3.13621333  3.13621333\n",
      "  3.13621333  3.13621333  3.17528561  3.2062279   3.31098114  3.33103592\n",
      "  3.34596592  3.36971932  3.38182932  3.44709545  3.54008795  3.60956463\n",
      "  3.70573812  3.85953861  3.86987026  3.92205269  3.98314078  3.99177172\n",
      "  4.1083782   4.32837751  4.41944262  4.45873165  4.57591087  4.67767401\n",
      "  4.73512361  4.74753414  4.79348023  4.86140926  4.87657483  4.90881782\n",
      "  4.92006277  4.92274669]\n",
      "self._rel_wetness\n",
      "[ 1.  1.  1.  1.  1.  1.  1.  1.  1.  1.  1.  1.  1.  1.  1.  1.  1.  1.\n",
      "  1.  1.  1.  1.  1.  1.  1.  1.  1.  1.  1.  1.  1.  1.  1.  1.  1.  1.\n",
      "  1.  1.  1.  1.  1.  1.  1.  1.  1.  1.  1.  1.  1.  1.]\n",
      "self._soil__mean_relative_wetness\n",
      "1.0\n",
      "self._rel_wetness\n",
      "[ 1.  1.  1.  1.  1.  1.  1.  1.  1.  1.  1.  1.  1.  1.  1.  1.  1.  1.\n",
      "  1.  1.  1.  1.  1.  1.  1.  1.  1.  1.  1.  1.  1.  1.  1.  1.  1.  1.\n",
      "  1.  1.  1.  1.  1.  1.  1.  1.  1.  1.  1.  1.  1.  1.]\n",
      "self._phi\n",
      "[ 27.63979391  28.09171343  29.24069254  31.36666823  27.81100884\n",
      "  33.87559985  32.80418943  24.81353373  27.19048656  28.62472788\n",
      "  25.6770837   27.91867581  31.25016932  30.62941839  30.07755151\n",
      "  30.93411275  26.76255379  27.87021578  30.58723427  33.06785518\n",
      "  29.39422014  27.42623862  24.42061624  30.9321191   23.70585678\n",
      "  28.08919747  29.28605631  33.83424597  25.47291367  28.32758463\n",
      "  24.269786    27.87677039  30.07615398  27.3974581   26.80707115\n",
      "  25.81727495  29.67690122  30.7773363   30.5451971   34.42723993\n",
      "  23.3967365   30.30750786  29.87997191  29.77748628  34.79896065\n",
      "  24.05108445  30.78964799  32.12552483  29.11845772  27.81433427]\n",
      "In calculate HSD loop - _hwdist.values[0]\n",
      "[ 4.62152697  2.70990284  4.82910215]\n",
      "[ 0.66666667  0.33333333  1.        ]\n",
      "Input Depth Annual Year Max Data = 3 years\n",
      "[ 4.62152697  2.70990284  4.82910215]\n",
      "Input Depth Annual Year Max Interpolated Data = n years\n",
      "[ 2.70990284  2.70990284  2.70990284  2.70990284  2.70990284  2.70990284\n",
      "  2.70990284  2.70990284  2.70990284  2.70990284  2.70990284  2.70990284\n",
      "  2.70990284  2.70990284  2.70990284  2.77519318  2.89207992  3.08741694\n",
      "  3.09115032  3.11397855  3.11656428  3.12110627  3.12304448  3.22818058\n",
      "  3.27436795  3.41945238  3.49722954  3.65296576  3.76980177  3.80440626\n",
      "  3.86595861  3.8774636   4.13070942  4.27537848  4.32251665  4.43869726\n",
      "  4.46393401  4.54556568  4.62446425  4.6442881   4.65085747  4.65868861\n",
      "  4.66548365  4.71851029  4.73119529  4.74013019  4.74165955  4.74638375\n",
      "  4.80365899  4.81662418]\n",
      "In calculate HSD loop -interpolate _hwdist.values[0]\n",
      "[ 2.70990284  2.70990284  2.70990284  2.70990284  2.70990284  2.70990284\n",
      "  2.70990284  2.70990284  2.70990284  2.70990284  2.70990284  2.70990284\n",
      "  2.70990284  2.70990284  2.70990284  2.77519318  2.89207992  3.08741694\n",
      "  3.09115032  3.11397855  3.11656428  3.12110627  3.12304448  3.22818058\n",
      "  3.27436795  3.41945238  3.49722954  3.65296576  3.76980177  3.80440626\n",
      "  3.86595861  3.8774636   4.13070942  4.27537848  4.32251665  4.43869726\n",
      "  4.46393401  4.54556568  4.62446425  4.6442881   4.65085747  4.65868861\n",
      "  4.66548365  4.71851029  4.73119529  4.74013019  4.74165955  4.74638375\n",
      "  4.80365899  4.81662418]\n",
      "interpolated Depth dist FOS input\n",
      "[ 2.70990284  2.70990284  2.70990284  2.70990284  2.70990284  2.70990284\n",
      "  2.70990284  2.70990284  2.70990284  2.70990284  2.70990284  2.70990284\n",
      "  2.70990284  2.70990284  2.70990284  2.77519318  2.89207992  3.08741694\n",
      "  3.09115032  3.11397855  3.11656428  3.12110627  3.12304448  3.22818058\n",
      "  3.27436795  3.41945238  3.49722954  3.65296576  3.76980177  3.80440626\n",
      "  3.86595861  3.8774636   4.13070942  4.27537848  4.32251665  4.43869726\n",
      "  4.46393401  4.54556568  4.62446425  4.6442881   4.65085747  4.65868861\n",
      "  4.66548365  4.71851029  4.73119529  4.74013019  4.74165955  4.74638375\n",
      "  4.80365899  4.81662418]\n",
      "i\n",
      "9\n",
      "self._HSD_dict\n",
      "[{0: (3.1348855160345486, 2.1339028896492409, 4.2298493546765314)}, {1: (4.3641055473531214, 3.3839620238107222, 4.4822002297488588)}, {2: (4.9997363861010431, 4.4987411920372287, 3.8892047488581669)}, {3: (3.9480286943080589, 2.007680398674899, 4.3143715531551994)}, {4: (3.8487040702022735, 2.48373836203718, 2.3989945374607911)}, {5: (4.176460110679832, 2.3597464046292518, 3.86995565015072)}, {6: (3.9938494706376044, 4.9504547555157892, 3.1362133315826775)}, {7: (4.2026147447657127, 4.8803142543445528, 2.9848784481643795)}, {8: (4.1163454826398613, 3.746951123011975, 2.1198065039185501)}, {9: (4.6215269665299221, 2.7099028438244708, 4.829102153571891)}, {10: (3.7740425056733122, 2.0782994936051171, 3.8324204869673371)}, {11: (2.7359464420021391, 2.8233773035209206, 4.8240207409403384)}, {12: (4.9040529801858987, 4.7971356536503436, 2.6893029622097657)}, {13: (2.0149565917571559, 3.5470104394242314, 2.7042667872425739)}, {14: (3.4423020872620453, 3.7744471204150347, 2.0271274892017592)}, {15: (4.4711137780420813, 4.1925682324790561, 2.1644931070588127)}, {16: (4.2663012232093855, 3.9762677759984459, 4.3539971907449413)}, {17: (4.3407503897934561, 4.9119388775808348, 2.5880043715323349)}, {18: (4.2689057625043292, 4.8282254881463036, 4.0076949260173054)}, {19: (2.6426233884811143, 2.8315266942441326, 2.5452952714296782)}]\n",
      "self._De\n",
      "[ 2.70990284  2.70990284  2.70990284  2.70990284  2.70990284  2.70990284\n",
      "  2.70990284  2.70990284  2.70990284  2.70990284  2.70990284  2.70990284\n",
      "  2.70990284  2.70990284  2.70990284  2.77519318  2.89207992  3.08741694\n",
      "  3.09115032  3.11397855  3.11656428  3.12110627  3.12304448  3.22818058\n",
      "  3.27436795  3.41945238  3.49722954  3.65296576  3.76980177  3.80440626\n",
      "  3.86595861  3.8774636   4.13070942  4.27537848  4.32251665  4.43869726\n",
      "  4.46393401  4.54556568  4.62446425  4.6442881   4.65085747  4.65868861\n",
      "  4.66548365  4.71851029  4.73119529  4.74013019  4.74165955  4.74638375\n",
      "  4.80365899  4.81662418]\n",
      "self._HSD_dict\n",
      "[{0: (3.1348855160345486, 2.1339028896492409, 4.2298493546765314)}, {1: (4.3641055473531214, 3.3839620238107222, 4.4822002297488588)}, {2: (4.9997363861010431, 4.4987411920372287, 3.8892047488581669)}, {3: (3.9480286943080589, 2.007680398674899, 4.3143715531551994)}, {4: (3.8487040702022735, 2.48373836203718, 2.3989945374607911)}, {5: (4.176460110679832, 2.3597464046292518, 3.86995565015072)}, {6: (3.9938494706376044, 4.9504547555157892, 3.1362133315826775)}, {7: (4.2026147447657127, 4.8803142543445528, 2.9848784481643795)}, {8: (4.1163454826398613, 3.746951123011975, 2.1198065039185501)}, {9: (4.6215269665299221, 2.7099028438244708, 4.829102153571891)}, {10: (3.7740425056733122, 2.0782994936051171, 3.8324204869673371)}, {11: (2.7359464420021391, 2.8233773035209206, 4.8240207409403384)}, {12: (4.9040529801858987, 4.7971356536503436, 2.6893029622097657)}, {13: (2.0149565917571559, 3.5470104394242314, 2.7042667872425739)}, {14: (3.4423020872620453, 3.7744471204150347, 2.0271274892017592)}, {15: (4.4711137780420813, 4.1925682324790561, 2.1644931070588127)}, {16: (4.2663012232093855, 3.9762677759984459, 4.3539971907449413)}, {17: (4.3407503897934561, 4.9119388775808348, 2.5880043715323349)}, {18: (4.2689057625043292, 4.8282254881463036, 4.0076949260173054)}, {19: (2.6426233884811143, 2.8315266942441326, 2.5452952714296782)}]\n",
      "Depth of Water Distribution (SoilDepth-DTWdist)\n",
      "[ 0.29009716  0.29009716  0.29009716  0.29009716  0.29009716  0.29009716\n",
      "  0.29009716  0.29009716  0.29009716  0.29009716  0.29009716  0.29009716\n",
      "  0.29009716  0.29009716  0.29009716  0.22480682  0.10792008 -0.08741694\n",
      " -0.09115032 -0.11397855 -0.11656428 -0.12110627 -0.12304448 -0.22818058\n",
      " -0.27436795 -0.41945238 -0.49722954 -0.65296576 -0.76980177 -0.80440626\n",
      " -0.86595861 -0.8774636  -1.13070942 -1.27537848 -1.32251665 -1.43869726\n",
      " -1.46393401 -1.54556568 -1.62446425 -1.6442881  -1.65085747 -1.65868861\n",
      " -1.66548365 -1.71851029 -1.73119529 -1.74013019 -1.74165955 -1.74638375\n",
      " -1.80365899 -1.81662418]\n",
      "Depth distribution is not none - count saturated cells\n",
      "Soil Thickness This Node\n",
      "3\n",
      "Depth of Water Distribution (SoilDepth-DTWdist) hw>hs correction\n",
      "[ 0.29009716  0.29009716  0.29009716  0.29009716  0.29009716  0.29009716\n",
      "  0.29009716  0.29009716  0.29009716  0.29009716  0.29009716  0.29009716\n",
      "  0.29009716  0.29009716  0.29009716  0.22480682  0.10792008  3.          3.\n",
      "  3.          3.          3.          3.          3.          3.          3.\n",
      "  3.          3.          3.          3.          3.          3.          3.\n",
      "  3.          3.          3.          3.          3.          3.          3.\n",
      "  3.          3.          3.          3.          3.          3.          3.\n",
      "  3.          3.          3.        ]\n",
      "Soil thickness All\n",
      "[1 1 1 1 1 2 2 2 2 3 4 5 5 6 6 7 8 8 8 9]\n",
      "Mean water table depth\n",
      "3.60155297721\n",
      "In calculate HSD loop - _hwdist.values[0]\n",
      "[ 4.62152697  2.70990284  4.82910215]\n"
     ]
    },
    {
     "name": "stdout",
     "output_type": "stream",
     "text": [
      "[ 0.66666667  0.33333333  1.        ]\n",
      "Input Depth Annual Year Max Data = 3 years\n",
      "[ 4.62152697  2.70990284  4.82910215]\n",
      "Input Depth Annual Year Max Interpolated Data = n years\n",
      "[ 2.70990284  2.70990284  2.70990284  2.70990284  2.70990284  2.70990284\n",
      "  2.70990284  2.70990284  2.70990284  2.70990284  2.70990284  2.70990284\n",
      "  2.70990284  2.70990284  2.70990284  2.70990284  2.70990284  2.70990284\n",
      "  2.70990284  2.70990284  2.8022742   2.88889562  2.89100153  2.93862459\n",
      "  2.95682249  3.04961062  3.28138788  3.41572933  3.64260506  3.67181207\n",
      "  3.70950379  3.80553001  3.8276338   4.00798589  4.31299133  4.63091348\n",
      "  4.63654593  4.65450246  4.67405697  4.67920118  4.68802713  4.69302392\n",
      "  4.73960166  4.7533616   4.75555609  4.76414645  4.78377509  4.80817233\n",
      "  4.81087587  4.8212239 ]\n",
      "In calculate HSD loop -interpolate _hwdist.values[0]\n",
      "[ 2.70990284  2.70990284  2.70990284  2.70990284  2.70990284  2.70990284\n",
      "  2.70990284  2.70990284  2.70990284  2.70990284  2.70990284  2.70990284\n",
      "  2.70990284  2.70990284  2.70990284  2.70990284  2.70990284  2.70990284\n",
      "  2.70990284  2.70990284  2.8022742   2.88889562  2.89100153  2.93862459\n",
      "  2.95682249  3.04961062  3.28138788  3.41572933  3.64260506  3.67181207\n",
      "  3.70950379  3.80553001  3.8276338   4.00798589  4.31299133  4.63091348\n",
      "  4.63654593  4.65450246  4.67405697  4.67920118  4.68802713  4.69302392\n",
      "  4.73960166  4.7533616   4.75555609  4.76414645  4.78377509  4.80817233\n",
      "  4.81087587  4.8212239 ]\n",
      "interpolated Depth dist FOS input\n",
      "[ 2.70990284  2.70990284  2.70990284  2.70990284  2.70990284  2.70990284\n",
      "  2.70990284  2.70990284  2.70990284  2.70990284  2.70990284  2.70990284\n",
      "  2.70990284  2.70990284  2.70990284  2.70990284  2.70990284  2.70990284\n",
      "  2.70990284  2.70990284  2.8022742   2.88889562  2.89100153  2.93862459\n",
      "  2.95682249  3.04961062  3.28138788  3.41572933  3.64260506  3.67181207\n",
      "  3.70950379  3.80553001  3.8276338   4.00798589  4.31299133  4.63091348\n",
      "  4.63654593  4.65450246  4.67405697  4.67920118  4.68802713  4.69302392\n",
      "  4.73960166  4.7533616   4.75555609  4.76414645  4.78377509  4.80817233\n",
      "  4.81087587  4.8212239 ]\n",
      "self._rel_wetness\n",
      "[ 0.09669905  0.09669905  0.09669905  0.09669905  0.09669905  0.09669905\n",
      "  0.09669905  0.09669905  0.09669905  0.09669905  0.09669905  0.09669905\n",
      "  0.09669905  0.09669905  0.09669905  0.07493561  0.03597336  1.          1.\n",
      "  1.          1.          1.          1.          1.          1.          1.\n",
      "  1.          1.          1.          1.          1.          1.          1.\n",
      "  1.          1.          1.          1.          1.          1.          1.\n",
      "  1.          1.          1.          1.          1.          1.          1.\n",
      "  1.          1.          1.        ]\n",
      "self._soil__mean_relative_wetness\n",
      "0.691227894936\n",
      "self._rel_wetness\n",
      "[ 0.09669905  0.09669905  0.09669905  0.09669905  0.09669905  0.09669905\n",
      "  0.09669905  0.09669905  0.09669905  0.09669905  0.09669905  0.09669905\n",
      "  0.09669905  0.09669905  0.09669905  0.07493561  0.03597336  1.          1.\n",
      "  1.          1.          1.          1.          1.          1.          1.\n",
      "  1.          1.          1.          1.          1.          1.          1.\n",
      "  1.          1.          1.          1.          1.          1.          1.\n",
      "  1.          1.          1.          1.          1.          1.          1.\n",
      "  1.          1.          1.        ]\n",
      "self._phi\n",
      "[ 25.51984343  31.31714994  29.35706547  29.1270676   33.21523451\n",
      "  32.02282904  35.80112086  28.94120665  34.56696275  32.7164386\n",
      "  28.98129521  31.14496679  28.45352759  34.16894817  26.69712592\n",
      "  27.78988239  27.50206796  29.31736528  32.42496346  30.30132006\n",
      "  29.97709244  23.98328326  29.48693774  25.97325904  27.75022526\n",
      "  35.2638648   27.81775805  33.91398496  33.1299837   27.25070291\n",
      "  30.99608628  26.73879149  32.22893651  31.29551176  33.24953808\n",
      "  29.91017234  34.89532529  25.71267219  28.48836867  32.08786608\n",
      "  29.4313151   27.39810558  26.62864552  33.32229396  29.8601496\n",
      "  34.30006167  32.28928935  29.36780376  29.09847736  30.2068529 ]\n",
      "In calculate HSD loop - _hwdist.values[0]\n",
      "[ 3.77404251  2.07829949  3.83242049]\n",
      "[ 0.66666667  0.33333333  1.        ]\n",
      "Input Depth Annual Year Max Data = 3 years\n",
      "[ 3.77404251  2.07829949  3.83242049]\n",
      "Input Depth Annual Year Max Interpolated Data = n years\n",
      "[ 2.07829949  2.07829949  2.07829949  2.07829949  2.07829949  2.07829949\n",
      "  2.07829949  2.07829949  2.07829949  2.07829949  2.07829949  2.07829949\n",
      "  2.07829949  2.07829949  2.07829949  2.07829949  2.07829949  2.07829949\n",
      "  2.07829949  2.14022289  2.71744128  2.82473617  2.83757305  2.88731173\n",
      "  2.95828273  2.96108444  3.00208366  3.03898472  3.103757    3.22720158\n",
      "  3.38944145  3.55136109  3.77587694  3.78407326  3.78510414  3.78597738\n",
      "  3.78633454  3.7923543   3.79831558  3.80334504  3.80678194  3.81032422\n",
      "  3.81125964  3.81305906  3.81871084  3.81881232  3.82163434  3.8217655\n",
      "  3.82783525  3.83238696]\n",
      "In calculate HSD loop -interpolate _hwdist.values[0]\n",
      "[ 2.07829949  2.07829949  2.07829949  2.07829949  2.07829949  2.07829949\n",
      "  2.07829949  2.07829949  2.07829949  2.07829949  2.07829949  2.07829949\n",
      "  2.07829949  2.07829949  2.07829949  2.07829949  2.07829949  2.07829949\n",
      "  2.07829949  2.14022289  2.71744128  2.82473617  2.83757305  2.88731173\n",
      "  2.95828273  2.96108444  3.00208366  3.03898472  3.103757    3.22720158\n",
      "  3.38944145  3.55136109  3.77587694  3.78407326  3.78510414  3.78597738\n",
      "  3.78633454  3.7923543   3.79831558  3.80334504  3.80678194  3.81032422\n",
      "  3.81125964  3.81305906  3.81871084  3.81881232  3.82163434  3.8217655\n",
      "  3.82783525  3.83238696]\n",
      "interpolated Depth dist FOS input\n",
      "[ 2.07829949  2.07829949  2.07829949  2.07829949  2.07829949  2.07829949\n",
      "  2.07829949  2.07829949  2.07829949  2.07829949  2.07829949  2.07829949\n",
      "  2.07829949  2.07829949  2.07829949  2.07829949  2.07829949  2.07829949\n",
      "  2.07829949  2.14022289  2.71744128  2.82473617  2.83757305  2.88731173\n",
      "  2.95828273  2.96108444  3.00208366  3.03898472  3.103757    3.22720158\n",
      "  3.38944145  3.55136109  3.77587694  3.78407326  3.78510414  3.78597738\n",
      "  3.78633454  3.7923543   3.79831558  3.80334504  3.80678194  3.81032422\n",
      "  3.81125964  3.81305906  3.81871084  3.81881232  3.82163434  3.8217655\n",
      "  3.82783525  3.83238696]\n",
      "i\n",
      "10\n",
      "self._HSD_dict\n",
      "[{0: (3.1348855160345486, 2.1339028896492409, 4.2298493546765314)}, {1: (4.3641055473531214, 3.3839620238107222, 4.4822002297488588)}, {2: (4.9997363861010431, 4.4987411920372287, 3.8892047488581669)}, {3: (3.9480286943080589, 2.007680398674899, 4.3143715531551994)}, {4: (3.8487040702022735, 2.48373836203718, 2.3989945374607911)}, {5: (4.176460110679832, 2.3597464046292518, 3.86995565015072)}, {6: (3.9938494706376044, 4.9504547555157892, 3.1362133315826775)}, {7: (4.2026147447657127, 4.8803142543445528, 2.9848784481643795)}, {8: (4.1163454826398613, 3.746951123011975, 2.1198065039185501)}, {9: (4.6215269665299221, 2.7099028438244708, 4.829102153571891)}, {10: (3.7740425056733122, 2.0782994936051171, 3.8324204869673371)}, {11: (2.7359464420021391, 2.8233773035209206, 4.8240207409403384)}, {12: (4.9040529801858987, 4.7971356536503436, 2.6893029622097657)}, {13: (2.0149565917571559, 3.5470104394242314, 2.7042667872425739)}, {14: (3.4423020872620453, 3.7744471204150347, 2.0271274892017592)}, {15: (4.4711137780420813, 4.1925682324790561, 2.1644931070588127)}, {16: (4.2663012232093855, 3.9762677759984459, 4.3539971907449413)}, {17: (4.3407503897934561, 4.9119388775808348, 2.5880043715323349)}, {18: (4.2689057625043292, 4.8282254881463036, 4.0076949260173054)}, {19: (2.6426233884811143, 2.8315266942441326, 2.5452952714296782)}]\n",
      "self._De\n",
      "[ 2.07829949  2.07829949  2.07829949  2.07829949  2.07829949  2.07829949\n",
      "  2.07829949  2.07829949  2.07829949  2.07829949  2.07829949  2.07829949\n",
      "  2.07829949  2.07829949  2.07829949  2.07829949  2.07829949  2.07829949\n",
      "  2.07829949  2.14022289  2.71744128  2.82473617  2.83757305  2.88731173\n",
      "  2.95828273  2.96108444  3.00208366  3.03898472  3.103757    3.22720158\n",
      "  3.38944145  3.55136109  3.77587694  3.78407326  3.78510414  3.78597738\n",
      "  3.78633454  3.7923543   3.79831558  3.80334504  3.80678194  3.81032422\n",
      "  3.81125964  3.81305906  3.81871084  3.81881232  3.82163434  3.8217655\n",
      "  3.82783525  3.83238696]\n",
      "self._HSD_dict\n",
      "[{0: (3.1348855160345486, 2.1339028896492409, 4.2298493546765314)}, {1: (4.3641055473531214, 3.3839620238107222, 4.4822002297488588)}, {2: (4.9997363861010431, 4.4987411920372287, 3.8892047488581669)}, {3: (3.9480286943080589, 2.007680398674899, 4.3143715531551994)}, {4: (3.8487040702022735, 2.48373836203718, 2.3989945374607911)}, {5: (4.176460110679832, 2.3597464046292518, 3.86995565015072)}, {6: (3.9938494706376044, 4.9504547555157892, 3.1362133315826775)}, {7: (4.2026147447657127, 4.8803142543445528, 2.9848784481643795)}, {8: (4.1163454826398613, 3.746951123011975, 2.1198065039185501)}, {9: (4.6215269665299221, 2.7099028438244708, 4.829102153571891)}, {10: (3.7740425056733122, 2.0782994936051171, 3.8324204869673371)}, {11: (2.7359464420021391, 2.8233773035209206, 4.8240207409403384)}, {12: (4.9040529801858987, 4.7971356536503436, 2.6893029622097657)}, {13: (2.0149565917571559, 3.5470104394242314, 2.7042667872425739)}, {14: (3.4423020872620453, 3.7744471204150347, 2.0271274892017592)}, {15: (4.4711137780420813, 4.1925682324790561, 2.1644931070588127)}, {16: (4.2663012232093855, 3.9762677759984459, 4.3539971907449413)}, {17: (4.3407503897934561, 4.9119388775808348, 2.5880043715323349)}, {18: (4.2689057625043292, 4.8282254881463036, 4.0076949260173054)}, {19: (2.6426233884811143, 2.8315266942441326, 2.5452952714296782)}]\n",
      "Depth of Water Distribution (SoilDepth-DTWdist)\n",
      "[ 1.92170051  1.92170051  1.92170051  1.92170051  1.92170051  1.92170051\n",
      "  1.92170051  1.92170051  1.92170051  1.92170051  1.92170051  1.92170051\n",
      "  1.92170051  1.92170051  1.92170051  1.92170051  1.92170051  1.92170051\n",
      "  1.92170051  1.85977711  1.28255872  1.17526383  1.16242695  1.11268827\n",
      "  1.04171727  1.03891556  0.99791634  0.96101528  0.896243    0.77279842\n",
      "  0.61055855  0.44863891  0.22412306  0.21592674  0.21489586  0.21402262\n",
      "  0.21366546  0.2076457   0.20168442  0.19665496  0.19321806  0.18967578\n",
      "  0.18874036  0.18694094  0.18128916  0.18118768  0.17836566  0.1782345\n",
      "  0.17216475  0.16761304]\n",
      "Depth distribution is not none - count saturated cells\n",
      "Soil Thickness This Node\n",
      "4\n",
      "Depth of Water Distribution (SoilDepth-DTWdist) hw>hs correction\n",
      "[ 1.92170051  1.92170051  1.92170051  1.92170051  1.92170051  1.92170051\n",
      "  1.92170051  1.92170051  1.92170051  1.92170051  1.92170051  1.92170051\n",
      "  1.92170051  1.92170051  1.92170051  1.92170051  1.92170051  1.92170051\n",
      "  1.92170051  1.85977711  1.28255872  1.17526383  1.16242695  1.11268827\n",
      "  1.04171727  1.03891556  0.99791634  0.96101528  0.896243    0.77279842\n",
      "  0.61055855  0.44863891  0.22412306  0.21592674  0.21489586  0.21402262\n",
      "  0.21366546  0.2076457   0.20168442  0.19665496  0.19321806  0.18967578\n",
      "  0.18874036  0.18694094  0.18128916  0.18118768  0.17836566  0.1782345\n",
      "  0.17216475  0.16761304]\n",
      "Soil thickness All\n",
      "[1 1 1 1 1 2 2 2 2 3 4 5 5 6 6 7 8 8 8 9]\n",
      "Mean water table depth\n",
      "2.93242246796\n",
      "In calculate HSD loop - _hwdist.values[0]\n",
      "[ 3.77404251  2.07829949  3.83242049]\n"
     ]
    },
    {
     "name": "stdout",
     "output_type": "stream",
     "text": [
      "[ 0.66666667  0.33333333  1.        ]\n",
      "Input Depth Annual Year Max Data = 3 years\n",
      "[ 3.77404251  2.07829949  3.83242049]\n",
      "Input Depth Annual Year Max Interpolated Data = n years\n",
      "[ 2.07829949  2.07829949  2.07829949  2.07829949  2.07829949  2.07829949\n",
      "  2.07829949  2.07829949  2.07829949  2.07829949  2.07829949  2.07829949\n",
      "  2.07829949  2.07829949  2.07829949  2.07829949  2.07829949  2.07829949\n",
      "  2.16305024  2.47653887  2.57065501  2.70591243  2.78096785  2.80064252\n",
      "  2.80319332  2.87254466  2.87743488  3.02832977  3.05746706  3.34495034\n",
      "  3.3770979   3.39867421  3.53918159  3.57075586  3.63646133  3.70006366\n",
      "  3.7814163   3.78327599  3.78470412  3.78920446  3.79358912  3.8058606\n",
      "  3.80671888  3.81132061  3.82258687  3.82340815  3.82430753  3.82627765\n",
      "  3.82702739  3.8316876 ]\n",
      "In calculate HSD loop -interpolate _hwdist.values[0]\n",
      "[ 2.07829949  2.07829949  2.07829949  2.07829949  2.07829949  2.07829949\n",
      "  2.07829949  2.07829949  2.07829949  2.07829949  2.07829949  2.07829949\n",
      "  2.07829949  2.07829949  2.07829949  2.07829949  2.07829949  2.07829949\n",
      "  2.16305024  2.47653887  2.57065501  2.70591243  2.78096785  2.80064252\n",
      "  2.80319332  2.87254466  2.87743488  3.02832977  3.05746706  3.34495034\n",
      "  3.3770979   3.39867421  3.53918159  3.57075586  3.63646133  3.70006366\n",
      "  3.7814163   3.78327599  3.78470412  3.78920446  3.79358912  3.8058606\n",
      "  3.80671888  3.81132061  3.82258687  3.82340815  3.82430753  3.82627765\n",
      "  3.82702739  3.8316876 ]\n",
      "interpolated Depth dist FOS input\n",
      "[ 2.07829949  2.07829949  2.07829949  2.07829949  2.07829949  2.07829949\n",
      "  2.07829949  2.07829949  2.07829949  2.07829949  2.07829949  2.07829949\n",
      "  2.07829949  2.07829949  2.07829949  2.07829949  2.07829949  2.07829949\n",
      "  2.16305024  2.47653887  2.57065501  2.70591243  2.78096785  2.80064252\n",
      "  2.80319332  2.87254466  2.87743488  3.02832977  3.05746706  3.34495034\n",
      "  3.3770979   3.39867421  3.53918159  3.57075586  3.63646133  3.70006366\n",
      "  3.7814163   3.78327599  3.78470412  3.78920446  3.79358912  3.8058606\n",
      "  3.80671888  3.81132061  3.82258687  3.82340815  3.82430753  3.82627765\n",
      "  3.82702739  3.8316876 ]\n",
      "self._rel_wetness\n",
      "[ 0.48042513  0.48042513  0.48042513  0.48042513  0.48042513  0.48042513\n",
      "  0.48042513  0.48042513  0.48042513  0.48042513  0.48042513  0.48042513\n",
      "  0.48042513  0.48042513  0.48042513  0.48042513  0.48042513  0.48042513\n",
      "  0.48042513  0.46494428  0.32063968  0.29381596  0.29060674  0.27817207\n",
      "  0.26042932  0.25972889  0.24947909  0.24025382  0.22406075  0.1931996\n",
      "  0.15263964  0.11215973  0.05603076  0.05398169  0.05372397  0.05350566\n",
      "  0.05341636  0.05191142  0.05042111  0.04916374  0.04830452  0.04741895\n",
      "  0.04718509  0.04673523  0.04532229  0.04529692  0.04459141  0.04455863\n",
      "  0.04304119  0.04190326]\n",
      "self._soil__mean_relative_wetness\n",
      "0.26689438301\n",
      "self._rel_wetness\n",
      "[ 0.48042513  0.48042513  0.48042513  0.48042513  0.48042513  0.48042513\n",
      "  0.48042513  0.48042513  0.48042513  0.48042513  0.48042513  0.48042513\n",
      "  0.48042513  0.48042513  0.48042513  0.48042513  0.48042513  0.48042513\n",
      "  0.48042513  0.46494428  0.32063968  0.29381596  0.29060674  0.27817207\n",
      "  0.26042932  0.25972889  0.24947909  0.24025382  0.22406075  0.1931996\n",
      "  0.15263964  0.11215973  0.05603076  0.05398169  0.05372397  0.05350566\n",
      "  0.05341636  0.05191142  0.05042111  0.04916374  0.04830452  0.04741895\n",
      "  0.04718509  0.04673523  0.04532229  0.04529692  0.04459141  0.04455863\n",
      "  0.04304119  0.04190326]\n",
      "self._phi\n",
      "[ 28.51291062  35.19543963  28.2662453   33.47119644  36.86445201\n",
      "  32.8812828   30.23483274  26.01632758  29.85432492  29.58584796\n",
      "  27.69786069  29.47306821  28.98371927  27.29983831  29.61001181\n",
      "  28.23996958  30.26056856  25.41133838  34.72788793  33.30908268\n",
      "  30.52083407  33.81450595  36.0305292   26.67230573  31.23193134\n",
      "  37.76045478  37.00342906  30.97405323  26.89286037  30.79096985\n",
      "  24.17531287  27.6601545   35.85017127  28.78110457  31.30445505\n",
      "  28.39066754  35.63026664  32.23639699  28.77512724  32.98655281\n",
      "  26.6413019   29.23734754  27.87194331  31.7563684   26.56462907\n",
      "  29.27243629  28.35598274  30.1297548   28.92623702  31.99466845]\n",
      "In calculate HSD loop - _hwdist.values[0]\n",
      "[ 2.01495659  3.54701044  2.70426679]\n",
      "[ 0.33333333  1.          0.66666667]\n",
      "Input Depth Annual Year Max Data = 3 years\n",
      "[ 2.01495659  3.54701044  2.70426679]\n",
      "Input Depth Annual Year Max Interpolated Data = n years\n",
      "[ 2.01495659  2.01495659  2.01495659  2.01495659  2.01495659  2.01495659\n",
      "  2.01495659  2.01495659  2.01495659  2.01495659  2.01495659  2.01495659\n",
      "  2.01495659  2.01495659  2.01495659  2.06823425  2.11717623  2.14378936\n",
      "  2.18908848  2.21484989  2.2766364   2.30445212  2.36396588  2.46062251\n",
      "  2.47395607  2.51183154  2.56292229  2.64624585  2.69158936  2.72565372\n",
      "  2.77273218  2.90995388  2.93566831  2.96584125  2.9947986   3.00644558\n",
      "  3.01081248  3.02510107  3.04338329  3.11981807  3.15552421  3.19708043\n",
      "  3.26309222  3.33549947  3.41252668  3.43335807  3.43441803  3.49464147\n",
      "  3.50400551  3.53707771]\n",
      "In calculate HSD loop -interpolate _hwdist.values[0]\n",
      "[ 2.01495659  2.01495659  2.01495659  2.01495659  2.01495659  2.01495659\n",
      "  2.01495659  2.01495659  2.01495659  2.01495659  2.01495659  2.01495659\n",
      "  2.01495659  2.01495659  2.01495659  2.06823425  2.11717623  2.14378936\n",
      "  2.18908848  2.21484989  2.2766364   2.30445212  2.36396588  2.46062251\n",
      "  2.47395607  2.51183154  2.56292229  2.64624585  2.69158936  2.72565372\n",
      "  2.77273218  2.90995388  2.93566831  2.96584125  2.9947986   3.00644558\n",
      "  3.01081248  3.02510107  3.04338329  3.11981807  3.15552421  3.19708043\n",
      "  3.26309222  3.33549947  3.41252668  3.43335807  3.43441803  3.49464147\n",
      "  3.50400551  3.53707771]\n",
      "interpolated Depth dist FOS input\n",
      "[ 2.01495659  2.01495659  2.01495659  2.01495659  2.01495659  2.01495659\n",
      "  2.01495659  2.01495659  2.01495659  2.01495659  2.01495659  2.01495659\n",
      "  2.01495659  2.01495659  2.01495659  2.06823425  2.11717623  2.14378936\n",
      "  2.18908848  2.21484989  2.2766364   2.30445212  2.36396588  2.46062251\n",
      "  2.47395607  2.51183154  2.56292229  2.64624585  2.69158936  2.72565372\n",
      "  2.77273218  2.90995388  2.93566831  2.96584125  2.9947986   3.00644558\n",
      "  3.01081248  3.02510107  3.04338329  3.11981807  3.15552421  3.19708043\n",
      "  3.26309222  3.33549947  3.41252668  3.43335807  3.43441803  3.49464147\n",
      "  3.50400551  3.53707771]\n",
      "i\n",
      "13\n",
      "self._HSD_dict\n",
      "[{0: (3.1348855160345486, 2.1339028896492409, 4.2298493546765314)}, {1: (4.3641055473531214, 3.3839620238107222, 4.4822002297488588)}, {2: (4.9997363861010431, 4.4987411920372287, 3.8892047488581669)}, {3: (3.9480286943080589, 2.007680398674899, 4.3143715531551994)}, {4: (3.8487040702022735, 2.48373836203718, 2.3989945374607911)}, {5: (4.176460110679832, 2.3597464046292518, 3.86995565015072)}, {6: (3.9938494706376044, 4.9504547555157892, 3.1362133315826775)}, {7: (4.2026147447657127, 4.8803142543445528, 2.9848784481643795)}, {8: (4.1163454826398613, 3.746951123011975, 2.1198065039185501)}, {9: (4.6215269665299221, 2.7099028438244708, 4.829102153571891)}, {10: (3.7740425056733122, 2.0782994936051171, 3.8324204869673371)}, {11: (2.7359464420021391, 2.8233773035209206, 4.8240207409403384)}, {12: (4.9040529801858987, 4.7971356536503436, 2.6893029622097657)}, {13: (2.0149565917571559, 3.5470104394242314, 2.7042667872425739)}, {14: (3.4423020872620453, 3.7744471204150347, 2.0271274892017592)}, {15: (4.4711137780420813, 4.1925682324790561, 2.1644931070588127)}, {16: (4.2663012232093855, 3.9762677759984459, 4.3539971907449413)}, {17: (4.3407503897934561, 4.9119388775808348, 2.5880043715323349)}, {18: (4.2689057625043292, 4.8282254881463036, 4.0076949260173054)}, {19: (2.6426233884811143, 2.8315266942441326, 2.5452952714296782)}]\n",
      "self._De\n",
      "[ 2.01495659  2.01495659  2.01495659  2.01495659  2.01495659  2.01495659\n",
      "  2.01495659  2.01495659  2.01495659  2.01495659  2.01495659  2.01495659\n",
      "  2.01495659  2.01495659  2.01495659  2.06823425  2.11717623  2.14378936\n",
      "  2.18908848  2.21484989  2.2766364   2.30445212  2.36396588  2.46062251\n",
      "  2.47395607  2.51183154  2.56292229  2.64624585  2.69158936  2.72565372\n",
      "  2.77273218  2.90995388  2.93566831  2.96584125  2.9947986   3.00644558\n",
      "  3.01081248  3.02510107  3.04338329  3.11981807  3.15552421  3.19708043\n",
      "  3.26309222  3.33549947  3.41252668  3.43335807  3.43441803  3.49464147\n",
      "  3.50400551  3.53707771]\n",
      "self._HSD_dict\n",
      "[{0: (3.1348855160345486, 2.1339028896492409, 4.2298493546765314)}, {1: (4.3641055473531214, 3.3839620238107222, 4.4822002297488588)}, {2: (4.9997363861010431, 4.4987411920372287, 3.8892047488581669)}, {3: (3.9480286943080589, 2.007680398674899, 4.3143715531551994)}, {4: (3.8487040702022735, 2.48373836203718, 2.3989945374607911)}, {5: (4.176460110679832, 2.3597464046292518, 3.86995565015072)}, {6: (3.9938494706376044, 4.9504547555157892, 3.1362133315826775)}, {7: (4.2026147447657127, 4.8803142543445528, 2.9848784481643795)}, {8: (4.1163454826398613, 3.746951123011975, 2.1198065039185501)}, {9: (4.6215269665299221, 2.7099028438244708, 4.829102153571891)}, {10: (3.7740425056733122, 2.0782994936051171, 3.8324204869673371)}, {11: (2.7359464420021391, 2.8233773035209206, 4.8240207409403384)}, {12: (4.9040529801858987, 4.7971356536503436, 2.6893029622097657)}, {13: (2.0149565917571559, 3.5470104394242314, 2.7042667872425739)}, {14: (3.4423020872620453, 3.7744471204150347, 2.0271274892017592)}, {15: (4.4711137780420813, 4.1925682324790561, 2.1644931070588127)}, {16: (4.2663012232093855, 3.9762677759984459, 4.3539971907449413)}, {17: (4.3407503897934561, 4.9119388775808348, 2.5880043715323349)}, {18: (4.2689057625043292, 4.8282254881463036, 4.0076949260173054)}, {19: (2.6426233884811143, 2.8315266942441326, 2.5452952714296782)}]\n",
      "Depth of Water Distribution (SoilDepth-DTWdist)\n",
      "[ 3.98504341  3.98504341  3.98504341  3.98504341  3.98504341  3.98504341\n",
      "  3.98504341  3.98504341  3.98504341  3.98504341  3.98504341  3.98504341\n",
      "  3.98504341  3.98504341  3.98504341  3.93176575  3.88282377  3.85621064\n",
      "  3.81091152  3.78515011  3.7233636   3.69554788  3.63603412  3.53937749\n",
      "  3.52604393  3.48816846  3.43707771  3.35375415  3.30841064  3.27434628\n",
      "  3.22726782  3.09004612  3.06433169  3.03415875  3.0052014   2.99355442\n",
      "  2.98918752  2.97489893  2.95661671  2.88018193  2.84447579  2.80291957\n",
      "  2.73690778  2.66450053  2.58747332  2.56664193  2.56558197  2.50535853\n",
      "  2.49599449  2.46292229]\n",
      "Depth distribution is not none - count saturated cells\n",
      "Soil Thickness This Node\n",
      "6\n",
      "Depth of Water Distribution (SoilDepth-DTWdist) hw>hs correction\n",
      "[ 3.98504341  3.98504341  3.98504341  3.98504341  3.98504341  3.98504341\n",
      "  3.98504341  3.98504341  3.98504341  3.98504341  3.98504341  3.98504341\n",
      "  3.98504341  3.98504341  3.98504341  3.93176575  3.88282377  3.85621064\n",
      "  3.81091152  3.78515011  3.7233636   3.69554788  3.63603412  3.53937749\n",
      "  3.52604393  3.48816846  3.43707771  3.35375415  3.30841064  3.27434628\n",
      "  3.22726782  3.09004612  3.06433169  3.03415875  3.0052014   2.99355442\n",
      "  2.98918752  2.97489893  2.95661671  2.88018193  2.84447579  2.80291957\n",
      "  2.73690778  2.66450053  2.58747332  2.56664193  2.56558197  2.50535853\n",
      "  2.49599449  2.46292229]\n",
      "Soil thickness All\n",
      "[1 1 1 1 1 2 2 2 2 3 4 5 5 6 6 7 8 8 8 9]\n",
      "Mean water table depth\n",
      "2.59054282657\n",
      "In calculate HSD loop - _hwdist.values[0]\n",
      "[ 2.01495659  3.54701044  2.70426679]\n",
      "[ 0.33333333  1.          0.66666667]\n",
      "Input Depth Annual Year Max Data = 3 years\n",
      "[ 2.01495659  3.54701044  2.70426679]\n",
      "Input Depth Annual Year Max Interpolated Data = n years\n",
      "[ 2.01495659  2.01495659  2.01495659  2.01495659  2.01495659  2.01495659\n",
      "  2.01495659  2.01495659  2.01495659  2.01495659  2.01495659  2.01495659\n",
      "  2.01495659  2.03309346  2.09918194  2.14500753  2.15374617  2.15463751\n",
      "  2.18131517  2.22592715  2.41692382  2.42644788  2.47952561  2.59694785\n",
      "  2.61012147  2.70262223  2.73167708  2.75410723  2.77359267  2.78987763\n",
      "  2.79660372  2.81855239  2.96095301  2.96338229  2.97752038  2.99381541\n",
      "  3.0298773   3.09674239  3.10070617  3.20856806  3.21104531  3.2514036\n",
      "  3.25464673  3.32777134  3.38991723  3.41877831  3.44793546  3.46250459\n",
      "  3.50262705  3.53243034]\n",
      "In calculate HSD loop -interpolate _hwdist.values[0]\n",
      "[ 2.01495659  2.01495659  2.01495659  2.01495659  2.01495659  2.01495659\n",
      "  2.01495659  2.01495659  2.01495659  2.01495659  2.01495659  2.01495659\n",
      "  2.01495659  2.03309346  2.09918194  2.14500753  2.15374617  2.15463751\n",
      "  2.18131517  2.22592715  2.41692382  2.42644788  2.47952561  2.59694785\n",
      "  2.61012147  2.70262223  2.73167708  2.75410723  2.77359267  2.78987763\n",
      "  2.79660372  2.81855239  2.96095301  2.96338229  2.97752038  2.99381541\n",
      "  3.0298773   3.09674239  3.10070617  3.20856806  3.21104531  3.2514036\n",
      "  3.25464673  3.32777134  3.38991723  3.41877831  3.44793546  3.46250459\n",
      "  3.50262705  3.53243034]\n",
      "interpolated Depth dist FOS input\n",
      "[ 2.01495659  2.01495659  2.01495659  2.01495659  2.01495659  2.01495659\n",
      "  2.01495659  2.01495659  2.01495659  2.01495659  2.01495659  2.01495659\n",
      "  2.01495659  2.03309346  2.09918194  2.14500753  2.15374617  2.15463751\n",
      "  2.18131517  2.22592715  2.41692382  2.42644788  2.47952561  2.59694785\n",
      "  2.61012147  2.70262223  2.73167708  2.75410723  2.77359267  2.78987763\n",
      "  2.79660372  2.81855239  2.96095301  2.96338229  2.97752038  2.99381541\n",
      "  3.0298773   3.09674239  3.10070617  3.20856806  3.21104531  3.2514036\n",
      "  3.25464673  3.32777134  3.38991723  3.41877831  3.44793546  3.46250459\n",
      "  3.50262705  3.53243034]\n",
      "self._rel_wetness\n",
      "[ 0.6641739   0.6641739   0.6641739   0.6641739   0.6641739   0.6641739\n",
      "  0.6641739   0.6641739   0.6641739   0.6641739   0.6641739   0.6641739\n",
      "  0.6641739   0.6641739   0.6641739   0.65529429  0.64713729  0.64270177\n",
      "  0.63515192  0.63085835  0.6205606   0.61592465  0.60600569  0.58989625\n",
      "  0.58767399  0.58136141  0.57284629  0.55895903  0.55140177  0.54572438\n",
      "  0.53787797  0.51500769  0.51072195  0.50569313  0.5008669   0.49892574\n",
      "  0.49819792  0.49581649  0.49276945  0.48003032  0.4740793   0.46715326\n",
      "  0.4561513   0.44408342  0.43124555  0.42777366  0.42759699  0.41755975\n",
      "  0.41599908  0.41048705]\n",
      "self._soil__mean_relative_wetness\n",
      "0.568242862239\n",
      "self._rel_wetness\n",
      "[ 0.6641739   0.6641739   0.6641739   0.6641739   0.6641739   0.6641739\n",
      "  0.6641739   0.6641739   0.6641739   0.6641739   0.6641739   0.6641739\n",
      "  0.6641739   0.6641739   0.6641739   0.65529429  0.64713729  0.64270177\n",
      "  0.63515192  0.63085835  0.6205606   0.61592465  0.60600569  0.58989625\n",
      "  0.58767399  0.58136141  0.57284629  0.55895903  0.55140177  0.54572438\n",
      "  0.53787797  0.51500769  0.51072195  0.50569313  0.5008669   0.49892574\n",
      "  0.49819792  0.49581649  0.49276945  0.48003032  0.4740793   0.46715326\n",
      "  0.4561513   0.44408342  0.43124555  0.42777366  0.42759699  0.41755975\n",
      "  0.41599908  0.41048705]\n",
      "self._phi\n",
      "[ 31.61591953  32.04440852  30.54682541  33.07344935  40.98380681\n",
      "  38.44616449  29.54258745  27.7636591   38.16480621  33.53195509\n",
      "  30.53528813  34.92777405  34.60518012  29.59431208  31.13129405\n",
      "  28.59303744  30.63781096  29.73188932  30.46003042  35.06134673\n",
      "  28.37585965  29.30380831  29.75645311  31.64115078  31.4871734\n",
      "  31.08836864  35.84687285  41.67083706  33.50197637  39.21645461\n",
      "  32.29719359  29.37557878  32.39792218  31.46409184  33.12955526\n",
      "  34.74400347  32.84311051  38.98065931  37.89487267  35.25229717\n",
      "  33.0961483   29.72371926  32.30051909  35.28077218  31.36396815\n",
      "  29.33572951  38.3554258   35.33571761  34.30066059  36.40930713]\n",
      "In calculate HSD loop - _hwdist.values[0]\n",
      "[ 3.44230209  3.77444712  2.02712749]\n",
      "[ 0.66666667  1.          0.33333333]\n",
      "Input Depth Annual Year Max Data = 3 years\n",
      "[ 3.44230209  3.77444712  2.02712749]\n",
      "Input Depth Annual Year Max Interpolated Data = n years\n",
      "[ 2.02712749  2.02712749  2.02712749  2.02712749  2.02712749  2.02712749\n",
      "  2.02712749  2.02712749  2.02712749  2.02712749  2.02712749  2.02712749\n",
      "  2.02712749  2.02712749  2.02712749  2.0558587   2.09903764  2.13178221\n",
      "  2.19576477  2.37153797  2.45935855  2.53370422  2.79619142  2.93369476\n",
      "  3.10287458  3.10899028  3.12074637  3.27947421  3.33148511  3.46420538\n",
      "  3.48918545  3.49576342  3.49782829  3.51561812  3.51571995  3.52394932\n",
      "  3.54419034  3.54505682  3.58002116  3.59610038  3.61565613  3.62229914\n",
      "  3.63152591  3.67363302  3.69015633  3.69447123  3.73535346  3.75353286\n",
      "  3.77280786  3.77297895]\n",
      "In calculate HSD loop -interpolate _hwdist.values[0]\n",
      "[ 2.02712749  2.02712749  2.02712749  2.02712749  2.02712749  2.02712749\n",
      "  2.02712749  2.02712749  2.02712749  2.02712749  2.02712749  2.02712749\n",
      "  2.02712749  2.02712749  2.02712749  2.0558587   2.09903764  2.13178221\n",
      "  2.19576477  2.37153797  2.45935855  2.53370422  2.79619142  2.93369476\n",
      "  3.10287458  3.10899028  3.12074637  3.27947421  3.33148511  3.46420538\n",
      "  3.48918545  3.49576342  3.49782829  3.51561812  3.51571995  3.52394932\n",
      "  3.54419034  3.54505682  3.58002116  3.59610038  3.61565613  3.62229914\n",
      "  3.63152591  3.67363302  3.69015633  3.69447123  3.73535346  3.75353286\n",
      "  3.77280786  3.77297895]\n",
      "interpolated Depth dist FOS input\n",
      "[ 2.02712749  2.02712749  2.02712749  2.02712749  2.02712749  2.02712749\n",
      "  2.02712749  2.02712749  2.02712749  2.02712749  2.02712749  2.02712749\n",
      "  2.02712749  2.02712749  2.02712749  2.0558587   2.09903764  2.13178221\n",
      "  2.19576477  2.37153797  2.45935855  2.53370422  2.79619142  2.93369476\n",
      "  3.10287458  3.10899028  3.12074637  3.27947421  3.33148511  3.46420538\n",
      "  3.48918545  3.49576342  3.49782829  3.51561812  3.51571995  3.52394932\n",
      "  3.54419034  3.54505682  3.58002116  3.59610038  3.61565613  3.62229914\n",
      "  3.63152591  3.67363302  3.69015633  3.69447123  3.73535346  3.75353286\n",
      "  3.77280786  3.77297895]\n",
      "i\n",
      "14\n",
      "self._HSD_dict\n",
      "[{0: (3.1348855160345486, 2.1339028896492409, 4.2298493546765314)}, {1: (4.3641055473531214, 3.3839620238107222, 4.4822002297488588)}, {2: (4.9997363861010431, 4.4987411920372287, 3.8892047488581669)}, {3: (3.9480286943080589, 2.007680398674899, 4.3143715531551994)}, {4: (3.8487040702022735, 2.48373836203718, 2.3989945374607911)}, {5: (4.176460110679832, 2.3597464046292518, 3.86995565015072)}, {6: (3.9938494706376044, 4.9504547555157892, 3.1362133315826775)}, {7: (4.2026147447657127, 4.8803142543445528, 2.9848784481643795)}, {8: (4.1163454826398613, 3.746951123011975, 2.1198065039185501)}, {9: (4.6215269665299221, 2.7099028438244708, 4.829102153571891)}, {10: (3.7740425056733122, 2.0782994936051171, 3.8324204869673371)}, {11: (2.7359464420021391, 2.8233773035209206, 4.8240207409403384)}, {12: (4.9040529801858987, 4.7971356536503436, 2.6893029622097657)}, {13: (2.0149565917571559, 3.5470104394242314, 2.7042667872425739)}, {14: (3.4423020872620453, 3.7744471204150347, 2.0271274892017592)}, {15: (4.4711137780420813, 4.1925682324790561, 2.1644931070588127)}, {16: (4.2663012232093855, 3.9762677759984459, 4.3539971907449413)}, {17: (4.3407503897934561, 4.9119388775808348, 2.5880043715323349)}, {18: (4.2689057625043292, 4.8282254881463036, 4.0076949260173054)}, {19: (2.6426233884811143, 2.8315266942441326, 2.5452952714296782)}]\n",
      "self._De\n",
      "[ 2.02712749  2.02712749  2.02712749  2.02712749  2.02712749  2.02712749\n",
      "  2.02712749  2.02712749  2.02712749  2.02712749  2.02712749  2.02712749\n",
      "  2.02712749  2.02712749  2.02712749  2.0558587   2.09903764  2.13178221\n",
      "  2.19576477  2.37153797  2.45935855  2.53370422  2.79619142  2.93369476\n",
      "  3.10287458  3.10899028  3.12074637  3.27947421  3.33148511  3.46420538\n",
      "  3.48918545  3.49576342  3.49782829  3.51561812  3.51571995  3.52394932\n",
      "  3.54419034  3.54505682  3.58002116  3.59610038  3.61565613  3.62229914\n",
      "  3.63152591  3.67363302  3.69015633  3.69447123  3.73535346  3.75353286\n",
      "  3.77280786  3.77297895]\n",
      "self._HSD_dict\n",
      "[{0: (3.1348855160345486, 2.1339028896492409, 4.2298493546765314)}, {1: (4.3641055473531214, 3.3839620238107222, 4.4822002297488588)}, {2: (4.9997363861010431, 4.4987411920372287, 3.8892047488581669)}, {3: (3.9480286943080589, 2.007680398674899, 4.3143715531551994)}, {4: (3.8487040702022735, 2.48373836203718, 2.3989945374607911)}, {5: (4.176460110679832, 2.3597464046292518, 3.86995565015072)}, {6: (3.9938494706376044, 4.9504547555157892, 3.1362133315826775)}, {7: (4.2026147447657127, 4.8803142543445528, 2.9848784481643795)}, {8: (4.1163454826398613, 3.746951123011975, 2.1198065039185501)}, {9: (4.6215269665299221, 2.7099028438244708, 4.829102153571891)}, {10: (3.7740425056733122, 2.0782994936051171, 3.8324204869673371)}, {11: (2.7359464420021391, 2.8233773035209206, 4.8240207409403384)}, {12: (4.9040529801858987, 4.7971356536503436, 2.6893029622097657)}, {13: (2.0149565917571559, 3.5470104394242314, 2.7042667872425739)}, {14: (3.4423020872620453, 3.7744471204150347, 2.0271274892017592)}, {15: (4.4711137780420813, 4.1925682324790561, 2.1644931070588127)}, {16: (4.2663012232093855, 3.9762677759984459, 4.3539971907449413)}, {17: (4.3407503897934561, 4.9119388775808348, 2.5880043715323349)}, {18: (4.2689057625043292, 4.8282254881463036, 4.0076949260173054)}, {19: (2.6426233884811143, 2.8315266942441326, 2.5452952714296782)}]\n",
      "Depth of Water Distribution (SoilDepth-DTWdist)\n",
      "[ 3.97287251  3.97287251  3.97287251  3.97287251  3.97287251  3.97287251\n",
      "  3.97287251  3.97287251  3.97287251  3.97287251  3.97287251  3.97287251\n",
      "  3.97287251  3.97287251  3.97287251  3.9441413   3.90096236  3.86821779\n",
      "  3.80423523  3.62846203  3.54064145  3.46629578  3.20380858  3.06630524\n",
      "  2.89712542  2.89100972  2.87925363  2.72052579  2.66851489  2.53579462\n",
      "  2.51081455  2.50423658  2.50217171  2.48438188  2.48428005  2.47605068\n",
      "  2.45580966  2.45494318  2.41997884  2.40389962  2.38434387  2.37770086\n",
      "  2.36847409  2.32636698  2.30984367  2.30552877  2.26464654  2.24646714\n",
      "  2.22719214  2.22702105]\n",
      "Depth distribution is not none - count saturated cells\n",
      "Soil Thickness This Node\n",
      "6\n",
      "Depth of Water Distribution (SoilDepth-DTWdist) hw>hs correction\n",
      "[ 3.97287251  3.97287251  3.97287251  3.97287251  3.97287251  3.97287251\n",
      "  3.97287251  3.97287251  3.97287251  3.97287251  3.97287251  3.97287251\n",
      "  3.97287251  3.97287251  3.97287251  3.9441413   3.90096236  3.86821779\n",
      "  3.80423523  3.62846203  3.54064145  3.46629578  3.20380858  3.06630524\n",
      "  2.89712542  2.89100972  2.87925363  2.72052579  2.66851489  2.53579462\n",
      "  2.51081455  2.50423658  2.50217171  2.48438188  2.48428005  2.47605068\n",
      "  2.45580966  2.45494318  2.41997884  2.40389962  2.38434387  2.37770086\n",
      "  2.36847409  2.32636698  2.30984367  2.30552877  2.26464654  2.24646714\n",
      "  2.22719214  2.22702105]\n",
      "Soil thickness All\n",
      "[1 1 1 1 1 2 2 2 2 3 4 5 5 6 6 7 8 8 8 9]\n",
      "Mean water table depth\n",
      "2.87314933257\n",
      "In calculate HSD loop - _hwdist.values[0]\n",
      "[ 3.44230209  3.77444712  2.02712749]\n",
      "[ 0.66666667  1.          0.33333333]\n",
      "Input Depth Annual Year Max Data = 3 years\n",
      "[ 3.44230209  3.77444712  2.02712749]\n",
      "Input Depth Annual Year Max Interpolated Data = n years\n",
      "[ 2.02712749  2.02712749  2.02712749  2.02712749  2.02712749  2.02712749\n",
      "  2.02712749  2.02712749  2.02712749  2.02712749  2.02712749  2.02712749\n",
      "  2.02712749  2.02712749  2.02712749  2.0834846   2.23827024  2.28096346\n",
      "  2.35952282  2.37437704  2.38375068  2.53011034  2.57379895  2.7624452\n",
      "  2.81956154  3.11558845  3.28434551  3.32213775  3.37542378  3.40057572\n",
      "  3.42612584  3.44862294  3.4600704   3.50754423  3.55327724  3.574117\n",
      "  3.57499064  3.57696949  3.58007808  3.60237596  3.6203629   3.65058254\n",
      "  3.65643659  3.6649504   3.69390627  3.70376615  3.71771236  3.73511025\n",
      "  3.76357446  3.76513214]\n",
      "In calculate HSD loop -interpolate _hwdist.values[0]\n",
      "[ 2.02712749  2.02712749  2.02712749  2.02712749  2.02712749  2.02712749\n",
      "  2.02712749  2.02712749  2.02712749  2.02712749  2.02712749  2.02712749\n",
      "  2.02712749  2.02712749  2.02712749  2.0834846   2.23827024  2.28096346\n",
      "  2.35952282  2.37437704  2.38375068  2.53011034  2.57379895  2.7624452\n",
      "  2.81956154  3.11558845  3.28434551  3.32213775  3.37542378  3.40057572\n",
      "  3.42612584  3.44862294  3.4600704   3.50754423  3.55327724  3.574117\n",
      "  3.57499064  3.57696949  3.58007808  3.60237596  3.6203629   3.65058254\n",
      "  3.65643659  3.6649504   3.69390627  3.70376615  3.71771236  3.73511025\n",
      "  3.76357446  3.76513214]\n",
      "interpolated Depth dist FOS input\n",
      "[ 2.02712749  2.02712749  2.02712749  2.02712749  2.02712749  2.02712749\n",
      "  2.02712749  2.02712749  2.02712749  2.02712749  2.02712749  2.02712749\n",
      "  2.02712749  2.02712749  2.02712749  2.0834846   2.23827024  2.28096346\n",
      "  2.35952282  2.37437704  2.38375068  2.53011034  2.57379895  2.7624452\n",
      "  2.81956154  3.11558845  3.28434551  3.32213775  3.37542378  3.40057572\n",
      "  3.42612584  3.44862294  3.4600704   3.50754423  3.55327724  3.574117\n",
      "  3.57499064  3.57696949  3.58007808  3.60237596  3.6203629   3.65058254\n",
      "  3.65643659  3.6649504   3.69390627  3.70376615  3.71771236  3.73511025\n",
      "  3.76357446  3.76513214]\n",
      "self._rel_wetness\n",
      "[ 0.66214542  0.66214542  0.66214542  0.66214542  0.66214542  0.66214542\n",
      "  0.66214542  0.66214542  0.66214542  0.66214542  0.66214542  0.66214542\n",
      "  0.66214542  0.66214542  0.66214542  0.65735688  0.65016039  0.64470296\n",
      "  0.6340392   0.60474367  0.59010691  0.57771596  0.5339681   0.51105087\n",
      "  0.48285424  0.48183495  0.47987561  0.45342097  0.44475248  0.42263244\n",
      "  0.41846909  0.41737276  0.41702862  0.41406365  0.41404667  0.41267511\n",
      "  0.40930161  0.4091572   0.40332981  0.40064994  0.39739065  0.39628348\n",
      "  0.39474568  0.38772783  0.38497394  0.3842548   0.37744109  0.37441119\n",
      "  0.37119869  0.37117017]\n",
      "self._soil__mean_relative_wetness\n",
      "0.521141777905\n",
      "self._rel_wetness\n",
      "[ 0.66214542  0.66214542  0.66214542  0.66214542  0.66214542  0.66214542\n",
      "  0.66214542  0.66214542  0.66214542  0.66214542  0.66214542  0.66214542\n",
      "  0.66214542  0.66214542  0.66214542  0.65735688  0.65016039  0.64470296\n",
      "  0.6340392   0.60474367  0.59010691  0.57771596  0.5339681   0.51105087\n",
      "  0.48285424  0.48183495  0.47987561  0.45342097  0.44475248  0.42263244\n",
      "  0.41846909  0.41737276  0.41702862  0.41406365  0.41404667  0.41267511\n",
      "  0.40930161  0.4091572   0.40332981  0.40064994  0.39739065  0.39628348\n",
      "  0.39474568  0.38772783  0.38497394  0.3842548   0.37744109  0.37441119\n",
      "  0.37119869  0.37117017]\n",
      "self._phi\n",
      "[ 38.20597362  36.09962126  37.27745925  27.98248459  31.58673892\n",
      "  33.3298124   32.45786276  30.85654161  31.56669474  39.24991809\n",
      "  31.44689062  31.95102467  26.82471596  37.20189703  30.01758113\n",
      "  30.57750348  31.09027606  37.8921819   30.60194476  36.48037492\n",
      "  36.63204172  38.7821177   29.50345379  30.71486649  35.74973469\n",
      "  30.49010935  31.37693791  30.16006429  30.22945192  33.02358538\n",
      "  29.41936959  31.6849658   32.54738148  27.7441125   32.2292311\n",
      "  29.18522049  33.13109812  36.89668126  36.78567026  28.96289096\n",
      "  34.15700277  37.03410265  30.92311323  35.99452481  38.00949536\n",
      "  36.60398909  29.38465627  27.15376669  30.44348593  31.23271387]\n",
      "Landslide probability successfully calculated\n"
     ]
    }
   ],
   "source": [
    "LS_prob1.calculate_landslide_probability()\n",
    "print('Landslide probability successfully calculated')"
   ]
  },
  {
   "cell_type": "markdown",
   "metadata": {},
   "source": [
    "To generate the outputs from running the component, we call the 'calculate_landslide_probability' method inside the component using the class instance (e.g., LS_prob1) for each recharge option specified above. The following cell runs the model; in the following section we will assessing the results."
   ]
  },
  {
   "cell_type": "markdown",
   "metadata": {},
   "source": [
    "Using recharge option 1 as an example, run the first recharge option simulation of probability of failure."
   ]
  },
  {
   "cell_type": "code",
   "execution_count": 15,
   "metadata": {},
   "outputs": [
    {
     "data": {
      "text/plain": [
       "(50,)"
      ]
     },
     "execution_count": 15,
     "metadata": {},
     "output_type": "execute_result"
    }
   ],
   "source": [
    "LS_prob1._De.shape"
   ]
  },
  {
   "cell_type": "code",
   "execution_count": 16,
   "metadata": {},
   "outputs": [
    {
     "data": {
      "text/plain": [
       "20"
      ]
     },
     "execution_count": 16,
     "metadata": {},
     "output_type": "execute_result"
    }
   ],
   "source": [
    "LS_prob1.grid.number_of_nodes"
   ]
  },
  {
   "cell_type": "markdown",
   "metadata": {},
   "source": [
    "The outputs of model simulations are:"
   ]
  },
  {
   "cell_type": "code",
   "execution_count": 17,
   "metadata": {},
   "outputs": [
    {
     "data": {
      "text/plain": [
       "['landslide__probability_of_failure',\n",
       " 'soil__mean_relative_wetness',\n",
       " 'soil__mean_watertable_depth',\n",
       " 'soil__probability_of_saturation']"
      ]
     },
     "execution_count": 17,
     "metadata": {},
     "output_type": "execute_result"
    }
   ],
   "source": [
    "sorted(LS_prob1.output_var_names)"
   ]
  },
  {
   "cell_type": "code",
   "execution_count": 18,
   "metadata": {},
   "outputs": [],
   "source": [
    "#grid['node']"
   ]
  },
  {
   "cell_type": "code",
   "execution_count": 19,
   "metadata": {},
   "outputs": [
    {
     "data": {
      "image/png": "[encoded data removed]",
      "text/plain": [
       "<Figure size 432x288 with 8 Axes>"
      ]
     },
     "metadata": {},
     "output_type": "display_data"
    },
    {
     "data": {
      "image/png": "[encoded data removed]",
      "text/plain": [
       "<Figure size 432x288 with 2 Axes>"
      ]
     },
     "metadata": {},
     "output_type": "display_data"
    }
   ],
   "source": [
    "fig = plt.figure('Water Table Depth Calculations')\n",
    "xticks = np.arange(-0.1, 1.6, 0.8)\n",
    "\n",
    "\n",
    "ax1 = fig.add_subplot(221)\n",
    "ax1.xaxis.set_visible(False)\n",
    "imshow_grid_at_node(grid, 'soil__thickness', plot_name='soil (m)',\n",
    "                    allow_colorbar=True, cmap='copper_r',\n",
    "                    grid_units=('coordinates', 'coordinates'))\n",
    "\n",
    "ax2 = fig.add_subplot(222)\n",
    "ax2.set_xticks(xticks)\n",
    "imshow_grid_at_node(grid, 'soil__mean_relative_wetness', cmap='YlGnBu',\n",
    "                 grid_units=('coordinates', 'coordinates'), shrink=0.75,\n",
    "                 var_name='mean_rw', var_units='m')\n",
    "\n",
    "ax3 = fig.add_subplot(223)\n",
    "ax3.set_xticks(xticks)\n",
    "imshow_grid_at_node(grid, 'soil__probability_of_saturation', cmap='YlGnBu',\n",
    "                 grid_units=('coordinates', 'coordinates'), shrink=0.75,\n",
    "                 var_name='prob Sat', var_units='-')\n",
    "ax4 = fig.add_subplot(224)\n",
    "ax4.xaxis.set_visible(False)\n",
    "imshow_grid_at_node(grid,'landslide__probability_of_failure', cmap='copper_r',\n",
    "                 grid_units=('coordinates', 'coordinates'), shrink=0.75,\n",
    "                 var_name='prob_failure', var_units='-')\n",
    "\n",
    "plt.figure('Slope')\n",
    "imshow_grid_at_node(grid,'topographic__slope', cmap='copper_r',\n",
    "                 grid_units=('coordinates', 'coordinates'), shrink=0.75,\n",
    "                 var_name='Slope', var_units='m/m')\n",
    "plt.savefig('Slope.png')\n"
   ]
  },
  {
   "cell_type": "markdown",
   "metadata": {},
   "source": [
    "Save the arrays as variables by 'attaching the fields to the grid' and view the outputs. \n",
    "\n",
    "This simulation generates a probability value for each core node. "
   ]
  },
  {
   "cell_type": "code",
   "execution_count": 20,
   "metadata": {},
   "outputs": [
    {
     "data": {
      "text/plain": [
       "array([ 0.        ,  0.        ,  0.        ,  0.        ,  0.        ,\n",
       "        1.        ,  1.        ,  0.        ,  0.        ,  0.69122789,\n",
       "        0.26689438,  0.        ,  0.        ,  0.56824286,  0.52114178,\n",
       "        0.        ,  0.        ,  0.        ,  0.        ,  0.        ])"
      ]
     },
     "execution_count": 20,
     "metadata": {},
     "output_type": "execute_result"
    }
   ],
   "source": [
    "LS_prob1_soil__probability_of_saturation = grid.at_node['soil__mean_relative_wetness']\n",
    "grid.at_node['soil__mean_relative_wetness']"
   ]
  },
  {
   "cell_type": "code",
   "execution_count": 21,
   "metadata": {},
   "outputs": [
    {
     "data": {
      "text/plain": [
       "array([0, 0, 0, 0, 0, 1, 1, 0, 0, 0, 0, 0, 0, 0, 0, 0, 0, 0, 0, 0])"
      ]
     },
     "execution_count": 21,
     "metadata": {},
     "output_type": "execute_result"
    }
   ],
   "source": [
    "LS_prob1_soil__probability_of_saturation = grid.at_node['soil__probability_of_saturation']\n",
    "grid.at_node['soil__probability_of_saturation']"
   ]
  },
  {
   "cell_type": "code",
   "execution_count": 22,
   "metadata": {},
   "outputs": [
    {
     "data": {
      "text/plain": [
       "array([ 0.        ,  0.        ,  0.        ,  0.        ,  0.        ,\n",
       "        2.95781606,  3.77418633,  0.        ,  0.        ,  3.60155298,\n",
       "        2.93242247,  0.        ,  0.        ,  2.59054283,  2.87314933,\n",
       "        0.        ,  0.        ,  0.        ,  0.        ,  0.        ])"
      ]
     },
     "execution_count": 22,
     "metadata": {},
     "output_type": "execute_result"
    }
   ],
   "source": [
    "LS_prob1_soil__mean_watertable_depth = grid.at_node['soil__mean_watertable_depth']\n",
    "grid.at_node['soil__mean_watertable_depth']"
   ]
  },
  {
   "cell_type": "code",
   "execution_count": 23,
   "metadata": {},
   "outputs": [
    {
     "data": {
      "text/plain": [
       "array([0, 0, 0, 0, 0, 1, 0, 0, 0, 1, 1, 0, 0, 0, 1, 0, 0, 0, 0, 0])"
      ]
     },
     "execution_count": 23,
     "metadata": {},
     "output_type": "execute_result"
    }
   ],
   "source": [
    "LS_prob1_probability_of_failure = grid.at_node['landslide__probability_of_failure']\n",
    "grid.at_node['landslide__probability_of_failure']"
   ]
  }
 ],
 "metadata": {
  "anaconda-cloud": {},
  "kernelspec": {
   "display_name": "Python 2.7",
   "language": "python",
   "name": "python2"
  },
  "language_info": {
   "codemirror_mode": {
    "name": "ipython",
    "version": 2
   },
   "file_extension": ".py",
   "mimetype": "text/x-python",
   "name": "python",
   "nbconvert_exporter": "python",
   "pygments_lexer": "ipython2",
   "version": "2.7.15"
  }
 },
 "nbformat": 4,
 "nbformat_minor": 1
}
