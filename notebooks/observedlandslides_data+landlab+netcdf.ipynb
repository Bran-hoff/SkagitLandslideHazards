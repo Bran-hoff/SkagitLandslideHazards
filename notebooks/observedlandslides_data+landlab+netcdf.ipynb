{
 "cells": [
  {
   "cell_type": "markdown",
   "metadata": {},
   "source": [
    "<img src=\"http://landlab.github.io/assets/Landlab-logo.png\"\n",
    "style=\"float:left;width:150px;padding:0px\">  \n",
    "\n",
    "<br /> \n",
    "\n",
    "# Notebook: Add interesting data to a Landlab grid and create a netcdf \n",
    "\n",
    "### You will explore how to reuse model code and data in a subregion within a larger region where the model was developed \n",
    "* Load data from a regional Landlab landslide model (Strauch et al., 2018) developed for the North Cascades National Park, WA USA, published on HydroShare. <br />\n",
    "* Define a geographic subset (Thunder Creek watershed) within the study region.\n",
    "* Explore landslide probability sensitivity to fire by adjusting the cohesion parameter for Thunder Creek.\n",
    "* Save results to a new HydroShare resource.  <br />\n",
    "\n",
    "The shallow landslide model you will is based on a spatially distributed Monte Carlo solution of the infinite slope stability model. Detailes of the model and the study site are described in Strauch et al. (2018). Please see the end of this Notebook for Acknowledgements and Citation information. \n",
    "\n",
    " <br /> <img src=\"https://www.washington.edu/brand/files/2014/09/W-Logo_Purple_Hex.png\" style=\"float:right;width:120px;padding:10px\">   "
   ]
  },
  {
   "cell_type": "markdown",
   "metadata": {},
   "source": [
    "## To run this notebook:\n",
    "\n",
    "Click in each shaded cell below and \"shift + enter\" to run each code block. Alternatively, you can run groups of cells by clicking \"Cell\" on the menu above and selecting your run options from the pull-down menu. This is also where you can clear outputs from previous runs.\n",
    "\n",
    "If an error occurs, click on *Kernal* and *Restart and Clear Outputs* in the menu above."
   ]
  },
  {
   "attachments": {},
   "cell_type": "markdown",
   "metadata": {},
   "source": [
    "## 1. Introduction\n",
    "\n"
   ]
  },
  {
   "cell_type": "markdown",
   "metadata": {},
   "source": [
    "### 2.1.2 Import Landlab libraries in development, Python libraries and Landlab 2.1.1 functions"
   ]
  },
  {
   "cell_type": "code",
   "execution_count": 12,
   "metadata": {},
   "outputs": [],
   "source": [
    "#Import standard Python utilities for calculating and plotting\n",
    "import six \n",
    "import os\n",
    "import matplotlib as mpl\n",
    "mpl.use('agg')\n",
    "import matplotlib.pyplot as plt\n",
    "import warnings \n",
    "warnings.filterwarnings('ignore')\n",
    "\n",
    "import numpy as np\n",
    "import pandas as pd\n",
    "import pickle as pickle\n",
    "from datetime import datetime, timedelta\n",
    "#import geopandas as gpd\n",
    "\n",
    "# Import Landlab libraries\n",
    "import landlab\n",
    "from landlab.io.netcdf import write_netcdf  \n",
    "from landlab.io.netcdf import read_netcdf  \n",
    "from landlab import imshow_grid_at_node\n",
    "from landlab.io import read_esri_ascii\n",
    "from landlab.io import write_esri_ascii\n",
    "from landlab.plot import imshow_grid\n",
    "# Import Landlab Landslide component libraries\n",
    "from landlab.components.landslides import LandslideProbability\n",
    "import numpy as np\n",
    "from landlab import RasterModelGrid\n",
    "from landlab.io.netcdf import write_raster_netcdf\n",
    "from landlab.io.netcdf import read_netcdf\n",
    "\n",
    "#Import utilities for importing and exporting to HydroShare\n",
    "#import sys\n",
    "#!{sys.executable} -m pip install hstools\n",
    "#from hstools import hydroshare\n",
    "\n",
    "# Import general tools\n",
    "import time\n",
    "from collections import defaultdict\n",
    "st = time.time()\n",
    "%matplotlib inline"
   ]
  },
  {
   "cell_type": "markdown",
   "metadata": {},
   "source": [
    "### 2.1.3 Connection and download with HydroShare\n",
    "After importing libraires, we now establish a secure connection with HydroShare by instantiating the hydroshare class that is defined within hs_utils. In addition to connecting with HydroShare, this command also sets and prints environment variables for several parameters that will be useful for saving work back to HydroShare."
   ]
  },
  {
   "cell_type": "code",
   "execution_count": 11,
   "metadata": {},
   "outputs": [],
   "source": [
    "resource_id = '01b486f301864828ba2cd9ab7ac77c4e'\n",
    "import json\n",
    "import os\n",
    "from hs_restclient import HydroShare, HydroShareAuthOAuth2\n",
    "oauth = json.loads(os.environ[\"HS_AUTH\"])\n",
    "auth = HydroShareAuthOAuth2(oauth[1], \"\", token=oauth[0])\n",
    "hs = HydroShare(auth=auth)\n",
    "base_dir = os.path.abspath('/home/jovyan/work')\n",
    "download_dir = os.path.join(base_dir, 'Downloads')\n",
    "!mkdir -p {download_dir}\n",
    "hs.getResource(resource_id, destination=download_dir, unzip=True)"
   ]
  },
  {
   "cell_type": "markdown",
   "metadata": {},
   "source": [
    "If you are curious about where the data is being downloaded, click on the Jupyter Notebook dashboard icon in upper rigth corner to see a File System view.  The homedir directory location printed above is where you can find the data and contents you will download to a HydroShare JupyterHub server.  At the end of this work session, you can migrate this data to the HydroShare iRods server as a Generic Resource. "
   ]
  },
  {
   "cell_type": "markdown",
   "metadata": {},
   "source": [
    "### 2.2. Cyberinfrastructure methods\n",
    "Strauch et al (2018) pre-processed the data for the North Cascades National Park Complex case study and is on HydroShare as [Regional landslide hazard using Landlab - NOCA Data](https://www.hydroshare.org/resource/a5b52c0e1493401a815f4e77b09d352b/). Here the first task is find this resource on Hydrohsare. We will click on the link to see the published data repository on HydroShare and collect the resource ID of the data. The resource ID can be found in the \"How to cite\" box, and it will be the series of numbers and letters following \"hs.\". Here's the copied resource: http://dx.doi.org/10.4211/hs.a5b52c0e1493401a815f4e77b09d352b citation. Now we copy this ID and introduce it as \"Data_ResourceID=\" in the code below. \n",
    "\n",
    "#### 2.2.1 Set DEM data download variable name\n",
    "To learn more about this data visit [Regional landslide hazard using Landlab - NOCA Data](https://www.hydroshare.org/resource/a5b52c0e1493401a815f4e77b09d352b/)"
   ]
  },
  {
   "cell_type": "code",
   "execution_count": null,
   "metadata": {},
   "outputs": [],
   "source": [
    "!pwd"
   ]
  },
  {
   "cell_type": "markdown",
   "metadata": {},
   "source": [
    "#### 2.2.2 Download Data\n",
    "We will execute the next cell to download data from HydroShare iRods database to your personal user space - this may take a few minutes.\n",
    "\n",
    "This only needs to happen one time to transfer data from Github storage to the JupyterHub server workspace. "
   ]
  },
  {
   "cell_type": "code",
   "execution_count": 19,
   "metadata": {},
   "outputs": [
    {
     "name": "stdout",
     "output_type": "stream",
     "text": [
      "/home/jovyan/work/Github\n",
      "Cloning into 'SkagitLandslideHazards'...\n",
      "remote: Enumerating objects: 109, done.\u001b[K\n",
      "remote: Counting objects: 100% (109/109), done.\u001b[K\n",
      "remote: Compressing objects: 100% (92/92), done.\u001b[K\n",
      "remote: Total 346 (delta 41), reused 63 (delta 17), pack-reused 237\u001b[K\n",
      "Receiving objects: 100% (346/346), 64.84 MiB | 23.55 MiB/s, done.\n",
      "Resolving deltas: 100% (119/119), done.\n",
      "Checking out files: 100% (124/124), done.\n"
     ]
    }
   ],
   "source": [
    "#!mkdir '/home/jovyan/work/Github'\n",
    "#os.chdir('/home/jovyan/work/Github')\n",
    "#!pwd\n",
    "#!git clone https://github.com/Freshwater-Initiative/SkagitLandslideHazards.git"
   ]
  },
  {
   "cell_type": "code",
   "execution_count": 20,
   "metadata": {},
   "outputs": [],
   "source": [
    "os.chdir('/home/jovyan/work/Github/SkagitLandslideHazards/notebooks')"
   ]
  },
  {
   "cell_type": "code",
   "execution_count": 38,
   "metadata": {},
   "outputs": [
    {
     "name": "stdout",
     "output_type": "stream",
     "text": [
      "This Github folder is: /home/jovyan/work/Github/SkagitLandslideHazards/notebooks\n"
     ]
    }
   ],
   "source": []
  },
  {
   "cell_type": "code",
   "execution_count": 39,
   "metadata": {},
   "outputs": [
    {
     "name": "stdout",
     "output_type": "stream",
     "text": [
      "This Github folder is: /home/jovyan/work/Github/SkagitLandslideHazards/notebooks\n",
      "This HydroShare resource has been downloaded to: /home/jovyan/work/Downloads/01b486f301864828ba2cd9ab7ac77c4e/01b486f301864828ba2cd9ab7ac77c4e/data/contents/ASCII_Files/\n",
      "This HydroShare resource with Landlab model input GIS data has just been downloaded has been downloaded to: /home/jovyan/work/Downloads/01b486f301864828ba2cd9ab7ac77c4e/01b486f301864828ba2cd9ab7ac77c4e/data/contents/ASCII_Files/\n",
      "This HydroShare resource with Hydrology Model data  has been downloaded to: /home/jovyan/work/Downloads/01b486f301864828ba2cd9ab7ac77c4e/01b486f301864828ba2cd9ab7ac77c4e/data/contents/DHSVM/\n",
      "This HydroShare resource with storm dates printed from the hydrology model has been downloaded to: /home/jovyan/work/Downloads/01b486f301864828ba2cd9ab7ac77c4e/01b486f301864828ba2cd9ab7ac77c4e/data/contentsDHSVM/dates_max_sat_skagit\n",
      "The netcdf inputs/outputs is in: /home/jovyan/work/Downloads/01b486f301864828ba2cd9ab7ac77c4e/01b486f301864828ba2cd9ab7ac77c4e/data/contents/netcdf/\n"
     ]
    }
   ],
   "source": [
    "github_folder = '/home/jovyan/work/Github/SkagitLandslideHazards/notebooks'\n",
    "print('This Github folder is: %s' % github_folder)\n",
    "\n",
    "hydroshare_folder = '/home/jovyan/work/Downloads/01b486f301864828ba2cd9ab7ac77c4e/01b486f301864828ba2cd9ab7ac77c4e/data/contents'\n",
    "\n",
    "data_folder = hydroshare_folder +'/ASCII_Files/'\n",
    "print('This HydroShare resource has been downloaded to: %s' % data_folder)\n",
    "\n",
    "landslide_folder =  hydroshare_folder +'/ASCII_Files/'\n",
    "print('This HydroShare resource with Landlab model input GIS data has just been downloaded has been downloaded to: %s' % landslide_folder)\n",
    "\n",
    "dhsvm_folder =  hydroshare_folder +'/DHSVM/'\n",
    "print('This HydroShare resource with Hydrology Model data  has been downloaded to: %s' % dhsvm_folder)\n",
    "\n",
    "dates_folder = hydroshare_folder +'DHSVM/dates_max_sat_skagit'\n",
    "print('This HydroShare resource with storm dates printed from the hydrology model has been downloaded to: %s' % dates_folder)\n",
    "\n",
    "netcdf_folder = hydroshare_folder +'/netcdf/'\n",
    "print('The netcdf inputs/outputs is in: %s' % netcdf_folder)\n",
    "#!mkdir netcdf_folder"
   ]
  },
  {
   "cell_type": "markdown",
   "metadata": {},
   "source": [
    "#### Load  spatial landslide model inputs from ASCII textfile (ArcGIS raster conversion) into Landlab grid\n",
    "\n",
    "Create Landlab RasterModelGrid using DEM grid with elevation - this takes approximately 60 sec for the North Cascades National Park (NOCA). "
   ]
  },
  {
   "cell_type": "code",
   "execution_count": 25,
   "metadata": {},
   "outputs": [],
   "source": [
    "(grid, z) = read_esri_ascii(data_folder+'/scl_dem_30m.txt',name='topographic__elevation')\n",
    "grid.at_node.keys()\n",
    "grid.set_nodata_nodes_to_closed(z, -9999.0)"
   ]
  },
  {
   "cell_type": "code",
   "execution_count": 26,
   "metadata": {},
   "outputs": [
    {
     "data": {
      "text/plain": [
       "dict_keys(['topographic__elevation'])"
      ]
     },
     "execution_count": 26,
     "metadata": {},
     "output_type": "execute_result"
    }
   ],
   "source": [
    "grid.at_node.keys()"
   ]
  },
  {
   "cell_type": "markdown",
   "metadata": {},
   "source": [
    "Plot the elevation grid of NOCA"
   ]
  },
  {
   "cell_type": "code",
   "execution_count": 27,
   "metadata": {},
   "outputs": [
    {
     "data": {
      "image/png": "[encoded data removed]",
      "text/plain": [
       "<Figure size 432x288 with 2 Axes>"
      ]
     },
     "metadata": {
      "needs_background": "light"
     },
     "output_type": "display_data"
    }
   ],
   "source": [
    "imshow_grid(grid, grid.status_at_node, color_for_closed='blue')"
   ]
  },
  {
   "cell_type": "markdown",
   "metadata": {},
   "source": [
    "Confirm the size of the grid, nodes located every 30 m."
   ]
  },
  {
   "cell_type": "code",
   "execution_count": 28,
   "metadata": {},
   "outputs": [],
   "source": [
    "#grid?"
   ]
  },
  {
   "cell_type": "code",
   "execution_count": 29,
   "metadata": {},
   "outputs": [
    {
     "name": "stdout",
     "output_type": "stream",
     "text": [
      "dict_keys(['topographic__elevation'])\n",
      "7412000\n",
      "[-9999. -9999. -9999. ..., -9999. -9999. -9999.]\n"
     ]
    }
   ],
   "source": [
    "print(grid.at_node.keys())\n",
    "gridnum = grid.number_of_nodes\n",
    "print(gridnum)\n",
    "grid.set_nodata_nodes_to_closed(grid.at_node['topographic__elevation'], -9999.)\n",
    "print(grid.at_node['topographic__elevation'])"
   ]
  },
  {
   "cell_type": "code",
   "execution_count": 30,
   "metadata": {},
   "outputs": [
    {
     "data": {
      "image/png": "[encoded data removed]",
      "text/plain": [
       "<Figure size 432x288 with 2 Axes>"
      ]
     },
     "metadata": {
      "needs_background": "light"
     },
     "output_type": "display_data"
    }
   ],
   "source": [
    "imshow_grid(grid, 'topographic__elevation', limits=(0, 3000), color_for_closed='white')"
   ]
  },
  {
   "cell_type": "code",
   "execution_count": 41,
   "metadata": {},
   "outputs": [
    {
     "name": "stdout",
     "output_type": "stream",
     "text": [
      "/home/jovyan/work/Downloads/01b486f301864828ba2cd9ab7ac77c4e/01b486f301864828ba2cd9ab7ac77c4e/data/contents/netcdf\r\n"
     ]
    }
   ],
   "source": [
    "#temp_dir = tempfile.mkdtemp()\n",
    "#os.chdir(temp_dir)\n",
    "os.chdir(netcdf_folder)\n",
    "!pwd"
   ]
  },
  {
   "cell_type": "code",
   "execution_count": 34,
   "metadata": {},
   "outputs": [],
   "source": [
    "write_raster_netcdf(\"SCL_elevationNETCDF4.nc\", grid, format=\"NETCDF4\", names=\"topographic__elevation\")"
   ]
  },
  {
   "cell_type": "markdown",
   "metadata": {},
   "source": [
    "### 2.5a. Attach data (e.g., soil and vegetation variables) to the Landlab rastermodelgrid\n",
    "This will be used to calculate shallow landslide probability and set boundary conditions. THe data we attach in this step was downloaded in Step 2.2.2. \n",
    "\n",
    "#### Run the landlab_unitgrid file we built for this publication using Seattle City Light domain data"
   ]
  },
  {
   "cell_type": "markdown",
   "metadata": {},
   "source": [
    "### 2.5b. Attach data (e.g., soil and vegetation variables) to the Landlab rastermodelgrid\n",
    "This will be used to calculate shallow landslide probability and set boundary conditions. THe data we attach in this step was downloaded in Step 2.2.2. \n",
    "\n",
    "#### For each input below\n",
    "1. Load data from ascii text file\n",
    "2. Add this data as node variable to the Thunder Creek grid\n",
    "3. Set boundary conditions\n",
    "\n",
    "For the entire NOCA extent, this takes ~60 sec to load each file using the CUAHSI JupyterHub server. "
   ]
  },
  {
   "cell_type": "markdown",
   "metadata": {},
   "source": [
    "#### 2.5.8 Load observed landslide inventory. Class 1-5 are landslides, 8 is no landslide mapped for later plotting"
   ]
  },
  {
   "cell_type": "code",
   "execution_count": null,
   "metadata": {},
   "outputs": [],
   "source": [
    "(grid1, slides) = read_esri_ascii(data_folder+'/noca_landslidetype.txt')\n",
    "grid.add_field('node', 'landslides', slides)"
   ]
  },
  {
   "cell_type": "markdown",
   "metadata": {},
   "source": [
    "#### 2.5.8 Load landcover classes to use for examining patterns in results. \n",
    "There are 8 classes: forest (41), shrubs (52), herbaceous (71), wetland (90), developed (21), barren (31), ice & snow (12), and water (11). Exclude the last 2 classes from analysis as landslides based on this approach are not modeled in water bodies."
   ]
  },
  {
   "cell_type": "code",
   "execution_count": null,
   "metadata": {},
   "outputs": [],
   "source": [
    "(grid1, lulc) = read_esri_ascii(data_folder+'/scl_lulc_8c.txt')\n",
    "grid.add_field('node', 'landcover', lulc)\n",
    "grid.set_nodata_nodes_to_closed(grid.at_node['landcover'], 12)\n",
    "grid.set_nodata_nodes_to_closed(grid.at_node['landcover'], 11)"
   ]
  },
  {
   "cell_type": "markdown",
   "metadata": {},
   "source": [
    "#### 2.5.9 Load area of Goodell Creek Fire (2015) located within Skagit River Watershed. \n",
    "Use this area to adjust root cohesion."
   ]
  },
  {
   "cell_type": "code",
   "execution_count": null,
   "metadata": {},
   "outputs": [],
   "source": [
    "(grid1, fire) = read_esri_ascii(data_folder+'/goodell_fire.txt')\n",
    "grid.add_field('node', 'fire_mask', fire)\n",
    "#grid.set_nodata_nodes_to_closed(grid.at_node['fire_mask'], -9999)"
   ]
  },
  {
   "cell_type": "markdown",
   "metadata": {},
   "source": [
    "#### 2.5.10  Load area of mapped glaciers and exclude from analysis."
   ]
  },
  {
   "cell_type": "code",
   "execution_count": null,
   "metadata": {},
   "outputs": [],
   "source": [
    "(grid1, glaciers) = read_esri_ascii(data_folder+'/glacier_scl_exclusion.txt')\n",
    "grid.add_field('node', 'glacier_mask', glaciers)\n",
    "grid.set_nodata_nodes_to_closed(grid.at_node['glacier_mask'], 1)"
   ]
  },
  {
   "cell_type": "markdown",
   "metadata": {},
   "source": [
    "#### Write netcdf"
   ]
  },
  {
   "cell_type": "code",
   "execution_count": null,
   "metadata": {},
   "outputs": [],
   "source": [
    "write_raster_netcdf(\n",
    "    \"SCL_elevation+obs+lc+fire+gl+NETCDF4.nc\", \n",
    "    grid, \n",
    "    format=\"NETCDF4\", \n",
    "    names=[\"topographic__elevation\", 'landslides','landcover','fire_mask', 'glacier_mask']\n",
    ")"
   ]
  },
  {
   "cell_type": "markdown",
   "metadata": {},
   "source": [
    "#### Sanity check netcdf"
   ]
  },
  {
   "cell_type": "code",
   "execution_count": null,
   "metadata": {},
   "outputs": [],
   "source": [
    "SCLplus_4 = read_netcdf('SCL_elevation+obs+lc+fire+gl+NETCDF4.nc')\n",
    "print(SCLplus_4.at_node['topographic__elevation'])\n",
    "print(SCLplus_4.at_node['landslides'])\n",
    "longlist=SCLplus_4.at_node['topographic__elevation'][:].flatten()\n",
    "print(longlist.shape)\n",
    "print(grid.shape)"
   ]
  },
  {
   "cell_type": "code",
   "execution_count": 45,
   "metadata": {},
   "outputs": [
    {
     "data": {
      "text/plain": [
       "['/home/jovyan/work/Github/SkagitLandslideHazards/notebooks/observedlandslides_data+landlab+netcdf.ipynb']"
      ]
     },
     "execution_count": 45,
     "metadata": {},
     "output_type": "execute_result"
    }
   ],
   "source": [
    "PushNotebook='observedlandslides_data+landlab+netcdf.ipynb' #check name for consistency\n",
    "files=[os.path.join(github_folder, ThisNotebook)]\n",
    "files\n"
   ]
  },
  {
   "cell_type": "code",
   "execution_count": 47,
   "metadata": {},
   "outputs": [
    {
     "name": "stdout",
     "output_type": "stream",
     "text": [
      "20200331_map2netcdf2array_lognormal_spatial_Depth_SCL_LandlabLandslide.ipynb\r\n",
      "SCL_elevationNETCDF4.nc\r\n",
      "SCL_uniform_landslide_20191207.ipynb\r\n"
     ]
    }
   ],
   "source": [
    "!ls '/home/jovyan/work/Github/SkagitLandslideHazards/notebooks'"
   ]
  },
  {
   "cell_type": "code",
   "execution_count": 44,
   "metadata": {},
   "outputs": [
    {
     "name": "stdout",
     "output_type": "stream",
     "text": [
      "\n",
      "[ERROR] invalid path: /home/jovyan/work/Github/SkagitLandslideHazards/notebooks/observedlandslides_data+landlab+netcdf.ipynb\n"
     ]
    }
   ],
   "source": []
  },
  {
   "cell_type": "markdown",
   "metadata": {},
   "source": [
    "## 4.0. Save the results back into HydroShare\n",
    "<a name=\"creation\"></a>\n",
    "\n",
    "Using the `hs_utils` library, the results of the Geoprocessing steps above can be saved back into HydroShare.  First, define all of the required metadata for resource creation, i.e. *title*, *abstract*, *keywords*, *content files*.  In addition, we must define the type of resource that will be created, in this case *genericresource*.  \n",
    "\n",
    "***Note:*** Make sure you save the notebook at this point, so that all notebook changes will be saved into the new HydroShare resource.\n",
    "\n",
    "\n",
    "***Option A*** : define the resource from which this \"NEW\" content has been derived.  This is one method for tracking resource provenance."
   ]
  },
  {
   "cell_type": "markdown",
   "metadata": {},
   "source": [
    "Create list of files to save to HydroShare. Verify location and names."
   ]
  },
  {
   "cell_type": "raw",
   "metadata": {
    "scrolled": true
   },
   "source": [
    "ThisNotebook='observedlandslides_data+landlab+netcdf.ipynb' #check name for consistency\n",
    "files=[os.path.join(homedir, ThisNotebook),\n",
    "       os.path.join(homedir, 'Landslide_std_fire.csv'),\n",
    "       os.path.join(homedir, 'prob_fail_std.txt'),\n",
    "       os.path.join(homedir, 'mean_RW_std.txt'),\n",
    "       os.path.join(homedir, 'prob_sat_std.txt'),\n",
    "       os.path.join(homedir, 'prob_fail_fire.txt'),\n",
    "       os.path.join(homedir, 'mean_RW_fire.txt'),\n",
    "       os.path.join(homedir, 'prob_sat_fire.txt')]\n",
    "\n",
    "for f in files:\n",
    "    if not os.path.exists(f):\n",
    "        print('\\n[ERROR] invalid path: %s' % f)"
   ]
  },
  {
   "cell_type": "code",
   "execution_count": null,
   "metadata": {
    "scrolled": true
   },
   "outputs": [],
   "source": [
    "help(hs)"
   ]
  },
  {
   "cell_type": "raw",
   "metadata": {},
   "source": [
    "# Save the results back to HydroShare\n",
    "\n",
    "# title for the new resource\n",
    "title = 'Landslide Model run with Monte Carlo from NOCA Observatory - Thunder Creek with Fire' \n",
    "\n",
    "# abstract for the new resource\n",
    "abstract = 'This a reproducible demonstration of the landslide modeling results from eSurf paper: Strauch et al. (2018) ' \n",
    "\n",
    "# keywords for the new resource\n",
    "keywords = ['landslide', 'climate', 'VIC','saturation','relative wetness','fire','Geohackweek'] \n",
    "\n",
    "# Hydroshare resource type\n",
    "rtype = 'compositeresource'          \n",
    "\n",
    "# create the new resource\n",
    "resource_id = hs.createHydroShareResource(abstract, \n",
    "                                          title,\n",
    "                                          keywords=keywords, \n",
    "                                          resource_type=rtype, \n",
    "                                          content_files=files, \n",
    "                                          public=False)"
   ]
  },
  {
   "cell_type": "markdown",
   "metadata": {},
   "source": [
    "### Acknowledgements\n",
    "\n",
    "\n",
    "[![DOI](https://zenodo.org/badge/187289993.svg)](https://zenodo.org/badge/latestdoi/187289993)\n",
    "\n",
    "This Notebooks serves as content for: \n",
    "\n",
    "Bandaragoda, C. J., A. Castronova, E. Istanbulluoglu, R. Strauch, S. S. Nudurupati, J. Phuong, J. M. Adams, et al. “Enabling Collaborative Numerical Modeling in Earth Sciences Using Knowledge Infrastructure.” Environmental Modelling & Software, April 24, 2019. https://doi.org/10.1016/j.envsoft.2019.03.020.\n",
    "\n",
    "and \n",
    "\n",
    "Bandaragoda, C., A. M. Castronova, J. Phuong, E. Istanbulluoglu, S. S. Nudurupati, R. Strauch, N. Lyons, K. Barnhart (2019). Enabling Collaborative Numerical Modeling in Earth Sciences using Knowledge Infrastructure: Landlab Notebooks, HydroShare, http://www.hydroshare.org/resource/fdc3a06e6ad842abacfa5b896df73a76\n",
    "\n",
    "This notebook was developed from code written by Ronda Strauch as part of her Ph.D. disseration at the University of Washington. \n",
    "\n",
    "Use or citation of this notebook should also reference:\n",
    "\n",
    "Strauch R., Istanbulluoglu E., Nudurupati S.S., Bandaragoda C., Gasparini N.M., and G.E. Tucker (2018). A hydro-climatological approach to predicting regional landslide probability using Landlab. Earth Surf. Dynam., 6, 1–26. \n",
    "https://www.earth-surf-dynam.net/6/1/2018/"
   ]
  },
  {
   "cell_type": "code",
   "execution_count": null,
   "metadata": {},
   "outputs": [],
   "source": []
  }
 ],
 "metadata": {
  "anaconda-cloud": {},
  "kernelspec": {
   "display_name": "Landlab",
   "language": "python",
   "name": "landlab"
  },
  "language_info": {
   "codemirror_mode": {
    "name": "ipython",
    "version": 3
   },
   "file_extension": ".py",
   "mimetype": "text/x-python",
   "name": "python",
   "nbconvert_exporter": "python",
   "pygments_lexer": "ipython3",
   "version": "3.7.6"
  }
 },
 "nbformat": 4,
 "nbformat_minor": 4
}
