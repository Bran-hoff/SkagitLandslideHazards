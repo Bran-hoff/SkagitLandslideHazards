{
 "cells": [
  {
   "cell_type": "markdown",
   "metadata": {},
   "source": [
    "\n",
    "# Landlab Landslide Probability Model with Saturation \n",
    "\n",
    "<img src=\"https://www.washington.edu/brand/files/2014/09/W-Logo_Purple_Hex.png\" style=\"float:right;width:200px;padding:20px\">   \n",
    "\n",
    "\n",
    "<br />\n",
    "This Jupyter Notebook runs the Landlab LandslideProbability component on a synthetic \n",
    "Landlab grid using four depth to water table options to replace recharge options described in the paper: <br />\n",
    "#### Strauch et al. 2018. A hydro-climatological approach to predicting regional landslide probability using Landlab. Earth Surface Dynamics, 6, 1-26. <br /> \n",
    "This notebook performs the following functions:<br >\n",
    "* Import libraries and set HydroShare variables<br />\n",
    "* Create a grid and data fields used to calculate landslide probability<br />\n",
    "* Specify Depth to Water Table Distributions to compare four options<br /> \n",
    "* Run LandslideProbability function from Landlab landslide component<br /> \n",
    "* Compare the sensitivity based on four Depth to Water Table options<br /> \n",
    "\n"
   ]
  },
  {
   "cell_type": "markdown",
   "metadata": {},
   "source": [
    "## 1.  HydroShare Setup and Preparation\n",
    "\n",
    "To run this notebook, we must import several libraries.\n",
    "The hs_utils library provides functions for interacting with HydroShare, including resource querying, dowloading, and creation.  Additional libraries support the functions of Landlab. "
   ]
  },
  {
   "cell_type": "code",
   "execution_count": 1,
   "metadata": {},
   "outputs": [
    {
     "name": "stdout",
     "output_type": "stream",
     "text": [
      "Ignore deprecation warnings\n",
      "Successfully established a connection with HydroShare\n",
      "Successfully established a connection with HydroShare\n",
      "Data will be loaded from and saved to:/home/jovyan/work/notebooks/data/4cac25933f6448409cab97b293129b4f/4cac25933f6448409cab97b293129b4f/data/contents\n",
      "/home/jovyan/work/notebooks/data/4cac25933f6448409cab97b293129b4f/4cac25933f6448409cab97b293129b4f/data/contents\n",
      "You are not going crazy...\n"
     ]
    },
    {
     "name": "stderr",
     "output_type": "stream",
     "text": [
      "/opt/conda/envs/python2/lib/python2.7/site-packages/landlab/__init__.py:27: UserWarning: \n",
      "This call to matplotlib.use() has no effect because the backend has already\n",
      "been chosen; matplotlib.use() must be called *before* pylab, matplotlib.pyplot,\n",
      "or matplotlib.backends is imported for the first time.\n",
      "\n",
      "The backend was *originally* set to 'module://ipykernel.pylab.backend_inline' by the following code:\n",
      "  File \"/opt/conda/envs/python2/lib/python2.7/runpy.py\", line 174, in _run_module_as_main\n",
      "    \"__main__\", fname, loader, pkg_name)\n",
      "  File \"/opt/conda/envs/python2/lib/python2.7/runpy.py\", line 72, in _run_code\n",
      "    exec code in run_globals\n",
      "  File \"/opt/conda/envs/python2/lib/python2.7/site-packages/ipykernel_launcher.py\", line 16, in <module>\n",
      "    app.launch_new_instance()\n",
      "  File \"/opt/conda/envs/python2/lib/python2.7/site-packages/traitlets/config/application.py\", line 658, in launch_instance\n",
      "    app.start()\n",
      "  File \"/opt/conda/envs/python2/lib/python2.7/site-packages/ipykernel/kernelapp.py\", line 486, in start\n",
      "    self.io_loop.start()\n",
      "  File \"/opt/conda/envs/python2/lib/python2.7/site-packages/tornado/ioloop.py\", line 1064, in start\n",
      "    handler_func(fd_obj, events)\n",
      "  File \"/opt/conda/envs/python2/lib/python2.7/site-packages/tornado/stack_context.py\", line 276, in null_wrapper\n",
      "    return fn(*args, **kwargs)\n",
      "  File \"/opt/conda/envs/python2/lib/python2.7/site-packages/zmq/eventloop/zmqstream.py\", line 450, in _handle_events\n",
      "    self._handle_recv()\n",
      "  File \"/opt/conda/envs/python2/lib/python2.7/site-packages/zmq/eventloop/zmqstream.py\", line 480, in _handle_recv\n",
      "    self._run_callback(callback, msg)\n",
      "  File \"/opt/conda/envs/python2/lib/python2.7/site-packages/zmq/eventloop/zmqstream.py\", line 432, in _run_callback\n",
      "    callback(*args, **kwargs)\n",
      "  File \"/opt/conda/envs/python2/lib/python2.7/site-packages/tornado/stack_context.py\", line 276, in null_wrapper\n",
      "    return fn(*args, **kwargs)\n",
      "  File \"/opt/conda/envs/python2/lib/python2.7/site-packages/ipykernel/kernelbase.py\", line 283, in dispatcher\n",
      "    return self.dispatch_shell(stream, msg)\n",
      "  File \"/opt/conda/envs/python2/lib/python2.7/site-packages/ipykernel/kernelbase.py\", line 233, in dispatch_shell\n",
      "    handler(stream, idents, msg)\n",
      "  File \"/opt/conda/envs/python2/lib/python2.7/site-packages/ipykernel/kernelbase.py\", line 399, in execute_request\n",
      "    user_expressions, allow_stdin)\n",
      "  File \"/opt/conda/envs/python2/lib/python2.7/site-packages/ipykernel/ipkernel.py\", line 208, in do_execute\n",
      "    res = shell.run_cell(code, store_history=store_history, silent=silent)\n",
      "  File \"/opt/conda/envs/python2/lib/python2.7/site-packages/ipykernel/zmqshell.py\", line 537, in run_cell\n",
      "    return super(ZMQInteractiveShell, self).run_cell(*args, **kwargs)\n",
      "  File \"/opt/conda/envs/python2/lib/python2.7/site-packages/IPython/core/interactiveshell.py\", line 2714, in run_cell\n",
      "    interactivity=interactivity, compiler=compiler, result=result)\n",
      "  File \"/opt/conda/envs/python2/lib/python2.7/site-packages/IPython/core/interactiveshell.py\", line 2818, in run_ast_nodes\n",
      "    if self.run_code(code, result):\n",
      "  File \"/opt/conda/envs/python2/lib/python2.7/site-packages/IPython/core/interactiveshell.py\", line 2878, in run_code\n",
      "    exec(code_obj, self.user_global_ns, self.user_ns)\n",
      "  File \"<ipython-input-1-00f192903e10>\", line 7, in <module>\n",
      "    get_ipython().magic(u'matplotlib inline')\n",
      "  File \"/opt/conda/envs/python2/lib/python2.7/site-packages/IPython/core/interactiveshell.py\", line 2160, in magic\n",
      "    return self.run_line_magic(magic_name, magic_arg_s)\n",
      "  File \"/opt/conda/envs/python2/lib/python2.7/site-packages/IPython/core/interactiveshell.py\", line 2081, in run_line_magic\n",
      "    result = fn(*args,**kwargs)\n",
      "  File \"<decorator-gen-105>\", line 2, in matplotlib\n",
      "  File \"/opt/conda/envs/python2/lib/python2.7/site-packages/IPython/core/magic.py\", line 188, in <lambda>\n",
      "    call = lambda f, *a, **k: f(*a, **k)\n",
      "  File \"/opt/conda/envs/python2/lib/python2.7/site-packages/IPython/core/magics/pylab.py\", line 100, in matplotlib\n",
      "    gui, backend = self.shell.enable_matplotlib(args.gui)\n",
      "  File \"/opt/conda/envs/python2/lib/python2.7/site-packages/IPython/core/interactiveshell.py\", line 2966, in enable_matplotlib\n",
      "    pt.activate_matplotlib(backend)\n",
      "  File \"/opt/conda/envs/python2/lib/python2.7/site-packages/IPython/core/pylabtools.py\", line 315, in activate_matplotlib\n",
      "    matplotlib.pyplot.switch_backend(backend)\n",
      "  File \"/opt/conda/envs/python2/lib/python2.7/site-packages/matplotlib/pyplot.py\", line 233, in switch_backend\n",
      "    _backend_mod, new_figure_manager, draw_if_interactive, _show = pylab_setup()\n",
      "  File \"/opt/conda/envs/python2/lib/python2.7/site-packages/matplotlib/backends/__init__.py\", line 62, in pylab_setup\n",
      "    [backend_name], 0)\n",
      "  File \"/opt/conda/envs/python2/lib/python2.7/site-packages/ipykernel/pylab/backend_inline.py\", line 165, in <module>\n",
      "    _enable_matplotlib_integration()\n",
      "  File \"/opt/conda/envs/python2/lib/python2.7/site-packages/ipykernel/pylab/backend_inline.py\", line 155, in _enable_matplotlib_integration\n",
      "    activate_matplotlib(backend)\n",
      "  File \"/opt/conda/envs/python2/lib/python2.7/site-packages/IPython/core/pylabtools.py\", line 315, in activate_matplotlib\n",
      "    matplotlib.pyplot.switch_backend(backend)\n",
      "  File \"/opt/conda/envs/python2/lib/python2.7/site-packages/matplotlib/pyplot.py\", line 231, in switch_backend\n",
      "    matplotlib.use(newbackend, warn=False, force=True)\n",
      "  File \"/opt/conda/envs/python2/lib/python2.7/site-packages/matplotlib/__init__.py\", line 1410, in use\n",
      "    reload(sys.modules['matplotlib.backends'])\n",
      "  File \"/opt/conda/envs/python2/lib/python2.7/site-packages/matplotlib/backends/__init__.py\", line 16, in <module>\n",
      "    line for line in traceback.format_stack()\n",
      "\n",
      "\n",
      "  matplotlib.use('Agg')\n"
     ]
    },
    {
     "name": "stdout",
     "output_type": "stream",
     "text": [
      "You are not going crazy...\n"
     ]
    }
   ],
   "source": [
    "#import Python utilities for calculating and plotting\n",
    "import six\n",
    "import os\n",
    "import matplotlib as mpl\n",
    "mpl.use('agg')\n",
    "import matplotlib.pyplot as plt\n",
    "%matplotlib inline\n",
    "import numpy as np\n",
    "\n",
    "import warnings\n",
    "print('Ignore deprecation warnings')\n",
    "warnings.filterwarnings(action='ignore', category=DeprecationWarning)\n",
    "\n",
    "#import utilities for importing and exporting to HydroShare\n",
    "from utilities import hydroshare\n",
    "# set variables for interacting with HydroShare from this notebook\n",
    "hs=hydroshare.hydroshare()\n",
    "# Create object to map the home directory\n",
    "hs=hydroshare.hydroshare()\n",
    "homedir = os.getcwd()\n",
    "print('Data will be loaded from and saved to:'+homedir)\n",
    "os.chdir('/home/jovyan/work/notebooks/data/4cac25933f6448409cab97b293129b4f/4cac25933f6448409cab97b293129b4f/data/contents')\n",
    "print(homedir)\n",
    "\n",
    "# Import Landlab libraries\n",
    "import landslide_probability\n",
    "from landslide_probability_20191122 import LandslideProbability\n",
    "from landlab import RasterModelGrid\n",
    "from landlab import imshow_grid_at_node\n",
    "\n",
    "from landlab.io.netcdf import read_netcdf\n",
    "from landlab.io.netcdf import write_netcdf\n",
    "\n",
    "import numpy as np\n"
   ]
  },
  {
   "cell_type": "markdown",
   "metadata": {},
   "source": [
    "If you are curious about where the data is being downloaded, click on the Jupyter Notebook dashboard icon to see a File System view.  The homedir directory location printed above is where you can find the data and contents you will download to a HydroShare JupyterHub server.  At the end of this work session, you can migrate this data to the HydroShare iRods server as a Generic Resource. "
   ]
  },
  {
   "cell_type": "markdown",
   "metadata": {},
   "source": [
    "## Use NetCDF data fields used to calculate landslide probability"
   ]
  },
  {
   "cell_type": "markdown",
   "metadata": {},
   "source": [
    "This example uses a synthetic model domain. As a first example, make a synthetic grid with 5 rows and 4 columns space 0.2 units apart.   <br /> \n",
    "##### Synthetic Grid Restart opportunity: After completing this entire notebook, go to the Dashboard, Kernal, and select Restart and Clear Output.  Execute the code from the beginning, but change the cell below to the rows, columns, and spacing of your choice.  "
   ]
  },
  {
   "cell_type": "code",
   "execution_count": 2,
   "metadata": {},
   "outputs": [],
   "source": [
    "grid = read_netcdf('synthetic_depth.nc')"
   ]
  },
  {
   "cell_type": "markdown",
   "metadata": {},
   "source": [
    "Confirm the size of the grid"
   ]
  },
  {
   "cell_type": "code",
   "execution_count": 3,
   "metadata": {},
   "outputs": [
    {
     "data": {
      "text/plain": [
       "20"
      ]
     },
     "execution_count": 3,
     "metadata": {},
     "output_type": "execute_result"
    }
   ],
   "source": [
    "grid.number_of_nodes"
   ]
  },
  {
   "cell_type": "markdown",
   "metadata": {},
   "source": [
    "To see what the grid id of our nodes are, execute the command below.  However, note that this command gives you the rows of the grid, but these are technically up-side-down from how the RasterModelGrid nodes are numbered (e.g,. node id 0 is at the bottom left corner of the grid). "
   ]
  },
  {
   "cell_type": "code",
   "execution_count": 4,
   "metadata": {},
   "outputs": [
    {
     "data": {
      "text/plain": [
       "array([[ 0,  1,  2,  3],\n",
       "       [ 4,  5,  6,  7],\n",
       "       [ 8,  9, 10, 11],\n",
       "       [12, 13, 14, 15],\n",
       "       [16, 17, 18, 19]])"
      ]
     },
     "execution_count": 4,
     "metadata": {},
     "output_type": "execute_result"
    }
   ],
   "source": [
    "grid.nodes"
   ]
  },
  {
   "cell_type": "markdown",
   "metadata": {},
   "source": [
    "We can also see how many core nodes we have (i.e., the nodes that calculations are performed on) in the center of the grid...not the edges, which are 'closed nodes'. Compare this array to the full grid above.  Asign these to the variable 'core_nodes' so we can use these later."
   ]
  },
  {
   "cell_type": "code",
   "execution_count": 5,
   "metadata": {},
   "outputs": [
    {
     "data": {
      "text/plain": [
       "array([ 5,  6,  9, 10, 13, 14])"
      ]
     },
     "execution_count": 5,
     "metadata": {},
     "output_type": "execute_result"
    }
   ],
   "source": [
    "core_nodes = grid.core_nodes\n",
    "core_nodes"
   ]
  },
  {
   "cell_type": "markdown",
   "metadata": {},
   "source": [
    "Check the list of data inputs that the component needs."
   ]
  },
  {
   "cell_type": "code",
   "execution_count": 6,
   "metadata": {},
   "outputs": [
    {
     "data": {
      "text/plain": [
       "['soil__density',\n",
       " 'soil__internal_friction_angle',\n",
       " 'soil__maximum_total_cohesion',\n",
       " 'soil__minimum_total_cohesion',\n",
       " 'soil__mode_total_cohesion',\n",
       " 'soil__saturated_hydraulic_conductivity',\n",
       " 'soil__thickness',\n",
       " 'soil__transmissivity',\n",
       " 'topographic__slope',\n",
       " 'topographic__specific_contributing_area']"
      ]
     },
     "execution_count": 6,
     "metadata": {},
     "output_type": "execute_result"
    }
   ],
   "source": [
    "sorted(LandslideProbability.input_var_names)"
   ]
  },
  {
   "cell_type": "markdown",
   "metadata": {},
   "source": [
    "Review the details of what each variable represents."
   ]
  },
  {
   "cell_type": "code",
   "execution_count": 7,
   "metadata": {},
   "outputs": [
    {
     "data": {
      "text/plain": [
       "{'landslide__probability_of_failure': 'number of times FS is <=1 out of number of iterations user selected',\n",
       " 'soil__density': 'wet bulk density of soil',\n",
       " 'soil__internal_friction_angle': 'critical angle just before failure due to friction between particles',\n",
       " 'soil__maximum_total_cohesion': 'maximum of combined root and soil cohesion at node',\n",
       " 'soil__mean_relative_wetness': 'Indicator of soil wetness; relative depth perched water table within the soil layer',\n",
       " 'soil__mean_watertable_depth': 'mean distance to groundwater table from distribution of depths to groundwater or saturated soils',\n",
       " 'soil__minimum_total_cohesion': 'minimum of combined root and soil cohesion at node',\n",
       " 'soil__mode_total_cohesion': 'mode of combined root and soil cohesion at node',\n",
       " 'soil__probability_of_saturation': 'number of times relative wetness is >=1 out of number of iterations user selected',\n",
       " 'soil__saturated_hydraulic_conductivity': 'mode rate of water transmitted through soil - provided if transmissivity is NOT provided to calculate tranmissivity  with soil depth',\n",
       " 'soil__thickness': 'soil depth to restrictive layer',\n",
       " 'soil__transmissivity': 'mode rate of water transmitted through a unit width of saturated soil - either provided or calculated with Ksat and soil depth',\n",
       " 'topographic__slope': 'slope of surface at node represented by tan theta',\n",
       " 'topographic__specific_contributing_area': 'specific contributing (upslope area/cell face ) that drains to node'}"
      ]
     },
     "execution_count": 7,
     "metadata": {},
     "output_type": "execute_result"
    }
   ],
   "source": [
    "LandslideProbability._var_doc"
   ]
  },
  {
   "cell_type": "markdown",
   "metadata": {},
   "source": [
    "Check the units of each variable."
   ]
  },
  {
   "cell_type": "code",
   "execution_count": 8,
   "metadata": {},
   "outputs": [
    {
     "data": {
      "text/plain": [
       "{'landslide__probability_of_failure': 'None',\n",
       " 'soil__density': 'kg/m3',\n",
       " 'soil__depth_to_groundwater': 'm',\n",
       " 'soil__internal_friction_angle': 'degrees',\n",
       " 'soil__maximum_total_cohesion': 'Pa or kg/m-s2',\n",
       " 'soil__mean_relative_wetness': 'None',\n",
       " 'soil__mean_watertable_depth': 'm',\n",
       " 'soil__minimum_total_cohesion': 'Pa or kg/m-s2',\n",
       " 'soil__mode_total_cohesion': 'Pa or kg/m-s2',\n",
       " 'soil__probability_of_saturation': 'None',\n",
       " 'soil__saturated_hydraulic_conductivity': 'm/day',\n",
       " 'soil__thickness': 'm',\n",
       " 'soil__transmissivity': 'm2/day',\n",
       " 'topographic__slope': 'tan theta',\n",
       " 'topographic__specific_contributing_area': 'm'}"
      ]
     },
     "execution_count": 8,
     "metadata": {},
     "output_type": "execute_result"
    }
   ],
   "source": [
    "LandslideProbability._var_units"
   ]
  },
  {
   "cell_type": "markdown",
   "metadata": {},
   "source": [
    "Now we will create the required fields for the landslide component and add data as fields to the grid.  Thus, the data arrays will need to be as the length of the number of nodes.<br /> \n",
    "##### Data Fields Restart opportunity: After completing this entire notebook, go to the Dashboard, Kernal, and select Restart and Clear Output.  Execute the code from the beginning, but change the cell below to the data inputs of your choice.  "
   ]
  },
  {
   "cell_type": "code",
   "execution_count": 9,
   "metadata": {},
   "outputs": [],
   "source": [
    "gridnodes = grid.number_of_nodes\n",
    "grid_size = grid.number_of_nodes\n",
    "\n",
    "grid['node']['soil__density']= \\\n",
    "         2000. * np.ones(gridnodes)\n",
    "\n",
    "grid['node']['soil__internal_friction_angle']= \\\n",
    "         np.sort(np.random.randint(26, 37, gridnodes))\n",
    "\n",
    "grid['node']['soil__mode_total_cohesion']= \\\n",
    "         np.sort(np.random.randint(30, 900, gridnodes))\n",
    "    \n",
    "scatter_dat = np.random.randint(1, 10, gridnodes)    \n",
    "grid['node']['soil__maximum_total_cohesion']= \\\n",
    "         grid.at_node['soil__mode_total_cohesion'] + scatter_dat\n",
    "\n",
    "grid['node']['soil__minimum_total_cohesion']= \\\n",
    "         grid.at_node['soil__mode_total_cohesion'] - scatter_dat\n",
    "\n",
    "grid['node']['soil__thickness']= \\\n",
    "         np.sort(np.random.randint(1, 10, gridnodes))\n",
    "\n",
    "grid['node']['soil__transmissivity']= \\\n",
    "         np.sort(np.random.randint(5, 20, gridnodes),-1)\n",
    "        \n",
    "grid['node']['topographic__slope'] = np.random.rand(gridnodes)\n",
    "\n",
    "grid['node']['topographic__specific_contributing_area']= \\\n",
    "         np.sort(np.random.randint(30, 900, gridnodes))"
   ]
  },
  {
   "cell_type": "markdown",
   "metadata": {},
   "source": [
    "Let's see what one of these fields (slope) looks like on the grid."
   ]
  },
  {
   "cell_type": "code",
   "execution_count": 10,
   "metadata": {},
   "outputs": [
    {
     "data": {
      "image/png": "[encoded data removed]",
      "text/plain": [
       "<Figure size 432x288 with 2 Axes>"
      ]
     },
     "metadata": {},
     "output_type": "display_data"
    }
   ],
   "source": [
    "plt.figure('Slope')\n",
    "imshow_grid_at_node(grid,'topographic__slope', cmap='copper_r',\n",
    "                 grid_units=('coordinates', 'coordinates'), shrink=0.75,\n",
    "                 var_name='Slope', var_units='m/m')\n",
    "plt.savefig('Slope.png')"
   ]
  },
  {
   "cell_type": "code",
   "execution_count": 11,
   "metadata": {},
   "outputs": [
    {
     "data": {
      "text/plain": [
       "4.4500000000000002"
      ]
     },
     "execution_count": 11,
     "metadata": {},
     "output_type": "execute_result"
    }
   ],
   "source": [
    "np.mean(grid['node']['soil__thickness'])"
   ]
  },
  {
   "cell_type": "code",
   "execution_count": 12,
   "metadata": {},
   "outputs": [
    {
     "data": {
      "text/plain": [
       "array([1, 1, 1, 2, 3, 3, 3, 4, 4, 4, 4, 5, 5, 6, 6, 6, 7, 7, 8, 9])"
      ]
     },
     "execution_count": 12,
     "metadata": {},
     "output_type": "execute_result"
    }
   ],
   "source": [
    "grid['node']['soil__thickness']"
   ]
  },
  {
   "cell_type": "code",
   "execution_count": 13,
   "metadata": {},
   "outputs": [
    {
     "name": "stdout",
     "output_type": "stream",
     "text": [
      "Input read for groundwater__recharge_distribution\n",
      "None\n",
      "Input read for  groundwater__depth_distribution\n",
      "lognormal\n",
      "Distribution =  lognormal\n",
      "Uniform depth to water table successfully instantiated\n"
     ]
    }
   ],
   "source": [
    "\n",
    "n=50\n",
    "#distribution1 = 'uniform'\n",
    "distribution1 = 'lognormal'\n",
    "distribution1 = 'lognormal'\n",
    "distribution1 = 'lognormal'\n",
    "#Demin_value = 3 \n",
    "#Demax_value = 6\n",
    "\n",
    "LS_prob1 = LandslideProbability(grid, number_of_iterations=250,\n",
    "                     groundwater__depth_distribution='lognormal',\n",
    "                     groundwater__depth_mean=30.,\n",
    "                     groundwater__depth_standard_deviation=0.25)\n",
    "\n",
    "#LandslideProbability(grid, number_of_iterations=250,\n",
    "#                     groundwater__recharge_distribution='lognormal',\n",
    "#                     groundwater__recharge_mean=30.,\n",
    "#                     groundwater__recharge_standard_deviation=0.25)\n",
    "\n",
    "print('Distribution = '), LS_prob1.groundwater__depth_distribution\n",
    "print('Uniform depth to water table successfully instantiated')"
   ]
  },
  {
   "cell_type": "markdown",
   "metadata": {},
   "source": [
    "### Number of iterations to run Monte Carlo simulation"
   ]
  },
  {
   "cell_type": "markdown",
   "metadata": {},
   "source": [
    "The landslide component employes the infinite slope model to calculate factor-of-safety values using a Monte Carlo simulation approach, which randomly selects input values from parameter distributions. You can pick the number of iterations to run Monte Carlo simulations, but the default is 250. The higher the number of iteration, the longer the program runs, but the more precise the probability of failure result becomes.<br /> \n",
    "##### Random iterations Restart opportunity: After completing this entire notebook, go to the Dashboard, Kernal, and select Restart and Clear Output.  Execute the code from the beginning, but change the cell below to the number of iterations of your choice.  "
   ]
  },
  {
   "cell_type": "code",
   "execution_count": 14,
   "metadata": {},
   "outputs": [],
   "source": [
    "n = 25"
   ]
  },
  {
   "cell_type": "markdown",
   "metadata": {},
   "source": [
    "## Specify Uniform Recharge Distribution\n",
    "\n",
    "There are _four_ different options for providing recharge for the Monte Carlo simulation.  We'll provide each of these recharge options below by specifying a recharge distribution and the necessary parameters. <br /> \n",
    "##### Restart opportunity: After completing this entire notebook, go to the Dashboard, Kernal, and select Restart and Clear Output.  Execute the code from the beginning, but change the cells below to adjust the recharge distributions.\n",
    "\n",
    " ### 1. Saturation Option - 'uniform' distribution \n",
    " \n",
    "In this option, we'll apply a uniform distribution of recharge based on minimum and maximum recharge values.  We will then instantiate the LandslideProbability component with these parameters, as well as the grid and number of iterations we specified above.  Instantiate creates an instance of a class.  (For example, the _iPhone_ is a class and _each phone_ is an instance.)\n",
    "\n",
    "No outputs are generated by these commands as they are setting up the recharge and instantiating the component."
   ]
  },
  {
   "cell_type": "code",
   "execution_count": 15,
   "metadata": {
    "scrolled": true
   },
   "outputs": [
    {
     "name": "stdout",
     "output_type": "stream",
     "text": [
      "Input read for groundwater__recharge_distribution\n",
      "None\n",
      "Input read for  groundwater__depth_distribution\n",
      "uniform\n",
      "6\n",
      "3\n",
      "Depth to Water Table Distribution\n",
      "[ 4.64644051  5.1455681   4.80829013  4.63464955  4.2709644   4.93768234\n",
      "  4.31276163  5.675319    5.89098828  4.15032456  5.37517511  4.58668476\n",
      "  4.70413368  5.77678991  3.21310817  3.2613879   3.06065519  5.49785954\n",
      "  5.33447025  5.61003644  5.93585503  5.39747569  4.38443809  5.34158753\n",
      "  3.35482328]\n",
      "Mean Depth to Water Table\n",
      "4.77229876336\n",
      "Distribution =  uniform\n",
      "Uniform depth to water table successfully instantiated\n"
     ]
    }
   ],
   "source": [
    "distribution1 = 'uniform'\n",
    "Demin_value = 3 \n",
    "Demax_value = 6\n",
    "\n",
    "LS_prob1 = LandslideProbability(grid,number_of_iterations=n,\n",
    "    groundwater__depth_distribution=distribution1,\n",
    "    groundwater__depth_min_value=Demin_value,\n",
    "    groundwater__depth_max_value=Demax_value)\n",
    "print('Distribution = '), LS_prob1.groundwater__depth_distribution\n",
    "print('Uniform depth to water table successfully instantiated')"
   ]
  },
  {
   "cell_type": "markdown",
   "metadata": {},
   "source": [
    "## Run the Landslide Component "
   ]
  },
  {
   "cell_type": "code",
   "execution_count": 16,
   "metadata": {},
   "outputs": [
    {
     "name": "stdout",
     "output_type": "stream",
     "text": [
      "Depth of Water Distribution (SoilDepth-DTWdist)\n",
      "[-1.64644051 -2.1455681  -1.80829013 -1.63464955 -1.2709644  -1.93768234\n",
      " -1.31276163 -2.675319   -2.89098828 -1.15032456 -2.37517511 -1.58668476\n",
      " -1.70413368 -2.77678991 -0.21310817 -0.2613879  -0.06065519 -2.49785954\n",
      " -2.33447025 -2.61003644 -2.93585503 -2.39747569 -1.38443809 -2.34158753\n",
      " -0.35482328]\n",
      "Depth distribution is not none - count saturated cells\n",
      "Soil Thickness This Node\n",
      "3\n",
      "Depth of Water Distribution (SoilDepth-DTWdist) hw>hs correction\n",
      "[ 3.  3.  3.  3.  3.  3.  3.  3.  3.  3.  3.  3.  3.  3.  3.  3.  3.  3.\n",
      "  3.  3.  3.  3.  3.  3.  3.]\n",
      "Soil thickness All\n",
      "[1 1 1 2 3 3 3 4 4 4 4 5 5 6 6 6 7 7 8 9]\n",
      "Mean water table depth\n",
      "4.77229876336\n",
      "depth uniform loop\n",
      "Depth of Water Distribution (SoilDepth-DTWdist)\n",
      "[-1.64644051 -2.1455681  -1.80829013 -1.63464955 -1.2709644  -1.93768234\n",
      " -1.31276163 -2.675319   -2.89098828 -1.15032456 -2.37517511 -1.58668476\n",
      " -1.70413368 -2.77678991 -0.21310817 -0.2613879  -0.06065519 -2.49785954\n",
      " -2.33447025 -2.61003644 -2.93585503 -2.39747569 -1.38443809 -2.34158753\n",
      " -0.35482328]\n",
      "Depth distribution is not none - count saturated cells\n",
      "Soil Thickness This Node\n",
      "3\n",
      "Depth of Water Distribution (SoilDepth-DTWdist) hw>hs correction\n",
      "[ 3.  3.  3.  3.  3.  3.  3.  3.  3.  3.  3.  3.  3.  3.  3.  3.  3.  3.\n",
      "  3.  3.  3.  3.  3.  3.  3.]\n",
      "Soil thickness All\n",
      "[1 1 1 2 3 3 3 4 4 4 4 5 5 6 6 6 7 7 8 9]\n",
      "Mean water table depth\n",
      "4.77229876336\n",
      "depth uniform loop\n",
      "Depth of Water Distribution (SoilDepth-DTWdist)\n",
      "[-0.64644051 -1.1455681  -0.80829013 -0.63464955 -0.2709644  -0.93768234\n",
      " -0.31276163 -1.675319   -1.89098828 -0.15032456 -1.37517511 -0.58668476\n",
      " -0.70413368 -1.77678991  0.78689183  0.7386121   0.93934481 -1.49785954\n",
      " -1.33447025 -1.61003644 -1.93585503 -1.39747569 -0.38443809 -1.34158753\n",
      "  0.64517672]\n",
      "Depth distribution is not none - count saturated cells\n",
      "Soil Thickness This Node\n",
      "4\n",
      "Depth of Water Distribution (SoilDepth-DTWdist) hw>hs correction\n",
      "[ 4.          4.          4.          4.          4.          4.          4.\n",
      "  4.          4.          4.          4.          4.          4.          4.\n",
      "  0.78689183  0.7386121   0.93934481  4.          4.          4.          4.\n",
      "  4.          4.          4.          0.64517672]\n",
      "Soil thickness All\n",
      "[1 1 1 2 3 3 3 4 4 4 4 5 5 6 6 6 7 7 8 9]\n",
      "Mean water table depth\n",
      "4.77229876336\n",
      "depth uniform loop\n",
      "Depth of Water Distribution (SoilDepth-DTWdist)\n",
      "[-0.64644051 -1.1455681  -0.80829013 -0.63464955 -0.2709644  -0.93768234\n",
      " -0.31276163 -1.675319   -1.89098828 -0.15032456 -1.37517511 -0.58668476\n",
      " -0.70413368 -1.77678991  0.78689183  0.7386121   0.93934481 -1.49785954\n",
      " -1.33447025 -1.61003644 -1.93585503 -1.39747569 -0.38443809 -1.34158753\n",
      "  0.64517672]\n",
      "Depth distribution is not none - count saturated cells\n",
      "Soil Thickness This Node\n",
      "4\n",
      "Depth of Water Distribution (SoilDepth-DTWdist) hw>hs correction\n",
      "[ 4.          4.          4.          4.          4.          4.          4.\n",
      "  4.          4.          4.          4.          4.          4.          4.\n",
      "  0.78689183  0.7386121   0.93934481  4.          4.          4.          4.\n",
      "  4.          4.          4.          0.64517672]\n",
      "Soil thickness All\n",
      "[1 1 1 2 3 3 3 4 4 4 4 5 5 6 6 6 7 7 8 9]\n",
      "Mean water table depth\n",
      "4.77229876336\n",
      "depth uniform loop\n",
      "Depth of Water Distribution (SoilDepth-DTWdist)\n",
      "[ 1.35355949  0.8544319   1.19170987  1.36535045  1.7290356   1.06231766\n",
      "  1.68723837  0.324681    0.10901172  1.84967544  0.62482489  1.41331524\n",
      "  1.29586632  0.22321009  2.78689183  2.7386121   2.93934481  0.50214046\n",
      "  0.66552975  0.38996356  0.06414497  0.60252431  1.61556191  0.65841247\n",
      "  2.64517672]\n",
      "Depth distribution is not none - count saturated cells\n",
      "Soil Thickness This Node\n",
      "6\n",
      "Depth of Water Distribution (SoilDepth-DTWdist) hw>hs correction\n",
      "[ 1.35355949  0.8544319   1.19170987  1.36535045  1.7290356   1.06231766\n",
      "  1.68723837  0.324681    0.10901172  1.84967544  0.62482489  1.41331524\n",
      "  1.29586632  0.22321009  2.78689183  2.7386121   2.93934481  0.50214046\n",
      "  0.66552975  0.38996356  0.06414497  0.60252431  1.61556191  0.65841247\n",
      "  2.64517672]\n",
      "Soil thickness All\n",
      "[1 1 1 2 3 3 3 4 4 4 4 5 5 6 6 6 7 7 8 9]\n",
      "Mean water table depth\n",
      "4.77229876336\n",
      "depth uniform loop\n",
      "Depth of Water Distribution (SoilDepth-DTWdist)\n",
      "[ 1.35355949  0.8544319   1.19170987  1.36535045  1.7290356   1.06231766\n",
      "  1.68723837  0.324681    0.10901172  1.84967544  0.62482489  1.41331524\n",
      "  1.29586632  0.22321009  2.78689183  2.7386121   2.93934481  0.50214046\n",
      "  0.66552975  0.38996356  0.06414497  0.60252431  1.61556191  0.65841247\n",
      "  2.64517672]\n",
      "Depth distribution is not none - count saturated cells\n",
      "Soil Thickness This Node\n",
      "6\n",
      "Depth of Water Distribution (SoilDepth-DTWdist) hw>hs correction\n",
      "[ 1.35355949  0.8544319   1.19170987  1.36535045  1.7290356   1.06231766\n",
      "  1.68723837  0.324681    0.10901172  1.84967544  0.62482489  1.41331524\n",
      "  1.29586632  0.22321009  2.78689183  2.7386121   2.93934481  0.50214046\n",
      "  0.66552975  0.38996356  0.06414497  0.60252431  1.61556191  0.65841247\n",
      "  2.64517672]\n",
      "Soil thickness All\n",
      "[1 1 1 2 3 3 3 4 4 4 4 5 5 6 6 6 7 7 8 9]\n",
      "Mean water table depth\n",
      "4.77229876336\n",
      "depth uniform loop\n",
      "Landslide probability successfully calculated\n"
     ]
    }
   ],
   "source": [
    "LS_prob1.calculate_landslide_probability()\n",
    "print('Landslide probability successfully calculated')"
   ]
  },
  {
   "cell_type": "markdown",
   "metadata": {},
   "source": [
    "To generate the outputs from running the component, we call the 'calculate_landslide_probability' method inside the component using the class instance (e.g., LS_prob1) for each recharge option specified above. The following cell runs the model; in the following section we will assessing the results."
   ]
  },
  {
   "cell_type": "markdown",
   "metadata": {},
   "source": [
    "Using recharge option 1 as an example, run the first recharge option simulation of probability of failure."
   ]
  },
  {
   "cell_type": "code",
   "execution_count": 17,
   "metadata": {},
   "outputs": [
    {
     "name": "stdout",
     "output_type": "stream",
     "text": [
      "Depth of Water Distribution (SoilDepth-DTWdist)\n",
      "[-1.64644051 -2.1455681  -1.80829013 -1.63464955 -1.2709644  -1.93768234\n",
      " -1.31276163 -2.675319   -2.89098828 -1.15032456 -2.37517511 -1.58668476\n",
      " -1.70413368 -2.77678991 -0.21310817 -0.2613879  -0.06065519 -2.49785954\n",
      " -2.33447025 -2.61003644 -2.93585503 -2.39747569 -1.38443809 -2.34158753\n",
      " -0.35482328]\n",
      "Depth distribution is not none - count saturated cells\n",
      "Soil Thickness This Node\n",
      "3\n",
      "Depth of Water Distribution (SoilDepth-DTWdist) hw>hs correction\n",
      "[ 3.  3.  3.  3.  3.  3.  3.  3.  3.  3.  3.  3.  3.  3.  3.  3.  3.  3.\n",
      "  3.  3.  3.  3.  3.  3.  3.]\n",
      "Soil thickness All\n",
      "[1 1 1 2 3 3 3 4 4 4 4 5 5 6 6 6 7 7 8 9]\n",
      "Mean water table depth\n",
      "4.77229876336\n",
      "depth uniform loop\n",
      "Depth of Water Distribution (SoilDepth-DTWdist)\n",
      "[-1.64644051 -2.1455681  -1.80829013 -1.63464955 -1.2709644  -1.93768234\n",
      " -1.31276163 -2.675319   -2.89098828 -1.15032456 -2.37517511 -1.58668476\n",
      " -1.70413368 -2.77678991 -0.21310817 -0.2613879  -0.06065519 -2.49785954\n",
      " -2.33447025 -2.61003644 -2.93585503 -2.39747569 -1.38443809 -2.34158753\n",
      " -0.35482328]\n",
      "Depth distribution is not none - count saturated cells\n",
      "Soil Thickness This Node\n",
      "3\n",
      "Depth of Water Distribution (SoilDepth-DTWdist) hw>hs correction\n",
      "[ 3.  3.  3.  3.  3.  3.  3.  3.  3.  3.  3.  3.  3.  3.  3.  3.  3.  3.\n",
      "  3.  3.  3.  3.  3.  3.  3.]\n",
      "Soil thickness All\n",
      "[1 1 1 2 3 3 3 4 4 4 4 5 5 6 6 6 7 7 8 9]\n",
      "Mean water table depth\n",
      "4.77229876336\n",
      "depth uniform loop\n",
      "Depth of Water Distribution (SoilDepth-DTWdist)\n",
      "[-0.64644051 -1.1455681  -0.80829013 -0.63464955 -0.2709644  -0.93768234\n",
      " -0.31276163 -1.675319   -1.89098828 -0.15032456 -1.37517511 -0.58668476\n",
      " -0.70413368 -1.77678991  0.78689183  0.7386121   0.93934481 -1.49785954\n",
      " -1.33447025 -1.61003644 -1.93585503 -1.39747569 -0.38443809 -1.34158753\n",
      "  0.64517672]\n",
      "Depth distribution is not none - count saturated cells\n",
      "Soil Thickness This Node\n",
      "4\n",
      "Depth of Water Distribution (SoilDepth-DTWdist) hw>hs correction\n",
      "[ 4.          4.          4.          4.          4.          4.          4.\n",
      "  4.          4.          4.          4.          4.          4.          4.\n",
      "  0.78689183  0.7386121   0.93934481  4.          4.          4.          4.\n",
      "  4.          4.          4.          0.64517672]\n",
      "Soil thickness All\n",
      "[1 1 1 2 3 3 3 4 4 4 4 5 5 6 6 6 7 7 8 9]\n",
      "Mean water table depth\n",
      "4.77229876336\n",
      "depth uniform loop\n",
      "Depth of Water Distribution (SoilDepth-DTWdist)\n",
      "[-0.64644051 -1.1455681  -0.80829013 -0.63464955 -0.2709644  -0.93768234\n",
      " -0.31276163 -1.675319   -1.89098828 -0.15032456 -1.37517511 -0.58668476\n",
      " -0.70413368 -1.77678991  0.78689183  0.7386121   0.93934481 -1.49785954\n",
      " -1.33447025 -1.61003644 -1.93585503 -1.39747569 -0.38443809 -1.34158753\n",
      "  0.64517672]\n",
      "Depth distribution is not none - count saturated cells\n",
      "Soil Thickness This Node\n",
      "4\n",
      "Depth of Water Distribution (SoilDepth-DTWdist) hw>hs correction\n",
      "[ 4.          4.          4.          4.          4.          4.          4.\n",
      "  4.          4.          4.          4.          4.          4.          4.\n",
      "  0.78689183  0.7386121   0.93934481  4.          4.          4.          4.\n",
      "  4.          4.          4.          0.64517672]\n",
      "Soil thickness All\n",
      "[1 1 1 2 3 3 3 4 4 4 4 5 5 6 6 6 7 7 8 9]\n",
      "Mean water table depth\n",
      "4.77229876336\n",
      "depth uniform loop\n",
      "Depth of Water Distribution (SoilDepth-DTWdist)\n",
      "[ 1.35355949  0.8544319   1.19170987  1.36535045  1.7290356   1.06231766\n",
      "  1.68723837  0.324681    0.10901172  1.84967544  0.62482489  1.41331524\n",
      "  1.29586632  0.22321009  2.78689183  2.7386121   2.93934481  0.50214046\n",
      "  0.66552975  0.38996356  0.06414497  0.60252431  1.61556191  0.65841247\n",
      "  2.64517672]\n",
      "Depth distribution is not none - count saturated cells\n",
      "Soil Thickness This Node\n",
      "6\n",
      "Depth of Water Distribution (SoilDepth-DTWdist) hw>hs correction\n",
      "[ 1.35355949  0.8544319   1.19170987  1.36535045  1.7290356   1.06231766\n",
      "  1.68723837  0.324681    0.10901172  1.84967544  0.62482489  1.41331524\n",
      "  1.29586632  0.22321009  2.78689183  2.7386121   2.93934481  0.50214046\n",
      "  0.66552975  0.38996356  0.06414497  0.60252431  1.61556191  0.65841247\n",
      "  2.64517672]\n",
      "Soil thickness All\n",
      "[1 1 1 2 3 3 3 4 4 4 4 5 5 6 6 6 7 7 8 9]\n",
      "Mean water table depth\n",
      "4.77229876336\n",
      "depth uniform loop\n",
      "Depth of Water Distribution (SoilDepth-DTWdist)\n",
      "[ 1.35355949  0.8544319   1.19170987  1.36535045  1.7290356   1.06231766\n",
      "  1.68723837  0.324681    0.10901172  1.84967544  0.62482489  1.41331524\n",
      "  1.29586632  0.22321009  2.78689183  2.7386121   2.93934481  0.50214046\n",
      "  0.66552975  0.38996356  0.06414497  0.60252431  1.61556191  0.65841247\n",
      "  2.64517672]\n",
      "Depth distribution is not none - count saturated cells\n",
      "Soil Thickness This Node\n",
      "6\n",
      "Depth of Water Distribution (SoilDepth-DTWdist) hw>hs correction\n",
      "[ 1.35355949  0.8544319   1.19170987  1.36535045  1.7290356   1.06231766\n",
      "  1.68723837  0.324681    0.10901172  1.84967544  0.62482489  1.41331524\n",
      "  1.29586632  0.22321009  2.78689183  2.7386121   2.93934481  0.50214046\n",
      "  0.66552975  0.38996356  0.06414497  0.60252431  1.61556191  0.65841247\n",
      "  2.64517672]\n",
      "Soil thickness All\n",
      "[1 1 1 2 3 3 3 4 4 4 4 5 5 6 6 6 7 7 8 9]\n",
      "Mean water table depth\n",
      "4.77229876336\n",
      "depth uniform loop\n",
      "Landslide probability successfully calculated\n"
     ]
    }
   ],
   "source": [
    "LS_prob1.calculate_landslide_probability()\n",
    "print('Landslide probability successfully calculated')"
   ]
  },
  {
   "cell_type": "code",
   "execution_count": 18,
   "metadata": {},
   "outputs": [
    {
     "data": {
      "text/plain": [
       "(25,)"
      ]
     },
     "execution_count": 18,
     "metadata": {},
     "output_type": "execute_result"
    }
   ],
   "source": [
    "LS_prob1._De.shape"
   ]
  },
  {
   "cell_type": "code",
   "execution_count": 19,
   "metadata": {},
   "outputs": [
    {
     "data": {
      "text/plain": [
       "20"
      ]
     },
     "execution_count": 19,
     "metadata": {},
     "output_type": "execute_result"
    }
   ],
   "source": [
    "LS_prob1.grid.number_of_nodes"
   ]
  },
  {
   "cell_type": "markdown",
   "metadata": {},
   "source": [
    "The outputs of model simulations are:"
   ]
  },
  {
   "cell_type": "code",
   "execution_count": 20,
   "metadata": {},
   "outputs": [
    {
     "data": {
      "text/plain": [
       "['landslide__probability_of_failure',\n",
       " 'soil__mean_relative_wetness',\n",
       " 'soil__mean_watertable_depth',\n",
       " 'soil__probability_of_saturation']"
      ]
     },
     "execution_count": 20,
     "metadata": {},
     "output_type": "execute_result"
    }
   ],
   "source": [
    "sorted(LS_prob1.output_var_names)"
   ]
  },
  {
   "cell_type": "code",
   "execution_count": 21,
   "metadata": {},
   "outputs": [],
   "source": [
    "#grid['node']"
   ]
  },
  {
   "cell_type": "code",
   "execution_count": 22,
   "metadata": {},
   "outputs": [
    {
     "data": {
      "image/png": "[encoded data removed]",
      "text/plain": [
       "<Figure size 432x288 with 8 Axes>"
      ]
     },
     "metadata": {},
     "output_type": "display_data"
    },
    {
     "data": {
      "image/png": "[encoded data removed]",
      "text/plain": [
       "<Figure size 432x288 with 2 Axes>"
      ]
     },
     "metadata": {},
     "output_type": "display_data"
    }
   ],
   "source": [
    "fig = plt.figure('Water Table Depth Calculations')\n",
    "xticks = np.arange(-0.1, 1.6, 0.8)\n",
    "\n",
    "\n",
    "ax1 = fig.add_subplot(221)\n",
    "ax1.xaxis.set_visible(False)\n",
    "imshow_grid_at_node(grid, 'soil__thickness', plot_name='soil (m)',\n",
    "                    allow_colorbar=True, cmap='copper_r',\n",
    "                    grid_units=('coordinates', 'coordinates'))\n",
    "\n",
    "ax2 = fig.add_subplot(222)\n",
    "ax2.set_xticks(xticks)\n",
    "imshow_grid_at_node(grid, 'soil__mean_relative_wetness', cmap='YlGnBu',\n",
    "                 grid_units=('coordinates', 'coordinates'), shrink=0.75,\n",
    "                 var_name='mean_rw', var_units='m')\n",
    "\n",
    "ax3 = fig.add_subplot(223)\n",
    "ax3.set_xticks(xticks)\n",
    "imshow_grid_at_node(grid, 'soil__probability_of_saturation', cmap='YlGnBu',\n",
    "                 grid_units=('coordinates', 'coordinates'), shrink=0.75,\n",
    "                 var_name='prob Sat', var_units='-')\n",
    "ax4 = fig.add_subplot(224)\n",
    "ax4.xaxis.set_visible(False)\n",
    "imshow_grid_at_node(grid,'landslide__probability_of_failure', cmap='copper_r',\n",
    "                 grid_units=('coordinates', 'coordinates'), shrink=0.75,\n",
    "                 var_name='prob_failure', var_units='-')\n",
    "\n",
    "plt.figure('Slope')\n",
    "imshow_grid_at_node(grid,'topographic__slope', cmap='copper_r',\n",
    "                 grid_units=('coordinates', 'coordinates'), shrink=0.75,\n",
    "                 var_name='Slope', var_units='m/m')\n",
    "plt.savefig('Slope.png')\n"
   ]
  },
  {
   "cell_type": "markdown",
   "metadata": {},
   "source": [
    "Save the arrays as variables by 'attaching the fields to the grid' and view the outputs. \n",
    "\n",
    "This simulation generates a probability value for each core node. "
   ]
  },
  {
   "cell_type": "code",
   "execution_count": 23,
   "metadata": {},
   "outputs": [
    {
     "data": {
      "text/plain": [
       "array([ 0.        ,  0.        ,  0.        ,  0.        ,  0.        ,\n",
       "        1.        ,  1.        ,  0.        ,  0.        ,  0.87110025,\n",
       "        0.87110025,  0.        ,  0.        ,  0.20461687,  0.20461687,\n",
       "        0.        ,  0.        ,  0.        ,  0.        ,  0.        ])"
      ]
     },
     "execution_count": 23,
     "metadata": {},
     "output_type": "execute_result"
    }
   ],
   "source": [
    "LS_prob1_soil__probability_of_saturation = grid.at_node['soil__mean_relative_wetness']\n",
    "grid.at_node['soil__mean_relative_wetness']"
   ]
  },
  {
   "cell_type": "code",
   "execution_count": 24,
   "metadata": {},
   "outputs": [
    {
     "data": {
      "text/plain": [
       "array([0, 0, 0, 0, 0, 1, 1, 0, 0, 0, 0, 0, 0, 0, 0, 0, 0, 0, 0, 0])"
      ]
     },
     "execution_count": 24,
     "metadata": {},
     "output_type": "execute_result"
    }
   ],
   "source": [
    "LS_prob1_soil__probability_of_saturation = grid.at_node['soil__probability_of_saturation']\n",
    "grid.at_node['soil__probability_of_saturation']"
   ]
  },
  {
   "cell_type": "code",
   "execution_count": 25,
   "metadata": {},
   "outputs": [
    {
     "data": {
      "text/plain": [
       "array([ 0.        ,  0.        ,  0.        ,  0.        ,  0.        ,\n",
       "        4.77229876,  4.77229876,  0.        ,  0.        ,  4.77229876,\n",
       "        4.77229876,  0.        ,  0.        ,  4.77229876,  4.77229876,\n",
       "        0.        ,  0.        ,  0.        ,  0.        ,  0.        ])"
      ]
     },
     "execution_count": 25,
     "metadata": {},
     "output_type": "execute_result"
    }
   ],
   "source": [
    "LS_prob1_soil__mean_watertable_depth = grid.at_node['soil__mean_watertable_depth']\n",
    "grid.at_node['soil__mean_watertable_depth']"
   ]
  },
  {
   "cell_type": "code",
   "execution_count": 26,
   "metadata": {},
   "outputs": [
    {
     "data": {
      "text/plain": [
       "array([0, 0, 0, 0, 0, 1, 1, 0, 0, 0, 0, 0, 0, 0, 0, 0, 0, 0, 0, 0])"
      ]
     },
     "execution_count": 26,
     "metadata": {},
     "output_type": "execute_result"
    }
   ],
   "source": [
    "LS_prob1_probability_of_failure = grid.at_node['landslide__probability_of_failure']\n",
    "grid.at_node['landslide__probability_of_failure']"
   ]
  }
 ],
 "metadata": {
  "anaconda-cloud": {},
  "kernelspec": {
   "display_name": "Python 2.7",
   "language": "python",
   "name": "python2"
  },
  "language_info": {
   "codemirror_mode": {
    "name": "ipython",
    "version": 2
   },
   "file_extension": ".py",
   "mimetype": "text/x-python",
   "name": "python",
   "nbconvert_exporter": "python",
   "pygments_lexer": "ipython2",
   "version": "2.7.15"
  }
 },
 "nbformat": 4,
 "nbformat_minor": 1
}
