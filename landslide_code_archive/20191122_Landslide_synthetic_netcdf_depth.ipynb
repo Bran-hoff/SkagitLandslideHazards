{
 "cells": [
  {
   "cell_type": "markdown",
   "metadata": {},
   "source": [
    "# Landlab Synthetic NetCDF Builder\n",
    "\n",
    "<img src=\"https://www.washington.edu/brand/files/2014/09/W-Logo_Purple_Hex.png\" style=\"float:right;width:200px;padding:20px\">   \n",
    "\n",
    "\n",
    "<br />\n",
    "This Jupyter Notebook runs the Landlab LandslideProbability component on a synthetic \n",
    "Landlab grid using four depth to water table options to replace recharge options described in the paper: <br />\n",
    "#### Strauch et al. 2018. A hydro-climatological approach to predicting regional landslide probability using Landlab. Earth Surface Dynamics, 6, 1-26. <br /> \n",
    "This notebook performs the following functions:<br >\n",
    "* Import libraries and set HydroShare variables<br />\n",
    "* Create a grid and data fields used to calculate landslide probability<br />\n",
    "* Specify Depth to Water Table Distributions to compare four options<br /> \n",
    "* Run LandslideProbability function from Landlab landslide component<br /> \n",
    "* Compare the sensitivity based on four Depth to Water Table options<br /> \n"
   ]
  },
  {
   "cell_type": "code",
   "execution_count": 1,
   "metadata": {},
   "outputs": [
    {
     "name": "stdout",
     "output_type": "stream",
     "text": [
      "You are not going crazy...\n",
      "You are not going crazy...\n"
     ]
    }
   ],
   "source": [
    "import landslide_probability\n",
    "from landslide_probability_20191122 import LandslideProbability\n",
    "from landlab import RasterModelGrid\n",
    "from landlab import imshow_grid_at_node\n",
    "\n",
    "from landlab.io.netcdf import read_netcdf\n",
    "from landlab.io.netcdf import write_netcdf\n",
    "\n",
    "import numpy as np\n"
   ]
  },
  {
   "cell_type": "code",
   "execution_count": 2,
   "metadata": {},
   "outputs": [],
   "source": [
    "grid = RasterModelGrid((5, 4))"
   ]
  },
  {
   "cell_type": "code",
   "execution_count": 3,
   "metadata": {},
   "outputs": [
    {
     "data": {
      "text/plain": [
       "True"
      ]
     },
     "execution_count": 3,
     "metadata": {},
     "output_type": "execute_result"
    }
   ],
   "source": [
    "grid.shape == (5, 4)"
   ]
  },
  {
   "cell_type": "code",
   "execution_count": 4,
   "metadata": {
    "scrolled": true
   },
   "outputs": [
    {
     "data": {
      "text/plain": [
       "array([[ 0,  1,  2,  3],\n",
       "       [ 4,  5,  6,  7],\n",
       "       [ 8,  9, 10, 11],\n",
       "       [12, 13, 14, 15],\n",
       "       [16, 17, 18, 19]])"
      ]
     },
     "execution_count": 4,
     "metadata": {},
     "output_type": "execute_result"
    }
   ],
   "source": [
    "grid.nodes"
   ]
  },
  {
   "cell_type": "code",
   "execution_count": 5,
   "metadata": {},
   "outputs": [
    {
     "name": "stdout",
     "output_type": "stream",
     "text": [
      "Depth to water table distribution\n",
      "[ 4.69350994  3.20415646  2.62465206  4.54397354  3.48022977  3.45312326\n",
      "  3.90158968  4.81969348  3.70981144  4.61658193  3.82312499  2.90498239\n",
      "  2.30884338  2.79697174  3.70435845  3.98199314  2.12802672  3.25203122\n",
      "  2.19771935  3.65390948  2.57793329  3.68851869  2.56468458  2.78586244\n",
      "  4.99079676  4.35755166  4.95945479  2.06392802  2.09348507  4.75841298\n",
      "  4.39066809  2.47170289  3.65454782  4.58616062  2.65949229  3.57767202\n",
      "  3.69853272  2.09027843  2.92655412  4.48980182  2.48195754  3.40829814\n",
      "  3.99160283  4.54608216  3.03513384  2.85540956  2.36982908  4.9793298\n",
      "  3.15596835  2.74555619]\n",
      "Mean depth to water table from uniform distribution\n",
      "3.45508978015\n",
      "Mean Depth to water table - uniform for all nodes\n",
      "[ 3.45508978  3.45508978  3.45508978  3.45508978  3.45508978  3.45508978\n",
      "  3.45508978  3.45508978  3.45508978  3.45508978  3.45508978  3.45508978\n",
      "  3.45508978  3.45508978  3.45508978  3.45508978  3.45508978  3.45508978\n",
      "  3.45508978  3.45508978]\n"
     ]
    }
   ],
   "source": [
    "n=50\n",
    "gridnodes = grid.number_of_nodes\n",
    "grid_size = grid.number_of_nodes\n",
    "\n",
    "Demin_value = 2 \n",
    "Demax_value = 5\n",
    "distribution1 = 'uniform'\n",
    "depth_dist = np.random.uniform(Demin_value, Demax_value,size=n)\n",
    "print('Depth to water table distribution')\n",
    "print(depth_dist)\n",
    "\n",
    "mean_depth=np.mean(depth_dist)\n",
    "grid['node']['soil__mean_watertable_depth']=mean_depth* np.ones(gridnodes)\n",
    "\n",
    "print('Mean depth to water table from uniform distribution')\n",
    "print(mean_depth)\n",
    "print('Mean Depth to water table - uniform for all nodes')\n",
    "print(grid['node']['soil__mean_watertable_depth'])"
   ]
  },
  {
   "cell_type": "code",
   "execution_count": 6,
   "metadata": {},
   "outputs": [
    {
     "data": {
      "text/plain": [
       "(1.0, 1.0)"
      ]
     },
     "execution_count": 6,
     "metadata": {},
     "output_type": "execute_result"
    }
   ],
   "source": [
    "grid.dy, grid.dx"
   ]
  },
  {
   "cell_type": "code",
   "execution_count": 7,
   "metadata": {},
   "outputs": [
    {
     "data": {
      "text/plain": [
       "['soil__mean_watertable_depth']"
      ]
     },
     "execution_count": 7,
     "metadata": {},
     "output_type": "execute_result"
    }
   ],
   "source": [
    "list(grid.at_node.keys())"
   ]
  },
  {
   "cell_type": "code",
   "execution_count": 8,
   "metadata": {},
   "outputs": [
    {
     "data": {
      "text/plain": [
       "array([ 3.45508978,  3.45508978,  3.45508978,  3.45508978,  3.45508978,\n",
       "        3.45508978,  3.45508978,  3.45508978,  3.45508978,  3.45508978,\n",
       "        3.45508978,  3.45508978,  3.45508978,  3.45508978,  3.45508978,\n",
       "        3.45508978,  3.45508978,  3.45508978,  3.45508978,  3.45508978])"
      ]
     },
     "execution_count": 8,
     "metadata": {},
     "output_type": "execute_result"
    }
   ],
   "source": [
    "grid.at_node['soil__mean_watertable_depth']"
   ]
  },
  {
   "cell_type": "code",
   "execution_count": 9,
   "metadata": {},
   "outputs": [],
   "source": [
    "write_netcdf('synthetic_depth.nc', grid, format='NETCDF3_64BIT', names='soil__mean_watertable_depth')"
   ]
  },
  {
   "cell_type": "markdown",
   "metadata": {},
   "source": [
    "### Add distribution to Landlab grid as array on each node"
   ]
  },
  {
   "cell_type": "code",
   "execution_count": 10,
   "metadata": {},
   "outputs": [
    {
     "data": {
      "text/plain": [
       "20"
      ]
     },
     "execution_count": 10,
     "metadata": {},
     "output_type": "execute_result"
    }
   ],
   "source": [
    "grid_size\n"
   ]
  },
  {
   "cell_type": "code",
   "execution_count": 11,
   "metadata": {},
   "outputs": [
    {
     "data": {
      "text/plain": [
       "array([[ 0,  1,  2,  3],\n",
       "       [ 4,  5,  6,  7],\n",
       "       [ 8,  9, 10, 11],\n",
       "       [12, 13, 14, 15],\n",
       "       [16, 17, 18, 19]])"
      ]
     },
     "execution_count": 11,
     "metadata": {},
     "output_type": "execute_result"
    }
   ],
   "source": [
    "grid.nodes"
   ]
  },
  {
   "cell_type": "code",
   "execution_count": 12,
   "metadata": {},
   "outputs": [],
   "source": [
    "\n",
    "YR1=np.random.uniform(Demin_value, Demax_value,size=grid_size)\n",
    "YR2=np.random.uniform(Demin_value, Demax_value,size=grid_size)\n",
    "YR3=np.random.uniform(Demin_value, Demax_value,size=grid_size)\n",
    "grid['node']['YR1']=YR1\n",
    "grid['node']['YR2']=YR2\n",
    "grid['node']['YR3']=YR3\n"
   ]
  },
  {
   "cell_type": "code",
   "execution_count": 13,
   "metadata": {},
   "outputs": [
    {
     "data": {
      "text/plain": [
       "array([ 3.13488552,  4.36410555,  4.99973639,  3.94802869,  3.84870407,\n",
       "        4.17646011,  3.99384947,  4.20261474,  4.11634548,  4.62152697,\n",
       "        3.77404251,  2.73594644,  4.90405298,  2.01495659,  3.44230209,\n",
       "        4.47111378,  4.26630122,  4.34075039,  4.26890576,  2.64262339])"
      ]
     },
     "execution_count": 13,
     "metadata": {},
     "output_type": "execute_result"
    }
   ],
   "source": [
    "YR1"
   ]
  },
  {
   "cell_type": "markdown",
   "metadata": {},
   "source": [
    "## "
   ]
  },
  {
   "cell_type": "code",
   "execution_count": 14,
   "metadata": {},
   "outputs": [
    {
     "data": {
      "text/plain": [
       "array([ 2.13390289,  3.38396202,  4.49874119,  2.0076804 ,  2.48373836,\n",
       "        2.3597464 ,  4.95045476,  4.88031425,  3.74695112,  2.70990284,\n",
       "        2.07829949,  2.8233773 ,  4.79713565,  3.54701044,  3.77444712,\n",
       "        4.19256823,  3.97626778,  4.91193888,  4.82822549,  2.83152669])"
      ]
     },
     "execution_count": 14,
     "metadata": {},
     "output_type": "execute_result"
    }
   ],
   "source": [
    "YR2"
   ]
  },
  {
   "cell_type": "code",
   "execution_count": 15,
   "metadata": {},
   "outputs": [
    {
     "data": {
      "text/plain": [
       "array([ 4.22984935,  4.48220023,  3.88920475,  4.31437155,  2.39899454,\n",
       "        3.86995565,  3.13621333,  2.98487845,  2.1198065 ,  4.82910215,\n",
       "        3.83242049,  4.82402074,  2.68930296,  2.70426679,  2.02712749,\n",
       "        2.16449311,  4.35399719,  2.58800437,  4.00769493,  2.54529527])"
      ]
     },
     "execution_count": 15,
     "metadata": {},
     "output_type": "execute_result"
    }
   ],
   "source": [
    "YR3"
   ]
  },
  {
   "cell_type": "code",
   "execution_count": 16,
   "metadata": {},
   "outputs": [
    {
     "data": {
      "text/plain": [
       "['YR1', 'YR2', 'YR3', 'soil__mean_watertable_depth']"
      ]
     },
     "execution_count": 16,
     "metadata": {},
     "output_type": "execute_result"
    }
   ],
   "source": [
    "grid.at_node.keys()"
   ]
  },
  {
   "cell_type": "code",
   "execution_count": 22,
   "metadata": {},
   "outputs": [],
   "source": [
    "key=np.arange(grid_size)"
   ]
  },
  {
   "cell_type": "code",
   "execution_count": 47,
   "metadata": {},
   "outputs": [
    {
     "name": "stdout",
     "output_type": "stream",
     "text": [
      "[{0: (3.1348855160345486, 2.1339028896492409, 4.2298493546765314)}, {1: (4.3641055473531214, 3.3839620238107222, 4.4822002297488588)}, {2: (4.9997363861010431, 4.4987411920372287, 3.8892047488581669)}, {3: (3.9480286943080589, 2.007680398674899, 4.3143715531551994)}, {4: (3.8487040702022735, 2.48373836203718, 2.3989945374607911)}, {5: (4.176460110679832, 2.3597464046292518, 3.86995565015072)}, {6: (3.9938494706376044, 4.9504547555157892, 3.1362133315826775)}, {7: (4.2026147447657127, 4.8803142543445528, 2.9848784481643795)}, {8: (4.1163454826398613, 3.746951123011975, 2.1198065039185501)}, {9: (4.6215269665299221, 2.7099028438244708, 4.829102153571891)}, {10: (3.7740425056733122, 2.0782994936051171, 3.8324204869673371)}, {11: (2.7359464420021391, 2.8233773035209206, 4.8240207409403384)}, {12: (4.9040529801858987, 4.7971356536503436, 2.6893029622097657)}, {13: (2.0149565917571559, 3.5470104394242314, 2.7042667872425739)}, {14: (3.4423020872620453, 3.7744471204150347, 2.0271274892017592)}, {15: (4.4711137780420813, 4.1925682324790561, 2.1644931070588127)}, {16: (4.2663012232093855, 3.9762677759984459, 4.3539971907449413)}, {17: (4.3407503897934561, 4.9119388775808348, 2.5880043715323349)}, {18: (4.2689057625043292, 4.8282254881463036, 4.0076949260173054)}, {19: (2.6426233884811143, 2.8315266942441326, 2.5452952714296782)}]\n"
     ]
    }
   ],
   "source": [
    "HSD_dict_annualmaxDWT=zip(grid['node']['YR1'],grid['node']['YR2'],grid['node']['YR3'])\n",
    "i=1\n",
    "for i in range(grid.number_of_nodes):\n",
    "    HSD_dict_annualmaxDWT[i] = {key[i]:HSD_dict_annualmaxDWT[i]} \n",
    "\n",
    "print(HSD_dict_annualmaxDWT)"
   ]
  },
  {
   "cell_type": "code",
   "execution_count": 19,
   "metadata": {},
   "outputs": [],
   "source": [
    "write_netcdf('synthetic_data_driven_spatial_depth.nc', grid, format='NETCDF3_64BIT', names=['YR1','YR2','YR3'])"
   ]
  },
  {
   "cell_type": "code",
   "execution_count": 48,
   "metadata": {},
   "outputs": [
    {
     "ename": "AttributeError",
     "evalue": "'netcdf_variable' object has no attribute 'units'",
     "output_type": "error",
     "traceback": [
      "\u001b[0;31m\u001b[0m",
      "\u001b[0;31mAttributeError\u001b[0mTraceback (most recent call last)",
      "\u001b[0;32m<ipython-input-48-0fbbfcf44f4d>\u001b[0m in \u001b[0;36m<module>\u001b[0;34m()\u001b[0m\n\u001b[0;32m----> 1\u001b[0;31m \u001b[0mread_netcdf\u001b[0m\u001b[0;34m(\u001b[0m\u001b[0;34m'dtw_historic_with_dates_netcdf3.nc'\u001b[0m\u001b[0;34m)\u001b[0m\u001b[0;34m\u001b[0m\u001b[0m\n\u001b[0m",
      "\u001b[0;32m/opt/conda/envs/python2/lib/python2.7/site-packages/landlab/io/netcdf/read.pyc\u001b[0m in \u001b[0;36mread_netcdf\u001b[0;34m(nc_file, just_grid)\u001b[0m\n\u001b[1;32m    277\u001b[0m \u001b[0;34m\u001b[0m\u001b[0m\n\u001b[1;32m    278\u001b[0m     \u001b[0;32mtry\u001b[0m\u001b[0;34m:\u001b[0m\u001b[0;34m\u001b[0m\u001b[0m\n\u001b[0;32m--> 279\u001b[0;31m         \u001b[0mnode_coords\u001b[0m \u001b[0;34m=\u001b[0m \u001b[0m_read_netcdf_structured_grid\u001b[0m\u001b[0;34m(\u001b[0m\u001b[0mroot\u001b[0m\u001b[0;34m)\u001b[0m\u001b[0;34m\u001b[0m\u001b[0m\n\u001b[0m\u001b[1;32m    280\u001b[0m     \u001b[0;32mexcept\u001b[0m \u001b[0mValueError\u001b[0m\u001b[0;34m:\u001b[0m\u001b[0;34m\u001b[0m\u001b[0m\n\u001b[1;32m    281\u001b[0m         if ((len(root.variables['x'].dimensions) == 1) and \n",
      "\u001b[0;32m/opt/conda/envs/python2/lib/python2.7/site-packages/landlab/io/netcdf/read.pyc\u001b[0m in \u001b[0;36m_read_netcdf_structured_grid\u001b[0;34m(root)\u001b[0m\n\u001b[1;32m    130\u001b[0m     \u001b[0mshape\u001b[0m \u001b[0;34m=\u001b[0m \u001b[0m_read_netcdf_grid_shape\u001b[0m\u001b[0;34m(\u001b[0m\u001b[0mroot\u001b[0m\u001b[0;34m)\u001b[0m\u001b[0;34m\u001b[0m\u001b[0m\n\u001b[1;32m    131\u001b[0m     \u001b[0mcoordinates\u001b[0m \u001b[0;34m=\u001b[0m \u001b[0m_read_netcdf_coordinate_values\u001b[0m\u001b[0;34m(\u001b[0m\u001b[0mroot\u001b[0m\u001b[0;34m)\u001b[0m\u001b[0;34m\u001b[0m\u001b[0m\n\u001b[0;32m--> 132\u001b[0;31m     \u001b[0munits\u001b[0m \u001b[0;34m=\u001b[0m \u001b[0m_read_netcdf_coordinate_units\u001b[0m\u001b[0;34m(\u001b[0m\u001b[0mroot\u001b[0m\u001b[0;34m)\u001b[0m\u001b[0;34m\u001b[0m\u001b[0m\n\u001b[0m\u001b[1;32m    133\u001b[0m \u001b[0;34m\u001b[0m\u001b[0m\n\u001b[1;32m    134\u001b[0m     \u001b[0;32mfor\u001b[0m \u001b[0mcoordinate\u001b[0m \u001b[0;32min\u001b[0m \u001b[0mcoordinates\u001b[0m\u001b[0;34m:\u001b[0m\u001b[0;34m\u001b[0m\u001b[0m\n",
      "\u001b[0;32m/opt/conda/envs/python2/lib/python2.7/site-packages/landlab/io/netcdf/read.pyc\u001b[0m in \u001b[0;36m_read_netcdf_coordinate_units\u001b[0;34m(root)\u001b[0m\n\u001b[1;32m    108\u001b[0m     \u001b[0;32mfor\u001b[0m \u001b[0mcoordinate_name\u001b[0m \u001b[0;32min\u001b[0m \u001b[0m_AXIS_COORDINATE_NAMES\u001b[0m\u001b[0;34m:\u001b[0m\u001b[0;34m\u001b[0m\u001b[0m\n\u001b[1;32m    109\u001b[0m         \u001b[0;32mtry\u001b[0m\u001b[0;34m:\u001b[0m\u001b[0;34m\u001b[0m\u001b[0m\n\u001b[0;32m--> 110\u001b[0;31m             \u001b[0munits\u001b[0m\u001b[0;34m.\u001b[0m\u001b[0mappend\u001b[0m\u001b[0;34m(\u001b[0m\u001b[0mroot\u001b[0m\u001b[0;34m.\u001b[0m\u001b[0mvariables\u001b[0m\u001b[0;34m[\u001b[0m\u001b[0mcoordinate_name\u001b[0m\u001b[0;34m]\u001b[0m\u001b[0;34m.\u001b[0m\u001b[0munits\u001b[0m\u001b[0;34m)\u001b[0m\u001b[0;34m\u001b[0m\u001b[0m\n\u001b[0m\u001b[1;32m    111\u001b[0m         \u001b[0;32mexcept\u001b[0m \u001b[0mKeyError\u001b[0m\u001b[0;34m:\u001b[0m\u001b[0;34m\u001b[0m\u001b[0m\n\u001b[1;32m    112\u001b[0m             \u001b[0;32mpass\u001b[0m\u001b[0;34m\u001b[0m\u001b[0m\n",
      "\u001b[0;31mAttributeError\u001b[0m: 'netcdf_variable' object has no attribute 'units'"
     ]
    }
   ],
   "source": [
    "read_netcdf('dtw_historic_with_dates_netcdf3.nc')"
   ]
  },
  {
   "cell_type": "code",
   "execution_count": null,
   "metadata": {},
   "outputs": [],
   "source": []
  }
 ],
 "metadata": {
  "kernelspec": {
   "display_name": "Python 2.7",
   "language": "python",
   "name": "python2"
  },
  "language_info": {
   "codemirror_mode": {
    "name": "ipython",
    "version": 2
   },
   "file_extension": ".py",
   "mimetype": "text/x-python",
   "name": "python",
   "nbconvert_exporter": "python",
   "pygments_lexer": "ipython2",
   "version": "2.7.15"
  }
 },
 "nbformat": 4,
 "nbformat_minor": 2
}
